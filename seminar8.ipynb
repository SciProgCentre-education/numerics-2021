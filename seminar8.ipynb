{
 "cells": [
  {
   "cell_type": "markdown",
   "id": "631755b9",
   "metadata": {},
   "source": [
    "# Stationary Iterative Methods "
   ]
  },
  {
   "cell_type": "code",
   "execution_count": null,
   "id": "e5ca55f1",
   "metadata": {},
   "outputs": [],
   "source": [
    "import torch"
   ]
  },
  {
   "cell_type": "code",
   "execution_count": 62,
   "id": "79e945a5",
   "metadata": {},
   "outputs": [],
   "source": [
    "def generate_tridiagonal(n):\n",
    "    c = torch.tensor([-1,0,1]).repeat(n)\n",
    "    r = torch.arange(n).repeat_interleave(3)\n",
    "    cr = c + r\n",
    "    rows = r[1:-1]\n",
    "    cols = cr[1:-1]\n",
    "    vals = torch.tensor([-0.5, 5 ,-1.5]).repeat(n)[1:-1]\n",
    "    Ai = torch.stack([rows, cols])\n",
    "    A = torch.sparse_coo_tensor(Ai, vals, (n,n))\n",
    "    return A"
   ]
  },
  {
   "cell_type": "code",
   "execution_count": 78,
   "id": "c1c54300",
   "metadata": {},
   "outputs": [
    {
     "data": {
      "text/plain": [
       "tensor(indices=tensor([[0, 0, 1, 1, 1, 2, 2, 2, 3, 3, 3, 4, 4],\n",
       "                       [0, 1, 0, 1, 2, 1, 2, 3, 2, 3, 4, 3, 4]]),\n",
       "       values=tensor([ 5.0000, -1.5000, -0.5000,  5.0000, -1.5000, -0.5000,\n",
       "                       5.0000, -1.5000, -0.5000,  5.0000, -1.5000, -0.5000,\n",
       "                       5.0000]),\n",
       "       size=(5, 5), nnz=13, layout=torch.sparse_coo)"
      ]
     },
     "execution_count": 78,
     "metadata": {},
     "output_type": "execute_result"
    }
   ],
   "source": [
    "n = 5\n",
    "A = generate_tridiagonal(5)\n",
    "A"
   ]
  },
  {
   "cell_type": "code",
   "execution_count": 83,
   "id": "a73bad8c",
   "metadata": {},
   "outputs": [
    {
     "data": {
      "text/plain": [
       "tensor([[ 5.0000, -1.5000,  0.0000,  0.0000,  0.0000],\n",
       "        [-0.5000,  5.0000, -1.5000,  0.0000,  0.0000],\n",
       "        [ 0.0000, -0.5000,  5.0000, -1.5000,  0.0000],\n",
       "        [ 0.0000,  0.0000, -0.5000,  5.0000, -1.5000],\n",
       "        [ 0.0000,  0.0000,  0.0000, -0.5000,  5.0000]])"
      ]
     },
     "execution_count": 83,
     "metadata": {},
     "output_type": "execute_result"
    }
   ],
   "source": [
    "Ad = A.to_dense()\n",
    "Ad "
   ]
  },
  {
   "cell_type": "code",
   "execution_count": 84,
   "id": "765556da",
   "metadata": {},
   "outputs": [
    {
     "data": {
      "text/plain": [
       "tensor(2758.4375)"
      ]
     },
     "execution_count": 84,
     "metadata": {},
     "output_type": "execute_result"
    }
   ],
   "source": [
    "torch.linalg.det(Ad)"
   ]
  },
  {
   "cell_type": "code",
   "execution_count": 74,
   "id": "7238a572",
   "metadata": {},
   "outputs": [
    {
     "data": {
      "text/plain": [
       "tensor([[0.0000, 0.0005, 0.0000, 0.0000, 0.0000],\n",
       "        [0.0002, 0.0000, 0.0005, 0.0000, 0.0000],\n",
       "        [0.0000, 0.0002, 0.0000, 0.0005, 0.0000],\n",
       "        [0.0000, 0.0000, 0.0002, 0.0000, 0.0005],\n",
       "        [0.0000, 0.0000, 0.0000, 0.0002, 0.0000]])"
      ]
     },
     "execution_count": 74,
     "metadata": {},
     "output_type": "execute_result"
    }
   ],
   "source": [
    "sI = Ad.diagonal()\n",
    "B = torch.diag_embed(sI) - Ad\n",
    "B"
   ]
  },
  {
   "cell_type": "code",
   "execution_count": 75,
   "id": "5ffd964a",
   "metadata": {},
   "outputs": [
    {
     "data": {
      "text/plain": [
       "tensor([0.0018, 0.0018, 0.0018, 0.0018, 0.0018])"
      ]
     },
     "execution_count": 75,
     "metadata": {},
     "output_type": "execute_result"
    }
   ],
   "source": [
    "sI"
   ]
  },
  {
   "cell_type": "code",
   "execution_count": 76,
   "id": "c8343f65",
   "metadata": {},
   "outputs": [
    {
     "data": {
      "text/plain": [
       "tensor(0.0005)"
      ]
     },
     "execution_count": 76,
     "metadata": {},
     "output_type": "execute_result"
    }
   ],
   "source": [
    "rho = torch.linalg.eigvals(B).abs().max()\n",
    "rho"
   ]
  }
 ],
 "metadata": {
  "kernelspec": {
   "display_name": "Python 3 (ipykernel)",
   "language": "python",
   "name": "python3"
  },
  "language_info": {
   "codemirror_mode": {
    "name": "ipython",
    "version": 3
   },
   "file_extension": ".py",
   "mimetype": "text/x-python",
   "name": "python",
   "nbconvert_exporter": "python",
   "pygments_lexer": "ipython3",
   "version": "3.9.7"
  }
 },
 "nbformat": 4,
 "nbformat_minor": 5
}
