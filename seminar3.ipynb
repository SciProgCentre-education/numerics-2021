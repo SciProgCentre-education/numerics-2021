{
 "cells": [
  {
   "cell_type": "markdown",
   "id": "42506030",
   "metadata": {},
   "source": [
    "# More on SVD ...\n",
    "\n",
    "References for Golub and Khan SVD algorithm:\n",
    "* [Stanford notes](https://web.stanford.edu/class/cme335/lecture6.pdf)\n",
    "* [Numerical recipes C implementation](https://github.com/JohnWStockwellJr/SeisUnix/blob/master/src/cwp/lib/svd.c)\n"
   ]
  },
  {
   "cell_type": "code",
   "execution_count": 11,
   "id": "83811b47",
   "metadata": {},
   "outputs": [
    {
     "data": {
      "text/plain": [
       "tensor([[ 2.4646, -0.3774, -0.9269,  1.5665, -0.7283],\n",
       "        [-0.3774,  2.8627,  0.6433,  0.0870,  0.4456],\n",
       "        [-0.9269,  0.6433, -1.6502,  1.3867,  0.8651],\n",
       "        [ 1.5665,  0.0870,  1.3867,  2.3124, -0.1294],\n",
       "        [-0.7283,  0.4456,  0.8651, -0.1294, -0.2182]])"
      ]
     },
     "execution_count": 11,
     "metadata": {},
     "output_type": "execute_result"
    }
   ],
   "source": [
    "import torch\n",
    "A_ = torch.randn(5, 5)\n",
    "A = A_ + A_.t()\n",
    "A"
   ]
  },
  {
   "cell_type": "code",
   "execution_count": 20,
   "id": "97fe92a2",
   "metadata": {},
   "outputs": [
    {
     "data": {
      "text/plain": [
       "tensor([-2.6715, -0.4328,  1.5487,  3.2105,  4.1165])"
      ]
     },
     "execution_count": 20,
     "metadata": {},
     "output_type": "execute_result"
    }
   ],
   "source": [
    "eigenvals, eigenvectors = torch.linalg.eigh(A, 'L')\n",
    "eigenvals"
   ]
  },
  {
   "cell_type": "code",
   "execution_count": 21,
   "id": "59807ec3",
   "metadata": {},
   "outputs": [
    {
     "data": {
      "text/plain": [
       "tensor([[-0.2167, -0.3538,  0.5451,  0.0256, -0.7281],\n",
       "        [ 0.0627,  0.0942,  0.4579, -0.8460,  0.2486],\n",
       "        [-0.8848, -0.0919, -0.3688, -0.2688,  0.0224],\n",
       "        [ 0.3198,  0.2028, -0.5429, -0.4284, -0.6152],\n",
       "        [ 0.2531, -0.9035, -0.2500, -0.1670,  0.1707]])"
      ]
     },
     "execution_count": 21,
     "metadata": {},
     "output_type": "execute_result"
    }
   ],
   "source": [
    "eigenvectors"
   ]
  },
  {
   "cell_type": "code",
   "execution_count": 23,
   "id": "b27fdeb4",
   "metadata": {},
   "outputs": [
    {
     "data": {
      "text/plain": [
       "tensor(3.2437e-06)"
      ]
     },
     "execution_count": 23,
     "metadata": {},
     "output_type": "execute_result"
    }
   ],
   "source": [
    "torch.dist(A, eigenvectors @ eigenvals.diag_embed() @ eigenvectors.t())"
   ]
  },
  {
   "cell_type": "markdown",
   "id": "4950fa61",
   "metadata": {},
   "source": [
    "### Exercise\n",
    "**(1)** Compute the SVD decomposition of a real symmetric matrix using the eigendecomposition\n",
    "**(2)** and vice-versa ..."
   ]
  }
 ],
 "metadata": {
  "kernelspec": {
   "display_name": "Python 3 (ipykernel)",
   "language": "python",
   "name": "python3"
  },
  "language_info": {
   "codemirror_mode": {
    "name": "ipython",
    "version": 3
   },
   "file_extension": ".py",
   "mimetype": "text/x-python",
   "name": "python",
   "nbconvert_exporter": "python",
   "pygments_lexer": "ipython3",
   "version": "3.8.11"
  }
 },
 "nbformat": 4,
 "nbformat_minor": 5
}
