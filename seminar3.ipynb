{
  "cells":[
    {
      "cell_type":"markdown",
      "source":[
        "# More on SVD ...\n",
        "\n",
        "References for Golub and Kahan SVD algorithm:\n",
        "* [Stanford notes](https:\/\/web.stanford.edu\/class\/cme335\/lecture6.pdf)\n",
        "* [Numerical recipes C implementation](https:\/\/github.com\/JohnWStockwellJr\/SeisUnix\/blob\/master\/src\/cwp\/lib\/svd.c)"
      ],
      "attachments":{
        
      },
      "metadata":{
        
      }
    },
    {
      "cell_type":"code",
      "source":[
        "import torch\n",
        "print(torch.__config__.show())\n",
        "print(torch.__config__.parallel_info())"
      ],
      "execution_count":2,
      "outputs":[
        {
          "name":"stdout",
          "text":[
            "PyTorch built with:\n",
            "  - GCC 7.3\n",
            "  - C++ Version: 201402\n",
            "  - Intel(R) Math Kernel Library Version 2020.0.0 Product Build 20191122 for Intel(R) 64 architecture applications\n",
            "  - Intel(R) MKL-DNN v1.7.0 (Git Hash 7aed236906b1f7a05c0917e5257a1af05e9ff683)\n",
            "  - OpenMP 201511 (a.k.a. OpenMP 4.5)\n",
            "  - NNPACK is enabled\n",
            "  - CPU capability usage: AVX2\n",
            "  - CUDA Runtime 11.1\n",
            "  - NVCC architecture flags: -gencode;arch=compute_37,code=sm_37;-gencode;arch=compute_50,code=sm_50;-gencode;arch=compute_60,code=sm_60;-gencode;arch=compute_70,code=sm_70;-gencode;arch=compute_75,code=sm_75;-gencode;arch=compute_80,code=sm_80;-gencode;arch=compute_86,code=sm_86\n",
            "  - CuDNN 8.0.5\n",
            "  - Magma 2.5.2\n",
            "  - Build settings: BLAS_INFO=mkl, BUILD_TYPE=Release, CUDA_VERSION=11.1, CUDNN_VERSION=8.0.5, CXX_COMPILER=\/opt\/rh\/devtoolset-7\/root\/usr\/bin\/c++, CXX_FLAGS= -Wno-deprecated -fvisibility-inlines-hidden -DUSE_PTHREADPOOL -fopenmp -DNDEBUG -DUSE_KINETO -DUSE_FBGEMM -DUSE_QNNPACK -DUSE_PYTORCH_QNNPACK -DUSE_XNNPACK -O2 -fPIC -Wno-narrowing -Wall -Wextra -Werror=return-type -Wno-missing-field-initializers -Wno-type-limits -Wno-array-bounds -Wno-unknown-pragmas -Wno-sign-compare -Wno-unused-parameter -Wno-unused-variable -Wno-unused-function -Wno-unused-result -Wno-unused-local-typedefs -Wno-strict-overflow -Wno-strict-aliasing -Wno-error=deprecated-declarations -Wno-stringop-overflow -Wno-psabi -Wno-error=pedantic -Wno-error=redundant-decls -Wno-error=old-style-cast -fdiagnostics-color=always -faligned-new -Wno-unused-but-set-variable -Wno-maybe-uninitialized -fno-math-errno -fno-trapping-math -Werror=format -Wno-stringop-overflow, LAPACK_INFO=mkl, PERF_WITH_AVX=1, PERF_WITH_AVX2=1, PERF_WITH_AVX512=1, TORCH_VERSION=1.8.0, USE_CUDA=ON, USE_CUDNN=ON, USE_EXCEPTION_PTR=1, USE_GFLAGS=OFF, USE_GLOG=OFF, USE_MKL=ON, USE_MKLDNN=ON, USE_MPI=OFF, USE_NCCL=ON, USE_NNPACK=ON, USE_OPENMP=ON, \n",
            "\n",
            "ATen\/Parallel:\n",
            "\tat::get_num_threads() : 2\n",
            "\tat::get_num_interop_threads() : 2\n",
            "OpenMP 201511 (a.k.a. OpenMP 4.5)\n",
            "\tomp_get_max_threads() : 2\n",
            "Intel(R) Math Kernel Library Version 2020.0.0 Product Build 20191122 for Intel(R) 64 architecture applications\n",
            "\tmkl_get_max_threads() : 2\n",
            "Intel(R) MKL-DNN v1.7.0 (Git Hash 7aed236906b1f7a05c0917e5257a1af05e9ff683)\n",
            "std::thread::hardware_concurrency() : 4\n",
            "Environment variables:\n",
            "\tOMP_NUM_THREADS : [not set]\n",
            "\tMKL_NUM_THREADS : [not set]\n",
            "ATen parallel backend: OpenMP\n",
            "\n"
          ],
          "output_type":"stream"
        }
      ],
      "metadata":{
        
      }
    },
    {
      "cell_type":"code",
      "source":[
        "def gen_sym(N=5):\n",
        "    A = torch.randn(N, N) \n",
        "    return A + A.t()"
      ],
      "execution_count":43,
      "outputs":[
        
      ],
      "metadata":{
        
      }
    },
    {
      "cell_type":"code",
      "source":[
        "A = gen_sym()\n",
        "eigenvals, eigenvectors = torch.linalg.eigh(A, 'L')\n",
        "eigenvals"
      ],
      "execution_count":47,
      "outputs":[
        {
          "data":{
            "text\/plain":[
              "tensor([-5.6659, -3.2395,  0.0387,  1.6090,  2.6737])"
            ]
          },
          "metadata":{
            
          },
          "output_type":"display_data"
        }
      ],
      "metadata":{
        
      }
    },
    {
      "cell_type":"code",
      "source":[
        "eigenvectors"
      ],
      "execution_count":48,
      "outputs":[
        {
          "data":{
            "text\/plain":[
              "tensor([[-0.2146, -0.5328, -0.1870, -0.6787,  0.4177],\n",
              "        [ 0.1170,  0.1451,  0.6996, -0.5766, -0.3784],\n",
              "        [-0.7115,  0.3684,  0.3771,  0.1096,  0.4514],\n",
              "        [ 0.3469, -0.5084,  0.5700,  0.3751,  0.3945],\n",
              "        [-0.5601, -0.5485,  0.0918,  0.2326, -0.5682]])"
            ]
          },
          "metadata":{
            
          },
          "output_type":"display_data"
        }
      ],
      "metadata":{
        
      }
    },
    {
      "cell_type":"code",
      "source":[
        "torch.dist(A, eigenvectors @ eigenvals.diag_embed() @ eigenvectors.t())"
      ],
      "execution_count":49,
      "outputs":[
        {
          "data":{
            "text\/plain":[
              "tensor(2.9557e-06)"
            ]
          },
          "metadata":{
            
          },
          "output_type":"display_data"
        }
      ],
      "metadata":{
        
      }
    },
    {
      "cell_type":"code",
      "source":[
        "A = gen_sym(1000)"
      ],
      "execution_count":44,
      "outputs":[
        
      ],
      "metadata":{
        
      }
    },
    {
      "cell_type":"code",
      "source":[
        "%timeit torch.linalg.eigh(A)"
      ],
      "execution_count":45,
      "outputs":[
        {
          "name":"stdout",
          "text":[
            "69.1 ms ± 237 µs per loop (mean ± std. dev. of 7 runs, 10 loops each)\n"
          ],
          "output_type":"stream"
        }
      ],
      "metadata":{
        
      }
    },
    {
      "cell_type":"code",
      "source":[
        "%timeit torch.linalg.svd(A)"
      ],
      "execution_count":46,
      "outputs":[
        {
          "name":"stdout",
          "text":[
            "220 ms ± 2.01 ms per loop (mean ± std. dev. of 7 runs, 1 loop each)\n"
          ],
          "output_type":"stream"
        }
      ],
      "metadata":{
        
      }
    },
    {
      "cell_type":"markdown",
      "source":[
        "### Exercise\n",
        "\n",
        "**(1)** Compute the SVD decomposition of a real symmetric matrix using the eigendecomposition \n",
        "\n",
        "**(2)** and vice-versa ..."
      ],
      "attachments":{
        
      },
      "metadata":{
        
      }
    }
  ],
  "metadata":{
    
  },
  "nbformat":4,
  "nbformat_minor":0
}