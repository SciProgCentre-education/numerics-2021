{
 "cells": [
  {
   "cell_type": "markdown",
   "id": "74bb1e48",
   "metadata": {},
   "source": [
    "# Modelling cross sections\n",
    "\n",
    "### Writing C++ extensions\n",
    "\n",
    "```cpp\n",
    "//cpp_intro.cc file\n",
    "\n",
    "#include <torch/extension.h>\n",
    "\n",
    "torch::Tensor get_rotations(const torch::Tensor &thetas) {\n",
    "    const auto f = thetas.flatten();\n",
    "    const auto n = f.numel();\n",
    "    const auto c = torch::cos(f);\n",
    "    const auto s = torch::sin(f);\n",
    "    return torch::stack({c, -s, s, c}).t().view({n, 2, 2});\n",
    "}\n",
    "\n",
    "PYBIND11_MODULE(TORCH_EXTENSION_NAME, m) {\n",
    "    m.def(\"get_rotations\", &get_rotations, py::call_guard<py::gil_scoped_release>(),\n",
    "          \"Generate 2D rotations given angles thetas\");\n",
    "}\n",
    "```"
   ]
  },
  {
   "cell_type": "code",
   "execution_count": 2,
   "id": "689e4b01",
   "metadata": {},
   "outputs": [],
   "source": [
    "import torch\n",
    "from torch.utils.cpp_extension import load"
   ]
  },
  {
   "cell_type": "markdown",
   "id": "6da743f5",
   "metadata": {},
   "source": [
    "If you are on Google Colab execute:\n",
    "```\n",
    "!pip install Ninja\n",
    "!add-apt-repository ppa:ubuntu-toolchain-r/test -y\n",
    "!apt update\n",
    "!apt upgrade -y\n",
    "!apt install gcc-9 g++-9\n",
    "!update-alternatives --install /usr/bin/gcc gcc /usr/bin/gcc-9 100 --slave /usr/bin/g++ g++ /usr/bin/g++-9\n",
    "```\n",
    "\n",
    "If on Datalore:\n",
    "```\n",
    "!pip install Ninja\n",
    "!sudo apt-get update && sudo apt-get install cuda-nvcc-11-2\n",
    "\n",
    "```\n",
    "\n",
    "Check installation:"
   ]
  },
  {
   "cell_type": "code",
   "execution_count": null,
   "id": "a9440ee8",
   "metadata": {},
   "outputs": [],
   "source": [
    "!gcc --version\n",
    "!g++ --version\n",
    "!nvcc --version"
   ]
  },
  {
   "cell_type": "code",
   "execution_count": 3,
   "id": "197bce7e",
   "metadata": {},
   "outputs": [],
   "source": [
    "!mkdir -p build"
   ]
  },
  {
   "cell_type": "code",
   "execution_count": 4,
   "id": "6b54f215",
   "metadata": {},
   "outputs": [],
   "source": [
    "cpp_intro = load(name='cpp_intro',\n",
    "             build_directory='./build',\n",
    "             sources=['cpp_intro.cc'],\n",
    "             extra_cflags=['-Wall -Wextra -Wpedantic -O3 -std=c++17'],\n",
    "             verbose=False)"
   ]
  },
  {
   "cell_type": "code",
   "execution_count": 5,
   "id": "1d5b2f4a",
   "metadata": {},
   "outputs": [
    {
     "data": {
      "text/plain": [
       "tensor([[[ 0.9998,  0.0180],\n",
       "         [-0.0180,  0.9998]],\n",
       "\n",
       "        [[ 1.0000,  0.0088],\n",
       "         [-0.0088,  1.0000]],\n",
       "\n",
       "        [[ 0.9982,  0.0606],\n",
       "         [-0.0606,  0.9982]]])"
      ]
     },
     "execution_count": 5,
     "metadata": {},
     "output_type": "execute_result"
    }
   ],
   "source": [
    "N = 3\n",
    "PI = 2. * torch.acos(torch.tensor(0.))\n",
    "thetas = 0.05 * PI * (torch.rand(N) - 0.5) # example of angles in radians\n",
    "rots = cpp_intro.get_rotations(thetas)\n",
    "rots"
   ]
  },
  {
   "cell_type": "code",
   "execution_count": 6,
   "id": "66c77a3c",
   "metadata": {},
   "outputs": [
    {
     "data": {
      "text/plain": [
       "tensor(1.1921e-07)"
      ]
     },
     "execution_count": 6,
     "metadata": {},
     "output_type": "execute_result"
    }
   ],
   "source": [
    "(rots.matmul(rots.transpose(-1,-2)) - torch.eye(2)).abs().sum()"
   ]
  },
  {
   "cell_type": "markdown",
   "id": "5e90bdfa",
   "metadata": {},
   "source": [
    "### Bremsstrahlung\n",
    "\n",
    "Bremsstrahlung process corresponds to radiation due to deceleration when two charged particles interact. We will consider here the example of muons. At high energies ($E \\geq 1$\n",
    "TeV) this process contributes to about 40% of the average muon energy loss.\n",
    "\n",
    "* D. Groom et. al. [Muon stopping power and range tables 10 MeV - 100 TeV](https://pdg.lbl.gov/2014/AtomicNuclearProperties/adndt.pdf)\n",
    "\n",
    "##### Input:\n",
    "   * $K$ - The projectile initial kinetic energy, in GeV\n",
    "   * $q$ - The kinetic energy lost to the photon, in GeV\n",
    "   * $A$ - The mass number of the target atom, in g/mol\n",
    "   * $Z$ - The charge number of the target atom.\n",
    "   * $m_\\mu$ - muon rest mass $0.10565839$ GeV\n",
    "   \n",
    "##### Output\n",
    "   The DCS (differential cross-section) in $\\text{m}^{2}$/kg:\n",
    "   \n",
    "\\begin{equation}\n",
    "\\frac{\\text{d}\\sigma}{\\text{d}q} = \\alpha Z(2\\frac{m_e}{m_\\mu})^{2}(\\frac{4}{3}(\\frac{1}{\\nu} - 1) + \\nu)(\\Phi_\\text{in}(\\delta) + Z\\Phi_n(\\delta) ) \\frac{N_a}{A \\cdot 10^{-3}}\n",
    "\\end{equation}\n",
    "\n",
    "Here:\n",
    "\n",
    "\\begin{equation}\n",
    "E = K + m_\\mu\n",
    "\\end{equation}\n",
    "\n",
    "and:\n",
    "\n",
    "* $\\nu = \\frac{q}{E}$ is the fraction of the muon's energy transferred to the photon\n",
    "* $N_a$ the Avogadro number $6.02214199 \\cdot 10^{23} \\text{mol}^{-1}$\n",
    "* $m_e$ electron rest mass $0.51099891003 \\cdot 10^{-3}$ GeV\n",
    "* $\\alpha$ fine structure constant $1/137.03599976$\n",
    "\n",
    "We have the contribution from (screened) nucleus:\n",
    "\n",
    "\\begin{equation}\n",
    "\\Phi_n(\\delta) = \\ln \\left( \\frac{BZ^{\\frac{-1}{3}}(m_\\mu + \\delta(D_n\\sqrt{e} - 2))}{(m_e + \\delta \\sqrt{e}BZ^{\\frac{-1}{3}})D_n} \\right),\n",
    "\\end{equation}\n",
    "\n",
    "where $D_n = 1.54A^{0.27}$ , $B = 182.7$ ($B = 202.4$ for hygrogen), the exponential $e = 2.7181...$ \n",
    "\n",
    "and the contributions from atomic electrons:\n",
    "\\begin{equation}\n",
    "\\Phi_\\text{in}(\\delta) = \\ln \\left( \\frac{m_\\mu BZ^{-2/3} \\sqrt{e}}{(m_e + \\delta  BZ^{-2/3} \\sqrt{e})(\\frac{m_\\mu \\delta}{m_e^{2}} + \\sqrt{e})} \\right),\n",
    "\\end{equation}\n",
    "\n",
    "where $B = 1429$ ($B = 446$ for hygrogen). \n",
    "\n",
    "Both are evaluated at: \n",
    "\n",
    "\\begin{equation}\n",
    "\\delta = \\frac{m_\\mu^{2}\\nu}{2E(1 - \\nu)}\n",
    "\\end{equation}"
   ]
  },
  {
   "cell_type": "code",
   "execution_count": 7,
   "id": "21e23a3d",
   "metadata": {},
   "outputs": [
    {
     "name": "stdout",
     "output_type": "stream",
     "text": [
      "Cloning into 'noa'...\n",
      "remote: Enumerating objects: 2469, done.\u001b[K\n",
      "remote: Counting objects: 100% (517/517), done.\u001b[K\n",
      "remote: Compressing objects: 100% (310/310), done.\u001b[K\n",
      "remote: Total 2469 (delta 302), reused 366 (delta 198), pack-reused 1952\u001b[K\n",
      "Receiving objects: 100% (2469/2469), 22.74 MiB | 461.00 KiB/s, done.\n",
      "Resolving deltas: 100% (1488/1488), done.\n"
     ]
    }
   ],
   "source": [
    "!git clone https://github.com/grinisrit/noa.git"
   ]
  },
  {
   "cell_type": "code",
   "execution_count": 9,
   "id": "cc6b8d3c",
   "metadata": {},
   "outputs": [],
   "source": [
    "noa_location = 'noa'"
   ]
  },
  {
   "cell_type": "code",
   "execution_count": 13,
   "id": "285a47c2",
   "metadata": {},
   "outputs": [],
   "source": [
    "muons = load(name='muons',\n",
    "             build_directory='./build',\n",
    "             sources=['muons.cc'],\n",
    "             extra_include_paths=[f'{noa_location}/include'],\n",
    "             extra_cflags=['-Wall -Wextra -Wpedantic -O3 -std=c++17'],\n",
    "             verbose=False)"
   ]
  },
  {
   "cell_type": "code",
   "execution_count": 14,
   "id": "6c3c3031",
   "metadata": {},
   "outputs": [],
   "source": [
    "muons_cuda = load(name='muons_cuda',\n",
    "             build_directory='./build',       \n",
    "             sources=['muons.cu'],\n",
    "             extra_include_paths=[f'{noa_location}/include'],\n",
    "             extra_cflags=['-Wall -Wextra -Wpedantic -O3 -std=c++17'],\n",
    "             extra_cuda_cflags=['-std=c++17 --extended-lambda'],\n",
    "             verbose=False) if torch.cuda.is_available() else None"
   ]
  },
  {
   "cell_type": "code",
   "execution_count": 15,
   "id": "4ecaf74e",
   "metadata": {},
   "outputs": [],
   "source": [
    "kinetic_energies = torch.linspace(1e-3, 1e6, 10000).double()\n",
    "recoil_energies = 0.0505 * kinetic_energies"
   ]
  },
  {
   "cell_type": "code",
   "execution_count": 16,
   "id": "bb2cda0c",
   "metadata": {},
   "outputs": [],
   "source": [
    "def check_input(tensor, device = torch.device('cpu')):\n",
    "    assert tensor.dtype == torch.float64\n",
    "    assert tensor.is_contiguous()\n",
    "    assert tensor.dim() == 1\n",
    "    assert tensor.device == device"
   ]
  },
  {
   "cell_type": "code",
   "execution_count": 17,
   "id": "5a1b5bc6",
   "metadata": {},
   "outputs": [],
   "source": [
    "check_input(kinetic_energies)"
   ]
  },
  {
   "cell_type": "code",
   "execution_count": 18,
   "id": "af99524e",
   "metadata": {
    "scrolled": true
   },
   "outputs": [
    {
     "data": {
      "text/plain": [
       "tensor([3.5293e-04, 3.9395e-06, 4.0777e-06, 4.1341e-06, 4.1650e-06],\n",
       "       dtype=torch.float64)"
      ]
     },
     "execution_count": 18,
     "metadata": {},
     "output_type": "execute_result"
    }
   ],
   "source": [
    "brems = muons.bremsstrahlung_dcs(kinetic_energies, recoil_energies)\n",
    "brems[:5]"
   ]
  },
  {
   "cell_type": "code",
   "execution_count": 19,
   "id": "ddd941f9",
   "metadata": {},
   "outputs": [],
   "source": [
    "kinetic_energies_gpu = kinetic_energies.cuda()\n",
    "recoil_energies_gpu = recoil_energies.cuda()"
   ]
  },
  {
   "cell_type": "code",
   "execution_count": 20,
   "id": "d3b4e05d",
   "metadata": {},
   "outputs": [],
   "source": [
    "check_input(kinetic_energies_gpu, torch.device('cuda:0'))"
   ]
  },
  {
   "cell_type": "code",
   "execution_count": 21,
   "id": "aef129b1",
   "metadata": {},
   "outputs": [
    {
     "data": {
      "text/plain": [
       "tensor([3.5293e-04, 3.9395e-06, 4.0777e-06, 4.1341e-06, 4.1650e-06],\n",
       "       device='cuda:0', dtype=torch.float64)"
      ]
     },
     "execution_count": 21,
     "metadata": {},
     "output_type": "execute_result"
    }
   ],
   "source": [
    "brems_gpu = muons_cuda.bremsstrahlung_dcs(kinetic_energies_gpu, recoil_energies_gpu);\n",
    "brems_gpu[:5]"
   ]
  },
  {
   "cell_type": "code",
   "execution_count": 22,
   "id": "25653364",
   "metadata": {},
   "outputs": [
    {
     "name": "stdout",
     "output_type": "stream",
     "text": [
      "269 µs ± 2.53 µs per loop (mean ± std. dev. of 7 runs, 1000 loops each)\n"
     ]
    }
   ],
   "source": [
    "%timeit muons.bremsstrahlung_dcs(kinetic_energies, recoil_energies)"
   ]
  },
  {
   "cell_type": "code",
   "execution_count": 23,
   "id": "feaf329c",
   "metadata": {},
   "outputs": [
    {
     "name": "stdout",
     "output_type": "stream",
     "text": [
      "155 µs ± 5.12 µs per loop (mean ± std. dev. of 7 runs, 10000 loops each)\n"
     ]
    }
   ],
   "source": [
    "%timeit muons_cuda.bremsstrahlung_dcs(kinetic_energies_gpu, recoil_energies_gpu)"
   ]
  },
  {
   "cell_type": "markdown",
   "id": "42f87164",
   "metadata": {},
   "source": [
    "### Modelling high energy DCS\n",
    "\n",
    "An interpolation model in $\\tau = q/K$ is used for $K \\geq 10$ GeV and $0.05 \\leq \\tau \\leq 0.95$. For Bremsstrahlung we re-write:\n",
    "\n",
    "\\begin{equation}\n",
    "\\frac{K}{E} \\frac{\\text{d}\\sigma}{\\text{d}q} = \\frac{K \\alpha Z}{q}(2\\frac{m_e}{m_\\mu})^{2}(\\frac{4}{3}(1 - \\nu) + \\nu^2)(\\Phi_\\text{in}(\\delta) + Z\\Phi_n(\\delta) ) \\frac{N_a}{A \\cdot 10^{-3}}\n",
    "\\end{equation}\n",
    "\n",
    "Setting $X=\\ln(\\tau)$ and $Y=\\ln(1-\\tau)$, we fit the model:\n",
    "\\begin{equation}\n",
    "\\ln \\left( \\frac{K}{E} \\frac{\\text{d}\\sigma}{\\text{d}q} \\right) = \\sum_{i=0}^{6} a_i X^i + b_1 Y + b_2 Y^2\n",
    "\\end{equation}"
   ]
  },
  {
   "cell_type": "markdown",
   "id": "a9441b1b",
   "metadata": {},
   "source": [
    "### Exercises\n",
    "\n",
    "**(1)** Implement the Bremsstrahlung formula (taking performance into consideration)\n",
    "\n",
    "**(2)** Fit the polynomial model for the kinetic energies below. How could you improve it?"
   ]
  },
  {
   "cell_type": "code",
   "execution_count": 21,
   "id": "0c256ac2",
   "metadata": {},
   "outputs": [],
   "source": [
    "K = torch.linspace(10, 1e6, 5).double()"
   ]
  }
 ],
 "metadata": {
  "kernelspec": {
   "display_name": "Python 3 (ipykernel)",
   "language": "python",
   "name": "python3"
  },
  "language_info": {
   "codemirror_mode": {
    "name": "ipython",
    "version": 3
   },
   "file_extension": ".py",
   "mimetype": "text/x-python",
   "name": "python",
   "nbconvert_exporter": "python",
   "pygments_lexer": "ipython3",
   "version": "3.8.11"
  }
 },
 "nbformat": 4,
 "nbformat_minor": 5
}
