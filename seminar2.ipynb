{
  "cells":[
    {
      "cell_type":"markdown",
      "source":[
        "# Modelling Differential Cross Sections (DCS)\n",
        "\n",
        "### Writing C++ extensions\n",
        "\n",
        "```cpp\n",
        "\/\/cpp_intro.cc file\n",
        "\n",
        "#include <torch\/extension.h>\n",
        "\n",
        "torch::Tensor get_rotations(const torch::Tensor &thetas) {\n",
        "    const auto f = thetas.flatten();\n",
        "    const auto n = f.numel();\n",
        "    const auto c = torch::cos(f);\n",
        "    const auto s = torch::sin(f);\n",
        "    return torch::stack({c, -s, s, c}).t().view({n, 2, 2});\n",
        "}\n",
        "\n",
        "PYBIND11_MODULE(TORCH_EXTENSION_NAME, m) {\n",
        "    m.def(\"get_rotations\", &get_rotations, py::call_guard<py::gil_scoped_release>(),\n",
        "          \"Generate 2D rotations given angles thetas\");\n",
        "}\n",
        "```\n",
        "\n",
        "More info:\n",
        "* [PyTorch C++ tutorial](https:\/\/pytorch.org\/tutorials\/advanced\/cpp_extension.html)\n",
        "* [Pybind11 docs](https:\/\/pybind11.readthedocs.io\/en\/stable\/basics.html)"
      ],
      "attachments":{
        
      },
      "metadata":{
        
      }
    },
    {
      "cell_type":"code",
      "source":[
        "import torch\n",
        "from torch.utils.cpp_extension import load\n",
        "import math\n",
        "from numba import njit, double, int32\n",
        "import matplotlib.pyplot as plt"
      ],
      "execution_count":21,
      "outputs":[
        
      ],
      "metadata":{
        
      }
    },
    {
      "cell_type":"markdown",
      "source":[
        "If you are on Google Colab execute:\n",
        "```\n",
        "!pip install Ninja\n",
        "!add-apt-repository ppa:ubuntu-toolchain-r\/test -y\n",
        "!apt update\n",
        "!apt upgrade -y\n",
        "!apt install gcc-9 g++-9\n",
        "!update-alternatives --install \/usr\/bin\/gcc gcc \/usr\/bin\/gcc-9 100 --slave \/usr\/bin\/g++ g++ \/usr\/bin\/g++-9\n",
        "```\n",
        "\n",
        "If you are on Datalore:\n",
        "```\n",
        "!pip install Ninja\n",
        "!sudo apt-get update && sudo apt-get install cuda-nvcc-11-2 -y\n",
        "\n",
        "```\n",
        "\n",
        "Check the installation:"
      ],
      "attachments":{
        
      },
      "metadata":{
        
      }
    },
    {
      "cell_type":"code",
      "source":[
        "!gcc --version\n",
        "!g++ --version\n",
        "!nvcc --version"
      ],
      "execution_count":5,
      "outputs":[
        {
          "name":"stdout",
          "text":[
            "gcc (Ubuntu 9.3.0-17ubuntu1~20.04) 9.3.0\r\n",
            "Copyright (C) 2019 Free Software Foundation, Inc.\r\n",
            "This is free software; see the source for copying conditions.  There is NO\r\n",
            "warranty; not even for MERCHANTABILITY or FITNESS FOR A PARTICULAR PURPOSE.\r\n",
            "\r\n",
            "g++ (Ubuntu 9.3.0-17ubuntu1~20.04) 9.3.0\r\n",
            "Copyright (C) 2019 Free Software Foundation, Inc.\r\n",
            "This is free software; see the source for copying conditions.  There is NO\r\n",
            "warranty; not even for MERCHANTABILITY or FITNESS FOR A PARTICULAR PURPOSE.\r\n",
            "\r\n",
            "nvcc: NVIDIA (R) Cuda compiler driver\r\n",
            "Copyright (c) 2005-2021 NVIDIA Corporation\r\n",
            "Built on Sun_Feb_14_21:12:58_PST_2021\r\n",
            "Cuda compilation tools, release 11.2, V11.2.152\r\n",
            "Build cuda_11.2.r11.2\/compiler.29618528_0\r\n"
          ],
          "output_type":"stream"
        }
      ],
      "metadata":{
        
      }
    },
    {
      "cell_type":"code",
      "source":[
        "!mkdir -p build"
      ],
      "execution_count":6,
      "outputs":[
        
      ],
      "metadata":{
        
      }
    },
    {
      "cell_type":"code",
      "source":[
        "cpp_intro = load(name='cpp_intro',\n",
        "             build_directory='.\/build',\n",
        "             sources=['cpp_intro.cc'],\n",
        "             extra_cflags=['-Wall -Wextra -Wpedantic -O3 -std=c++17'],\n",
        "             verbose=False)"
      ],
      "execution_count":7,
      "outputs":[
        
      ],
      "metadata":{
        
      }
    },
    {
      "cell_type":"code",
      "source":[
        "N = 3\n",
        "PI = 2. * torch.acos(torch.tensor(0.))\n",
        "thetas = 0.05 * PI * (torch.rand(N) - 0.5) # example of angles in radians\n",
        "rots = cpp_intro.get_rotations(thetas)\n",
        "rots"
      ],
      "execution_count":8,
      "outputs":[
        {
          "data":{
            "text\/plain":[
              "tensor([[[ 9.9774e-01,  6.7158e-02],\n",
              "         [-6.7158e-02,  9.9774e-01]],\n",
              "\n",
              "        [[ 1.0000e+00,  2.7296e-04],\n",
              "         [-2.7296e-04,  1.0000e+00]],\n",
              "\n",
              "        [[ 9.9947e-01,  3.2567e-02],\n",
              "         [-3.2567e-02,  9.9947e-01]]])"
            ]
          },
          "metadata":{
            
          },
          "output_type":"display_data"
        }
      ],
      "metadata":{
        
      }
    },
    {
      "cell_type":"code",
      "source":[
        "(rots.matmul(rots.transpose(-1,-2)) - torch.eye(2)).abs().sum()"
      ],
      "execution_count":9,
      "outputs":[
        {
          "data":{
            "text\/plain":[
              "tensor(1.1921e-07)"
            ]
          },
          "metadata":{
            
          },
          "output_type":"display_data"
        }
      ],
      "metadata":{
        
      }
    },
    {
      "cell_type":"markdown",
      "source":[
        "### Bremsstrahlung\n",
        "\n",
        "Bremsstrahlung process corresponds to radiation due to deceleration when two charged particles interact. We will consider here the example of muons. At high energies ($E \\geq 1$\n",
        "TeV) this process contributes to about 40% of the average muon energy loss.\n",
        "\n",
        "* D. Groom et. al. [Muon stopping power and range tables 10 MeV - 100 TeV](https:\/\/pdg.lbl.gov\/2014\/AtomicNuclearProperties\/adndt.pdf)\n",
        "\n",
        "Thanks to Danila Ryazanov for presenting this formula.\n",
        "\n",
        "##### Input:\n",
        "   * $K$ - The projectile initial kinetic energy, in GeV\n",
        "   * $q$ - The kinetic energy lost to the photon, in GeV\n",
        "   * $A$ - The mass number of the target atom, in g\/mol\n",
        "   * $Z$ - The charge number of the target atom.\n",
        "   * $m_\\mu$ - muon rest mass $0.10565839$ GeV\n",
        "   \n",
        "##### Output\n",
        "   The DCS (differential cross-section) in $\\text{m}^{2}$\/kg:\n",
        "   \n",
        "\\begin{equation}\n",
        "\\frac{\\text{d}\\sigma}{\\text{d}q} = \\alpha Z(2\\frac{m_e}{m_\\mu})^{2}(\\frac{4}{3}(\\frac{1}{\\nu} - 1) + \\nu)(\\Phi_\\text{in}(\\delta) + Z\\Phi_n(\\delta) ) \\frac{N_a}{A \\cdot 10^{-3}}\n",
        "\\end{equation}\n",
        "\n",
        "Here:\n",
        "\n",
        "\\begin{equation}\n",
        "E = K + m_\\mu\n",
        "\\end{equation}\n",
        "\n",
        "and:\n",
        "\n",
        "* $\\nu = \\frac{q}{E}$ is the fraction of the muon's energy transferred to the photon\n",
        "* $N_a$ the Avogadro number $6.02214199 \\cdot 10^{23} \\text{mol}^{-1}$\n",
        "* $m_e$ electron rest mass $0.51099891003 \\cdot 10^{-3}$ GeV\n",
        "* $\\alpha$ fine structure constant $1\/137.03599976$\n",
        "\n",
        "We have the contribution from (screened) nucleus:\n",
        "\n",
        "\\begin{equation}\n",
        "\\Phi_n(\\delta) = \\ln \\left( \\frac{BZ^{\\frac{-1}{3}}(m_\\mu + \\delta(D_n\\sqrt{e} - 2))}{(m_e + \\delta \\sqrt{e}BZ^{\\frac{-1}{3}})D_n} \\right),\n",
        "\\end{equation}\n",
        "\n",
        "where $D_n = 1.54A^{0.27}$ , $B = 182.7$ ($B = 202.4$ for hygrogen), the exponential $e = 2.7181...$ \n",
        "\n",
        "and the contributions from atomic electrons:\n",
        "\\begin{equation}\n",
        "\\Phi_\\text{in}(\\delta) = \\ln \\left( \\frac{m_\\mu BZ^{-2\/3} \\sqrt{e}}{(m_e + \\delta  BZ^{-2\/3} \\sqrt{e})(\\frac{m_\\mu \\delta}{m_e^{2}} + \\sqrt{e})} \\right),\n",
        "\\end{equation}\n",
        "\n",
        "where $B = 1429$ ($B = 446$ for hygrogen). \n",
        "\n",
        "Both are evaluated at: \n",
        "\n",
        "\\begin{equation}\n",
        "\\delta = \\frac{m_\\mu^{2}\\nu}{2E(1 - \\nu)}\n",
        "\\end{equation}"
      ],
      "attachments":{
        
      },
      "metadata":{
        
      }
    },
    {
      "cell_type":"code",
      "source":[
        "!git clone https:\/\/github.com\/grinisrit\/noa.git"
      ],
      "execution_count":11,
      "outputs":[
        {
          "name":"stdout",
          "text":[
            "Cloning into 'noa'...\r\n",
            "remote: Enumerating objects: 2480, done.\u001b[K\r\n",
            "remote: Counting objects:   0% (1\/528)\u001b[K\rremote: Counting objects:   1% (6\/528)\u001b[K\rremote: Counting objects:   2% (11\/528)\u001b[K\rremote: Counting objects:   3% (16\/528)\u001b[K\rremote: Counting objects:   4% (22\/528)\u001b[K\rremote: Counting objects:   5% (27\/528)\u001b[K\rremote: Counting objects:   6% (32\/528)\u001b[K\rremote: Counting objects:   7% (37\/528)\u001b[K\rremote: Counting objects:   8% (43\/528)\u001b[K\rremote: Counting objects:   9% (48\/528)\u001b[K\rremote: Counting objects:  10% (53\/528)\u001b[K\rremote: Counting objects:  11% (59\/528)\u001b[K\rremote: Counting objects:  12% (64\/528)\u001b[K\rremote: Counting objects:  13% (69\/528)\u001b[K\rremote: Counting objects:  14% (74\/528)\u001b[K\rremote: Counting objects:  15% (80\/528)\u001b[K\rremote: Counting objects:  16% (85\/528)\u001b[K\rremote: Counting objects:  17% (90\/528)\u001b[K\rremote: Counting objects:  18% (96\/528)\u001b[K\rremote: Counting objects:  19% (101\/528)\u001b[K\rremote: Counting objects:  20% (106\/528)\u001b[K\rremote: Counting objects:  21% (111\/528)\u001b[K\rremote: Counting objects:  22% (117\/528)\u001b[K\rremote: Counting objects:  23% (122\/528)\u001b[K\rremote: Counting objects:  24% (127\/528)\u001b[K\rremote: Counting objects:  25% (132\/528)\u001b[K\rremote: Counting objects:  26% (138\/528)\u001b[K\rremote: Counting objects:  27% (143\/528)\u001b[K\rremote: Counting objects:  28% (148\/528)\u001b[K\rremote: Counting objects:  29% (154\/528)\u001b[K\rremote: Counting objects:  30% (159\/528)\u001b[K\rremote: Counting objects:  31% (164\/528)\u001b[K\rremote: Counting objects:  32% (169\/528)\u001b[K\rremote: Counting objects:  33% (175\/528)\u001b[K\rremote: Counting objects:  34% (180\/528)\u001b[K\rremote: Counting objects:  35% (185\/528)\u001b[K\rremote: Counting objects:  36% (191\/528)\u001b[K\rremote: Counting objects:  37% (196\/528)\u001b[K\rremote: Counting objects:  38% (201\/528)\u001b[K\rremote: Counting objects:  39% (206\/528)\u001b[K\rremote: Counting objects:  40% (212\/528)\u001b[K\rremote: Counting objects:  41% (217\/528)\u001b[K\rremote: Counting objects:  42% (222\/528)\u001b[K\rremote: Counting objects:  43% (228\/528)\u001b[K\rremote: Counting objects:  44% (233\/528)\u001b[K\rremote: Counting objects:  45% (238\/528)\u001b[K\rremote: Counting objects:  46% (243\/528)\u001b[K\rremote: Counting objects:  47% (249\/528)\u001b[K\rremote: Counting objects:  48% (254\/528)\u001b[K\rremote: Counting objects:  49% (259\/528)\u001b[K\rremote: Counting objects:  50% (264\/528)\u001b[K\rremote: Counting objects:  51% (270\/528)\u001b[K\rremote: Counting objects:  52% (275\/528)\u001b[K\rremote: Counting objects:  53% (280\/528)\u001b[K\rremote: Counting objects:  54% (286\/528)\u001b[K\rremote: Counting objects:  55% (291\/528)\u001b[K\rremote: Counting objects:  56% (296\/528)\u001b[K\rremote: Counting objects:  57% (301\/528)\u001b[K\rremote: Counting objects:  58% (307\/528)\u001b[K\rremote: Counting objects:  59% (312\/528)\u001b[K\rremote: Counting objects:  60% (317\/528)\u001b[K\rremote: Counting objects:  61% (323\/528)\u001b[K\rremote: Counting objects:  62% (328\/528)\u001b[K\rremote: Counting objects:  63% (333\/528)\u001b[K\rremote: Counting objects:  64% (338\/528)\u001b[K\rremote: Counting objects:  65% (344\/528)\u001b[K\rremote: Counting objects:  66% (349\/528)\u001b[K\rremote: Counting objects:  67% (354\/528)\u001b[K\rremote: Counting objects:  68% (360\/528)\u001b[K\rremote: Counting objects:  69% (365\/528)\u001b[K\rremote: Counting objects:  70% (370\/528)\u001b[K\rremote: Counting objects:  71% (375\/528)\u001b[K\rremote: Counting objects:  72% (381\/528)\u001b[K\rremote: Counting objects:  73% (386\/528)\u001b[K\rremote: Counting objects:  74% (391\/528)\u001b[K\rremote: Counting objects:  75% (396\/528)\u001b[K\rremote: Counting objects:  76% (402\/528)\u001b[K\rremote: Counting objects:  77% (407\/528)\u001b[K\rremote: Counting objects:  78% (412\/528)\u001b[K\rremote: Counting objects:  79% (418\/528)\u001b[K\rremote: Counting objects:  80% (423\/528)\u001b[K\rremote: Counting objects:  81% (428\/528)\u001b[K\rremote: Counting objects:  82% (433\/528)\u001b[K\rremote: Counting objects:  83% (439\/528)\u001b[K\rremote: Counting objects:  84% (444\/528)\u001b[K\rremote: Counting objects:  85% (449\/528)\u001b[K\rremote: Counting objects:  86% (455\/528)\u001b[K\rremote: Counting objects:  87% (460\/528)\u001b[K\rremote: Counting objects:  88% (465\/528)\u001b[K\rremote: Counting objects:  89% (470\/528)\u001b[K\rremote: Counting objects:  90% (476\/528)\u001b[K\rremote: Counting objects:  91% (481\/528)\u001b[K\rremote: Counting objects:  92% (486\/528)\u001b[K\rremote: Counting objects:  93% (492\/528)\u001b[K\rremote: Counting objects:  94% (497\/528)\u001b[K\rremote: Counting objects:  95% (502\/528)\u001b[K\rremote: Counting objects:  96% (507\/528)\u001b[K\rremote: Counting objects:  97% (513\/528)\u001b[K\rremote: Counting objects:  98% (518\/528)\u001b[K\rremote: Counting objects:  99% (523\/528)\u001b[K\rremote: Counting objects: 100% (528\/528)\u001b[K\rremote: Counting objects: 100% (528\/528), done.\u001b[K\r\n",
            "remote: Compressing objects:   0% (1\/319)\u001b[K\rremote: Compressing objects:   1% (4\/319)\u001b[K\rremote: Compressing objects:   2% (7\/319)\u001b[K\rremote: Compressing objects:   3% (10\/319)\u001b[K\rremote: Compressing objects:   4% (13\/319)\u001b[K\rremote: Compressing objects:   5% (16\/319)\u001b[K\rremote: Compressing objects:   6% (20\/319)\u001b[K\rremote: Compressing objects:   7% (23\/319)\u001b[K\rremote: Compressing objects:   8% (26\/319)\u001b[K\rremote: Compressing objects:   9% (29\/319)\u001b[K\rremote: Compressing objects:  10% (32\/319)\u001b[K\rremote: Compressing objects:  11% (36\/319)\u001b[K\rremote: Compressing objects:  12% (39\/319)\u001b[K\rremote: Compressing objects:  13% (42\/319)\u001b[K\rremote: Compressing objects:  14% (45\/319)\u001b[K\rremote: Compressing objects:  15% (48\/319)\u001b[K\rremote: Compressing objects:  16% (52\/319)\u001b[K\rremote: Compressing objects:  17% (55\/319)\u001b[K\rremote: Compressing objects:  18% (58\/319)\u001b[K\rremote: Compressing objects:  19% (61\/319)\u001b[K\rremote: Compressing objects:  20% (64\/319)\u001b[K\rremote: Compressing objects:  21% (67\/319)\u001b[K\rremote: Compressing objects:  22% (71\/319)\u001b[K\rremote: Compressing objects:  23% (74\/319)\u001b[K\rremote: Compressing objects:  24% (77\/319)\u001b[K\rremote: Compressing objects:  25% (80\/319)\u001b[K\rremote: Compressing objects:  26% (83\/319)\u001b[K\rremote: Compressing objects:  27% (87\/319)\u001b[K\rremote: Compressing objects:  28% (90\/319)\u001b[K\rremote: Compressing objects:  29% (93\/319)\u001b[K\rremote: Compressing objects:  30% (96\/319)\u001b[K\rremote: Compressing objects:  31% (99\/319)\u001b[K\rremote: Compressing objects:  32% (103\/319)\u001b[K\rremote: Compressing objects:  33% (106\/319)\u001b[K\rremote: Compressing objects:  34% (109\/319)\u001b[K\rremote: Compressing objects:  35% (112\/319)\u001b[K\rremote: Compressing objects:  36% (115\/319)\u001b[K\rremote: Compressing objects:  37% (119\/319)\u001b[K\rremote: Compressing objects:  38% (122\/319)\u001b[K\rremote: Compressing objects:  39% (125\/319)\u001b[K\rremote: Compressing objects:  40% (128\/319)\u001b[K\rremote: Compressing objects:  41% (131\/319)\u001b[K\rremote: Compressing objects:  42% (134\/319)\u001b[K\rremote: Compressing objects:  43% (138\/319)\u001b[K\rremote: Compressing objects:  44% (141\/319)\u001b[K\rremote: Compressing objects:  45% (144\/319)\u001b[K\rremote: Compressing objects:  46% (147\/319)\u001b[K\rremote: Compressing objects:  47% (150\/319)\u001b[K\rremote: Compressing objects:  48% (154\/319)\u001b[K\rremote: Compressing objects:  49% (157\/319)\u001b[K\rremote: Compressing objects:  50% (160\/319)\u001b[K\rremote: Compressing objects:  51% (163\/319)\u001b[K\rremote: Compressing objects:  52% (166\/319)\u001b[K\rremote: Compressing objects:  53% (170\/319)\u001b[K\rremote: Compressing objects:  54% (173\/319)\u001b[K\rremote: Compressing objects:  55% (176\/319)\u001b[K\rremote: Compressing objects:  56% (179\/319)\u001b[K\rremote: Compressing objects:  57% (182\/319)\u001b[K\rremote: Compressing objects:  58% (186\/319)\u001b[K\rremote: Compressing objects:  59% (189\/319)\u001b[K\rremote: Compressing objects:  60% (192\/319)\u001b[K\rremote: Compressing objects:  61% (195\/319)\u001b[K\rremote: Compressing objects:  62% (198\/319)\u001b[K\rremote: Compressing objects:  63% (201\/319)\u001b[K\rremote: Compressing objects:  64% (205\/319)\u001b[K\rremote: Compressing objects:  65% (208\/319)\u001b[K\rremote: Compressing objects:  66% (211\/319)\u001b[K\rremote: Compressing objects:  67% (214\/319)\u001b[K\rremote: Compressing objects:  68% (217\/319)\u001b[K\rremote: Compressing objects:  69% (221\/319)\u001b[K\rremote: Compressing objects:  70% (224\/319)\u001b[K\rremote: Compressing objects:  71% (227\/319)\u001b[K\rremote: Compressing objects:  72% (230\/319)\u001b[K\rremote: Compressing objects:  73% (233\/319)\u001b[K\rremote: Compressing objects:  74% (237\/319)\u001b[K\rremote: Compressing objects:  75% (240\/319)\u001b[K\rremote: Compressing objects:  76% (243\/319)\u001b[K\rremote: Compressing objects:  77% (246\/319)\u001b[K\rremote: Compressing objects:  78% (249\/319)\u001b[K\rremote: Compressing objects:  79% (253\/319)\u001b[K\rremote: Compressing objects:  80% (256\/319)\u001b[K\rremote: Compressing objects:  81% (259\/319)\u001b[K\rremote: Compressing objects:  82% (262\/319)\u001b[K\rremote: Compressing objects:  83% (265\/319)\u001b[K\rremote: Compressing objects:  84% (268\/319)\u001b[K\rremote: Compressing objects:  85% (272\/319)\u001b[K\rremote: Compressing objects:  86% (275\/319)\u001b[K\rremote: Compressing objects:  87% (278\/319)\u001b[K\rremote: Compressing objects:  88% (281\/319)\u001b[K\rremote: Compressing objects:  89% (284\/319)\u001b[K\rremote: Compressing objects:  90% (288\/319)\u001b[K\rremote: Compressing objects:  91% (291\/319)\u001b[K\rremote: Compressing objects:  92% (294\/319)\u001b[K\rremote: Compressing objects:  93% (297\/319)\u001b[K\rremote: Compressing objects:  94% (300\/319)\u001b[K\rremote: Compressing objects:  95% (304\/319)\u001b[K\rremote: Compressing objects:  96% (307\/319)\u001b[K\rremote: Compressing objects:  97% (310\/319)\u001b[K\rremote: Compressing objects:  98% (313\/319)\u001b[K\rremote: Compressing objects:  99% (316\/319)\u001b[K\rremote: Compressing objects: 100% (319\/319)\u001b[K\rremote: Compressing objects: 100% (319\/319), done.\u001b[K\r\n",
            "Receiving objects:   0% (1\/2480)\rReceiving objects:   1% (25\/2480)\rReceiving objects:   2% (50\/2480)\rReceiving objects:   3% (75\/2480)\rReceiving objects:   4% (100\/2480)\rReceiving objects:   5% (124\/2480)\rReceiving objects:   6% (149\/2480)\rReceiving objects:   7% (174\/2480)\rReceiving objects:   8% (199\/2480)\rReceiving objects:   9% (224\/2480)\rReceiving objects:  10% (248\/2480)\rReceiving objects:  11% (273\/2480)\rReceiving objects:  12% (298\/2480)\rReceiving objects:  13% (323\/2480)\rReceiving objects:  14% (348\/2480)\rReceiving objects:  15% (372\/2480), 12.85 MiB | 25.69 MiB\/s\rReceiving objects:  16% (397\/2480), 12.85 MiB | 25.69 MiB\/s\rReceiving objects:  17% (422\/2480), 12.85 MiB | 25.69 MiB\/s\rReceiving objects:  18% (447\/2480), 12.85 MiB | 25.69 MiB\/s\rReceiving objects:  19% (472\/2480), 12.85 MiB | 25.69 MiB\/s\rReceiving objects:  20% (496\/2480), 12.85 MiB | 25.69 MiB\/s\rReceiving objects:  21% (521\/2480), 12.85 MiB | 25.69 MiB\/s\rReceiving objects:  22% (546\/2480), 12.85 MiB | 25.69 MiB\/s\rReceiving objects:  23% (571\/2480), 12.85 MiB | 25.69 MiB\/s\rReceiving objects:  24% (596\/2480), 12.85 MiB | 25.69 MiB\/s\rReceiving objects:  25% (620\/2480), 12.85 MiB | 25.69 MiB\/s\rReceiving objects:  26% (645\/2480), 12.85 MiB | 25.69 MiB\/s\rReceiving objects:  27% (670\/2480), 12.85 MiB | 25.69 MiB\/s\rReceiving objects:  28% (695\/2480), 12.85 MiB | 25.69 MiB\/s\rReceiving objects:  29% (720\/2480), 12.85 MiB | 25.69 MiB\/s\rReceiving objects:  30% (744\/2480), 12.85 MiB | 25.69 MiB\/s\rReceiving objects:  31% (769\/2480), 12.85 MiB | 25.69 MiB\/s\rReceiving objects:  32% (794\/2480), 12.85 MiB | 25.69 MiB\/s\rReceiving objects:  33% (819\/2480), 12.85 MiB | 25.69 MiB\/s\rReceiving objects:  34% (844\/2480), 12.85 MiB | 25.69 MiB\/s\rReceiving objects:  35% (868\/2480), 12.85 MiB | 25.69 MiB\/s\rReceiving objects:  36% (893\/2480), 12.85 MiB | 25.69 MiB\/s\rReceiving objects:  37% (918\/2480), 12.85 MiB | 25.69 MiB\/s\rReceiving objects:  38% (943\/2480), 12.85 MiB | 25.69 MiB\/s\rReceiving objects:  39% (968\/2480), 12.85 MiB | 25.69 MiB\/s\rReceiving objects:  40% (992\/2480), 12.85 MiB | 25.69 MiB\/s\rReceiving objects:  41% (1017\/2480), 12.85 MiB | 25.69 MiB\/s\rReceiving objects:  42% (1042\/2480), 12.85 MiB | 25.69 MiB\/s\rReceiving objects:  43% (1067\/2480), 12.85 MiB | 25.69 MiB\/s\rReceiving objects:  44% (1092\/2480), 12.85 MiB | 25.69 MiB\/s\rReceiving objects:  45% (1116\/2480), 12.85 MiB | 25.69 MiB\/s\rReceiving objects:  46% (1141\/2480), 12.85 MiB | 25.69 MiB\/s\rReceiving objects:  47% (1166\/2480), 12.85 MiB | 25.69 MiB\/s\rReceiving objects:  48% (1191\/2480), 12.85 MiB | 25.69 MiB\/s\rReceiving objects:  49% (1216\/2480), 12.85 MiB | 25.69 MiB\/s\rReceiving objects:  50% (1240\/2480), 12.85 MiB | 25.69 MiB\/s\rReceiving objects:  51% (1265\/2480), 12.85 MiB | 25.69 MiB\/s\rReceiving objects:  52% (1290\/2480), 12.85 MiB | 25.69 MiB\/s\rReceiving objects:  53% (1315\/2480), 12.85 MiB | 25.69 MiB\/s\rReceiving objects:  54% (1340\/2480), 12.85 MiB | 25.69 MiB\/s\rReceiving objects:  55% (1364\/2480), 12.85 MiB | 25.69 MiB\/s\rReceiving objects:  56% (1389\/2480), 12.85 MiB | 25.69 MiB\/s\rReceiving objects:  57% (1414\/2480), 12.85 MiB | 25.69 MiB\/s\rReceiving objects:  58% (1439\/2480), 12.85 MiB | 25.69 MiB\/s\rReceiving objects:  59% (1464\/2480), 12.85 MiB | 25.69 MiB\/s\rReceiving objects:  60% (1488\/2480), 12.85 MiB | 25.69 MiB\/s\rReceiving objects:  61% (1513\/2480), 12.85 MiB | 25.69 MiB\/s\rReceiving objects:  62% (1538\/2480), 12.85 MiB | 25.69 MiB\/s\rReceiving objects:  63% (1563\/2480), 12.85 MiB | 25.69 MiB\/s\rReceiving objects:  64% (1588\/2480), 12.85 MiB | 25.69 MiB\/s\rReceiving objects:  65% (1612\/2480), 12.85 MiB | 25.69 MiB\/s\rReceiving objects:  66% (1637\/2480), 12.85 MiB | 25.69 MiB\/s\rReceiving objects:  67% (1662\/2480), 12.85 MiB | 25.69 MiB\/s\rReceiving objects:  68% (1687\/2480), 12.85 MiB | 25.69 MiB\/s\rReceiving objects:  69% (1712\/2480), 12.85 MiB | 25.69 MiB\/s\rReceiving objects:  70% (1736\/2480), 12.85 MiB | 25.69 MiB\/s\rReceiving objects:  71% (1761\/2480), 12.85 MiB | 25.69 MiB\/s\rReceiving objects:  72% (1786\/2480), 12.85 MiB | 25.69 MiB\/s\rReceiving objects:  73% (1811\/2480), 12.85 MiB | 25.69 MiB\/s\rReceiving objects:  74% (1836\/2480), 12.85 MiB | 25.69 MiB\/s\rReceiving objects:  75% (1860\/2480), 12.85 MiB | 25.69 MiB\/s\rReceiving objects:  76% (1885\/2480), 12.85 MiB | 25.69 MiB\/s\rReceiving objects:  77% (1910\/2480), 12.85 MiB | 25.69 MiB\/s\rReceiving objects:  78% (1935\/2480), 12.85 MiB | 25.69 MiB\/s\rReceiving objects:  79% (1960\/2480), 12.85 MiB | 25.69 MiB\/s\rReceiving objects:  80% (1984\/2480), 12.85 MiB | 25.69 MiB\/s\rReceiving objects:  81% (2009\/2480), 12.85 MiB | 25.69 MiB\/s\rReceiving objects:  82% (2034\/2480), 12.85 MiB | 25.69 MiB\/s\rReceiving objects:  83% (2059\/2480), 12.85 MiB | 25.69 MiB\/s\rReceiving objects:  84% (2084\/2480), 12.85 MiB | 25.69 MiB\/s\rReceiving objects:  85% (2108\/2480), 12.85 MiB | 25.69 MiB\/s\rReceiving objects:  86% (2133\/2480), 12.85 MiB | 25.69 MiB\/s\rReceiving objects:  87% (2158\/2480), 12.85 MiB | 25.69 MiB\/s\rReceiving objects:  88% (2183\/2480), 12.85 MiB | 25.69 MiB\/s\rReceiving objects:  89% (2208\/2480), 12.85 MiB | 25.69 MiB\/s\rReceiving objects:  90% (2232\/2480), 12.85 MiB | 25.69 MiB\/s\rReceiving objects:  91% (2257\/2480), 12.85 MiB | 25.69 MiB\/s\rremote: Total 2480 (delta 309), reused 372 (delta 200), pack-reused 1952\u001b[K\r\n",
            "Receiving objects:  92% (2282\/2480), 12.85 MiB | 25.69 MiB\/s\rReceiving objects:  93% (2307\/2480), 12.85 MiB | 25.69 MiB\/s\rReceiving objects:  94% (2332\/2480), 12.85 MiB | 25.69 MiB\/s\rReceiving objects:  95% (2356\/2480), 12.85 MiB | 25.69 MiB\/s\rReceiving objects:  96% (2381\/2480), 12.85 MiB | 25.69 MiB\/s\rReceiving objects:  97% (2406\/2480), 12.85 MiB | 25.69 MiB\/s\rReceiving objects:  98% (2431\/2480), 12.85 MiB | 25.69 MiB\/s\rReceiving objects:  99% (2456\/2480), 12.85 MiB | 25.69 MiB\/s\rReceiving objects: 100% (2480\/2480), 12.85 MiB | 25.69 MiB\/s\rReceiving objects: 100% (2480\/2480), 22.74 MiB | 25.40 MiB\/s, done.\r\n",
            "Resolving deltas:   0% (0\/1495)\rResolving deltas:   1% (15\/1495)\rResolving deltas:   2% (43\/1495)\rResolving deltas:   3% (49\/1495)\rResolving deltas:   4% (67\/1495)\rResolving deltas:   5% (78\/1495)\rResolving deltas:   9% (138\/1495)\rResolving deltas:  10% (163\/1495)\rResolving deltas:  11% (168\/1495)\rResolving deltas:  15% (226\/1495)\rResolving deltas:  16% (252\/1495)\rResolving deltas:  17% (257\/1495)\rResolving deltas:  18% (280\/1495)\rResolving deltas:  20% (299\/1495)\rResolving deltas:  22% (330\/1495)\rResolving deltas:  25% (380\/1495)\rResolving deltas:  27% (414\/1495)\rResolving deltas:  28% (425\/1495)\rResolving deltas:  29% (438\/1495)\rResolving deltas:  30% (458\/1495)\rResolving deltas:  33% (500\/1495)\rResolving deltas:  34% (520\/1495)\rResolving deltas:  35% (527\/1495)\rResolving deltas:  36% (543\/1495)\rResolving deltas:  38% (570\/1495)\rResolving deltas:  39% (584\/1495)\rResolving deltas:  41% (615\/1495)\rResolving deltas:  42% (633\/1495)\rResolving deltas:  43% (645\/1495)\rResolving deltas:  44% (659\/1495)\rResolving deltas:  48% (720\/1495)\rResolving deltas:  49% (738\/1495)\rResolving deltas:  50% (748\/1495)\rResolving deltas:  51% (763\/1495)\rResolving deltas:  52% (778\/1495)\rResolving deltas:  54% (809\/1495)\rResolving deltas:  55% (833\/1495)\rResolving deltas:  56% (852\/1495)\rResolving deltas:  59% (890\/1495)\rResolving deltas:  60% (897\/1495)\rResolving deltas:  61% (923\/1495)\rResolving deltas:  62% (929\/1495)\rResolving deltas:  63% (950\/1495)\rResolving deltas:  64% (960\/1495)\rResolving deltas:  65% (974\/1495)\rResolving deltas:  66% (992\/1495)\rResolving deltas:  67% (1003\/1495)\rResolving deltas:  68% (1017\/1495)\rResolving deltas:  70% (1048\/1495)\rResolving deltas:  71% (1062\/1495)\rResolving deltas:  73% (1101\/1495)\rResolving deltas:  74% (1108\/1495)\rResolving deltas:  75% (1131\/1495)\rResolving deltas:  76% (1137\/1495)\rResolving deltas:  78% (1176\/1495)\rResolving deltas:  79% (1185\/1495)\rResolving deltas:  80% (1196\/1495)\rResolving deltas:  82% (1235\/1495)\rResolving deltas:  83% (1249\/1495)\rResolving deltas:  84% (1256\/1495)\rResolving deltas:  85% (1274\/1495)\rResolving deltas:  86% (1293\/1495)\rResolving deltas:  87% (1302\/1495)\rResolving deltas:  88% (1316\/1495)\rResolving deltas:  90% (1358\/1495)\rResolving deltas:  92% (1381\/1495)\rResolving deltas:  93% (1404\/1495)\rResolving deltas:  94% (1406\/1495)\rResolving deltas:  95% (1422\/1495)\rResolving deltas:  97% (1457\/1495)\rResolving deltas:  98% (1466\/1495)\rResolving deltas:  99% (1489\/1495)\rResolving deltas: 100% (1495\/1495)\rResolving deltas: 100% (1495\/1495), done.\r\n"
          ],
          "output_type":"stream"
        }
      ],
      "metadata":{
        
      }
    },
    {
      "cell_type":"code",
      "source":[
        "noa_location = 'noa'"
      ],
      "execution_count":3,
      "outputs":[
        
      ],
      "metadata":{
        
      }
    },
    {
      "cell_type":"code",
      "source":[
        "muons = load(name='muons',\n",
        "             build_directory='.\/build',\n",
        "             sources=['muons.cc'],\n",
        "             extra_include_paths=[f'{noa_location}\/include'],\n",
        "             extra_cflags=['-Wall -Wextra -Wpedantic -O3 -std=c++17'],\n",
        "             verbose=False)"
      ],
      "execution_count":4,
      "outputs":[
        
      ],
      "metadata":{
        
      }
    },
    {
      "cell_type":"code",
      "source":[
        "muons_cuda = load(name='muons_cuda',\n",
        "             build_directory='.\/build',       \n",
        "             sources=['muons.cu'],\n",
        "             extra_include_paths=[f'{noa_location}\/include'],\n",
        "             extra_cflags=['-Wall -Wextra -Wpedantic -O3 -std=c++17'],\n",
        "             extra_cuda_cflags=['-std=c++17 --extended-lambda'],\n",
        "             verbose=False) if torch.cuda.is_available() else None"
      ],
      "execution_count":5,
      "outputs":[
        
      ],
      "metadata":{
        
      }
    },
    {
      "cell_type":"code",
      "source":[
        "kinetic_energies = torch.linspace(1e-3, 1e6, 10000).double()\n",
        "recoil_energies = 0.0505 * kinetic_energies"
      ],
      "execution_count":6,
      "outputs":[
        
      ],
      "metadata":{
        
      }
    },
    {
      "cell_type":"code",
      "source":[
        "def check_input(tensor, device = torch.device('cpu')):\n",
        "    assert tensor.dtype == torch.float64\n",
        "    assert tensor.is_contiguous()\n",
        "    assert tensor.dim() == 1\n",
        "    assert tensor.device == device"
      ],
      "execution_count":7,
      "outputs":[
        
      ],
      "metadata":{
        
      }
    },
    {
      "cell_type":"code",
      "source":[
        "check_input(kinetic_energies)"
      ],
      "execution_count":8,
      "outputs":[
        
      ],
      "metadata":{
        
      }
    },
    {
      "cell_type":"code",
      "source":[
        "brems = muons.bremsstrahlung_dcs(kinetic_energies, recoil_energies)\n",
        "brems[:5]"
      ],
      "execution_count":17,
      "outputs":[
        {
          "data":{
            "text\/plain":[
              "tensor([3.5293e-04, 3.9395e-06, 4.0777e-06, 4.1341e-06, 4.1650e-06],\n",
              "       dtype=torch.float64)"
            ]
          },
          "metadata":{
            
          },
          "output_type":"display_data"
        }
      ],
      "metadata":{
        
      }
    },
    {
      "cell_type":"code",
      "source":[
        "kinetic_energies_gpu = kinetic_energies.cuda()\n",
        "recoil_energies_gpu = recoil_energies.cuda()"
      ],
      "execution_count":10,
      "outputs":[
        
      ],
      "metadata":{
        
      }
    },
    {
      "cell_type":"code",
      "source":[
        "check_input(kinetic_energies_gpu, torch.device('cuda:0'))"
      ],
      "execution_count":11,
      "outputs":[
        
      ],
      "metadata":{
        
      }
    },
    {
      "cell_type":"code",
      "source":[
        "brems_gpu = muons_cuda.bremsstrahlung_dcs(kinetic_energies_gpu, recoil_energies_gpu);\n",
        "brems_gpu[:5]"
      ],
      "execution_count":16,
      "outputs":[
        {
          "data":{
            "text\/plain":[
              "tensor([3.5293e-04, 3.9395e-06, 4.0777e-06, 4.1341e-06, 4.1650e-06],\n",
              "       device='cuda:0', dtype=torch.float64)"
            ]
          },
          "metadata":{
            
          },
          "output_type":"display_data"
        }
      ],
      "metadata":{
        
      }
    },
    {
      "cell_type":"code",
      "source":[
        "ELECTRON_MASS = 0.510998910E-03 # GeV\/c^2\n",
        "AVOGADRO_NUMBER = 6.02214076E+23\n",
        "# optimizing Avogadro Number special for bremsstrahlung\n",
        "# see bremsstrahlung.py\n",
        "AVOGADRO_NUMBER_brems = 6.02214076\n",
        "MUON_MASS = 0.10565839 # GeV\/c^2\n",
        "\n",
        "\n",
        "class AtomicElement:\n",
        "    def __init__(self, A, I, Z):\n",
        "        self.A = A  # Atomic mass\n",
        "        self.I = I  # Mean Excitation\n",
        "        self.Z = Z  # Atomic Number\n",
        "\n",
        "\n",
        "STANDARD_ROCK = AtomicElement(22.0, 0.1364E-6, 11)"
      ],
      "execution_count":18,
      "outputs":[
        
      ],
      "metadata":{
        
      }
    },
    {
      "cell_type":"code",
      "source":[
        "@njit(double(double, double, double, int32, double))\n",
        "def bremsstrahlung(K, q, A, Z, mu):\n",
        "    me = ELECTRON_MASS\n",
        "    sqrte = 1.648721271\n",
        "    phie_factor = mu \/ (me * me * sqrte)\n",
        "    # original line is\n",
        "    # rem = 5.63588E-13 * me \/ mu\n",
        "    # But we use AVOGARO_NUMBER_brems and remove 1E+3 \n",
        "    # from final formula, see below.\n",
        "    # For rem^2 we have 1E-26 order\n",
        "    # For original AVOGADRO_NUMBER 1E+23\n",
        "    # And we use 1E+3 in final calculation.\n",
        "    # So 1E+23*1E+3*1E-26 = 1E+0 = 1\n",
        "    rem = 5.63588 * me \/ mu\n",
        "\n",
        "    BZ_n = (202.4 if Z == 1 else 182.7) * pow(Z, -1. \/ 3.)\n",
        "    BZ_e = (446.0 if Z == 1 else 1429.0) * pow(Z, -2. \/ 3.)\n",
        "    D_n = 1.54 * pow(A, 0.27)\n",
        "    E = K + mu\n",
        "    dcs_factor = 7.297182E-07 * rem * rem * Z \/ E\n",
        "\n",
        "    delta_factor = 0.5 * mu * mu \/ E\n",
        "    qe_max = E \/ (1. + 0.5 * mu * mu \/ (me * E))\n",
        "\n",
        "    nu = q \/ E\n",
        "    delta = delta_factor * nu \/ (1. - nu)\n",
        "    Phi_e = 0.0\n",
        "    Phi_n = math.log(BZ_n * (mu + delta * (D_n * sqrte - 2.)) \/ (D_n * (me + delta * sqrte * BZ_n)))\n",
        "    if Phi_n < 0.0:\n",
        "        Phi_n = 0.0\n",
        "    if q < qe_max:\n",
        "        Phi_e = math.log(BZ_e * mu \/ ((1. + delta * phie_factor) * (me + delta * sqrte * BZ_e)))\n",
        "        if (Phi_e < 0.):\n",
        "            Phi_e = 0.0\n",
        "    else:\n",
        "        Phi_e = 0.0\n",
        "\n",
        "    dcs = dcs_factor * (Z * Phi_n + Phi_e) * (4. \/ 3. * (1. \/ nu - 1.) + nu)\n",
        "    # original line is\n",
        "    # return 0.0 if dcs < 0.0 else dcs * 1E+3 * double(constants.AVOGADRO_NUMBER) * (mu + K) \/ A\n",
        "    return 0.0 if dcs < 0.0 else dcs * double(AVOGADRO_NUMBER_brems) * (mu + K) \/ A\n",
        "\n",
        "\n",
        "@njit('(float64[:], float64[:], float64[:], float64, int32, float64)')\n",
        "def _vmap_bremsstrahlung(\n",
        "        result,\n",
        "        kinetic_energies,\n",
        "        recoil_energies,\n",
        "        atomic_mass,\n",
        "        atomic_number,\n",
        "        particle_mass):\n",
        "    n = result.shape[0]\n",
        "    for i in range(n):\n",
        "        result[i] = bremsstrahlung(\n",
        "            kinetic_energies[i],\n",
        "            recoil_energies[i],\n",
        "            atomic_mass,\n",
        "            atomic_number,\n",
        "            particle_mass)\n",
        "    return result\n",
        "\n",
        "\n",
        "def bremsstrahlung_numba(\n",
        "        kinetic_energies,\n",
        "        recoil_energies,\n",
        "        atomic_mass,\n",
        "        atomic_number,\n",
        "        particle_mass):\n",
        "    result = torch.zeros_like(kinetic_energies)\n",
        "    _vmap_bremsstrahlung(\n",
        "        result.numpy(),\n",
        "        kinetic_energies.numpy(),\n",
        "        recoil_energies.numpy(),\n",
        "        atomic_mass,\n",
        "        atomic_number,\n",
        "        particle_mass)\n",
        "    return result"
      ],
      "execution_count":20,
      "outputs":[
        
      ],
      "metadata":{
        
      }
    },
    {
      "cell_type":"code",
      "source":[
        "E = 2\n",
        "sample = 1500\n",
        "X = []\n",
        "Y = []\n",
        "for i in range(sample):\n",
        "    x = 0.05 + i*(1 - 0.05)\/sample;\n",
        "    y = bremsstrahlung(1, x, 22, 11, 0.10565839)\n",
        "    X.append(x)\n",
        "    Y.append(y)\n",
        "    \n",
        "\n",
        "fig, ax = plt.subplots()\n",
        "ax.plot(X, Y, '.C3')    \n",
        "plt.xlim([0.,0.4])\n",
        "\n",
        "ax.set_xlabel('The kinetic energy lost to the photon, GeV', fontsize = 20)\n",
        "ax.set_ylabel('DCS, m^2\/kg', fontsize = 20)\n",
        "\n",
        "fig.set_figwidth(20)\n",
        "fig.set_figheight(10)\n",
        "    \n",
        "plt.show()"
      ],
      "execution_count":22,
      "outputs":[
        {
          "data":{
            "image\/png":"[encoded data removed]"
          },
          "metadata":{
            "image\/png":{
              
            }
          },
          "output_type":"display_data"
        }
      ],
      "metadata":{
        
      }
    },
    {
      "cell_type":"code",
      "source":[
        "brems_numba = bremsstrahlung_numba(\n",
        "    kinetic_energies,\n",
        "    recoil_energies,\n",
        "    STANDARD_ROCK.A,\n",
        "    STANDARD_ROCK.Z,\n",
        "    MUON_MASS)\n",
        "brems_numba[:5]"
      ],
      "execution_count":23,
      "outputs":[
        {
          "data":{
            "text\/plain":[
              "tensor([3.5293e-04, 3.9395e-06, 4.0777e-06, 4.1341e-06, 4.1650e-06],\n",
              "       dtype=torch.float64)"
            ]
          },
          "metadata":{
            
          },
          "output_type":"display_data"
        }
      ],
      "metadata":{
        
      }
    },
    {
      "cell_type":"code",
      "source":[
        "%timeit bremsstrahlung_numba(kinetic_energies, recoil_energies, STANDARD_ROCK.A,STANDARD_ROCK.Z,MUON_MASS)"
      ],
      "execution_count":26,
      "outputs":[
        {
          "name":"stdout",
          "text":[
            "1.03 ms ± 599 ns per loop (mean ± std. dev. of 7 runs, 1000 loops each)\n"
          ],
          "output_type":"stream"
        }
      ],
      "metadata":{
        
      }
    },
    {
      "cell_type":"code",
      "source":[
        "%timeit muons.bremsstrahlung_dcs(kinetic_energies, recoil_energies)"
      ],
      "execution_count":27,
      "outputs":[
        {
          "name":"stdout",
          "text":[
            "346 µs ± 114 ns per loop (mean ± std. dev. of 7 runs, 1000 loops each)\n"
          ],
          "output_type":"stream"
        }
      ],
      "metadata":{
        
      }
    },
    {
      "cell_type":"code",
      "source":[
        "%timeit muons_cuda.bremsstrahlung_dcs(kinetic_energies_gpu, recoil_energies_gpu)"
      ],
      "execution_count":28,
      "outputs":[
        {
          "name":"stdout",
          "text":[
            "162 µs ± 15.8 µs per loop (mean ± std. dev. of 7 runs, 1000 loops each)\n"
          ],
          "output_type":"stream"
        }
      ],
      "metadata":{
        
      }
    },
    {
      "cell_type":"markdown",
      "source":[
        "Thanks to Slava Kovalev for the numba implementation"
      ],
      "attachments":{
        
      },
      "metadata":{
        
      }
    },
    {
      "cell_type":"markdown",
      "source":[
        "### Polynomial model for high energy DCS\n",
        "\n",
        "An interpolation model in $\\tau = q\/K$ is used for $K \\geq 10$ GeV and $0.05 \\leq \\tau \\leq 0.95$. For Bremsstrahlung we re-write:\n",
        "\n",
        "\\begin{equation}\n",
        "\\frac{K}{E} \\frac{\\text{d}\\sigma}{\\text{d}q} = \\frac{K \\alpha Z}{q}(2\\frac{m_e}{m_\\mu})^{2}(\\frac{4}{3}(1 - \\nu) + \\nu^2)(\\Phi_\\text{in}(\\delta) + Z\\Phi_n(\\delta) ) \\frac{N_a}{A \\cdot 10^{-3}}\n",
        "\\end{equation}\n",
        "\n",
        "Setting $X=\\ln(\\tau)$ and $Y=\\ln(1-\\tau)$, we fit the model:\n",
        "\\begin{equation}\n",
        "\\ln \\left( \\frac{K}{E} \\frac{\\text{d}\\sigma}{\\text{d}q} \\right) \\approx \\sum_{i=0}^{6} a_i X^i + b_1 Y + b_2 Y^2\n",
        "\\end{equation}"
      ],
      "attachments":{
        
      },
      "metadata":{
        
      }
    },
    {
      "cell_type":"markdown",
      "source":[
        "### Exercises\n",
        "\n",
        "**(1)** Implement the Bremsstrahlung formula (taking performance into consideration)\n",
        "\n",
        "**(2)** Fit the polynomial model for the kinetic energies below. How could you improve it?"
      ],
      "attachments":{
        
      },
      "metadata":{
        
      }
    }
  ],
  "metadata":{
    
  },
  "nbformat":4,
  "nbformat_minor":0
}