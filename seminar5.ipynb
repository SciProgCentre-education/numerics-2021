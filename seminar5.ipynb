{
 "cells": [
  {
   "cell_type": "markdown",
   "id": "a2dbcfe8",
   "metadata": {},
   "source": [
    "# Eigenvectors and Eigenvalues \n"
   ]
  },
  {
   "cell_type": "markdown",
   "id": "67e0af96",
   "metadata": {},
   "source": [
    "### Jacobi transformations"
   ]
  },
  {
   "cell_type": "code",
   "execution_count": 1,
   "id": "38d2d33e",
   "metadata": {},
   "outputs": [],
   "source": [
    "import torch\n",
    "from torch.utils.cpp_extension import load"
   ]
  },
  {
   "cell_type": "code",
   "execution_count": 72,
   "id": "40c51526",
   "metadata": {},
   "outputs": [],
   "source": [
    "jacobi = load(name='jacobi',\n",
    "             build_directory='./build',\n",
    "             sources=['jacobi.cc'],\n",
    "             extra_cflags=['-Wall -Wextra -Wpedantic -O3 -std=c++17'],\n",
    "             verbose=False)"
   ]
  },
  {
   "cell_type": "code",
   "execution_count": 73,
   "id": "abe7ff35",
   "metadata": {},
   "outputs": [
    {
     "data": {
      "text/plain": [
       "tensor([[ 0.7931, -0.8090, -1.2304, -3.1961, -0.7078],\n",
       "        [-0.8090,  1.3235,  0.5319,  3.1358, -0.0623],\n",
       "        [-1.2304,  0.5319, -1.9692,  0.1079, -2.0318],\n",
       "        [-3.1961,  3.1358,  0.1079, -3.3581,  3.9510],\n",
       "        [-0.7078, -0.0623, -2.0318,  3.9510,  1.0119]], dtype=torch.float64)"
      ]
     },
     "execution_count": 73,
     "metadata": {},
     "output_type": "execute_result"
    }
   ],
   "source": [
    "A_ = torch.randn((5,5)).double()\n",
    "A = A_ + A_.t()\n",
    "A"
   ]
  },
  {
   "cell_type": "code",
   "execution_count": 74,
   "id": "10585fd2",
   "metadata": {},
   "outputs": [],
   "source": [
    "D, V = jacobi.symeig(A)"
   ]
  },
  {
   "cell_type": "code",
   "execution_count": 75,
   "id": "4661a20e",
   "metadata": {},
   "outputs": [
    {
     "data": {
      "text/plain": [
       "tensor([ 0.3504,  5.8521, -3.4011, -7.2766,  2.2763], dtype=torch.float64)"
      ]
     },
     "execution_count": 75,
     "metadata": {},
     "output_type": "execute_result"
    }
   ],
   "source": [
    "D"
   ]
  },
  {
   "cell_type": "code",
   "execution_count": 76,
   "id": "8098431d",
   "metadata": {},
   "outputs": [
    {
     "data": {
      "text/plain": [
       "tensor([[ 0.6910, -0.4828,  0.3702,  0.2546,  0.2958],\n",
       "        [ 0.6821,  0.4528, -0.0979, -0.2775, -0.4931],\n",
       "        [-0.2370, -0.0199,  0.8471, -0.0823, -0.4680],\n",
       "        [ 0.0074,  0.5430,  0.1063,  0.8327,  0.0192],\n",
       "        [ 0.0311,  0.5164,  0.3528, -0.3975,  0.6708]], dtype=torch.float64)"
      ]
     },
     "execution_count": 76,
     "metadata": {},
     "output_type": "execute_result"
    }
   ],
   "source": [
    "V"
   ]
  },
  {
   "cell_type": "code",
   "execution_count": 77,
   "id": "31c24f9b",
   "metadata": {},
   "outputs": [
    {
     "data": {
      "text/plain": [
       "tensor([-7.2766, -3.4011,  0.3504,  2.2763,  5.8521], dtype=torch.float64)"
      ]
     },
     "execution_count": 77,
     "metadata": {},
     "output_type": "execute_result"
    }
   ],
   "source": [
    "Ds, Di = D.sort()\n",
    "Ds"
   ]
  },
  {
   "cell_type": "code",
   "execution_count": 79,
   "id": "880ff5fa",
   "metadata": {},
   "outputs": [
    {
     "data": {
      "text/plain": [
       "tensor([[ 0.2546,  0.3702,  0.6910,  0.2958, -0.4828],\n",
       "        [-0.2775, -0.0979,  0.6821, -0.4931,  0.4528],\n",
       "        [-0.0823,  0.8471, -0.2370, -0.4680, -0.0199],\n",
       "        [ 0.8327,  0.1063,  0.0074,  0.0192,  0.5430],\n",
       "        [-0.3975,  0.3528,  0.0311,  0.6708,  0.5164]], dtype=torch.float64)"
      ]
     },
     "execution_count": 79,
     "metadata": {},
     "output_type": "execute_result"
    }
   ],
   "source": [
    "V.t()[Di].t()"
   ]
  },
  {
   "cell_type": "code",
   "execution_count": 80,
   "id": "ae4ab959",
   "metadata": {},
   "outputs": [],
   "source": [
    "e, vs = torch.linalg.eigh(A)"
   ]
  },
  {
   "cell_type": "code",
   "execution_count": 81,
   "id": "f7c65a48",
   "metadata": {},
   "outputs": [
    {
     "data": {
      "text/plain": [
       "tensor([-7.2766, -3.4011,  0.3504,  2.2763,  5.8521], dtype=torch.float64)"
      ]
     },
     "execution_count": 81,
     "metadata": {},
     "output_type": "execute_result"
    }
   ],
   "source": [
    "e"
   ]
  },
  {
   "cell_type": "code",
   "execution_count": 82,
   "id": "de5311d9",
   "metadata": {},
   "outputs": [
    {
     "data": {
      "text/plain": [
       "tensor([[-0.2546,  0.3702,  0.6910, -0.2958, -0.4828],\n",
       "        [ 0.2775, -0.0979,  0.6821,  0.4931,  0.4528],\n",
       "        [ 0.0823,  0.8471, -0.2370,  0.4680, -0.0199],\n",
       "        [-0.8327,  0.1063,  0.0074, -0.0192,  0.5430],\n",
       "        [ 0.3975,  0.3528,  0.0311, -0.6708,  0.5164]], dtype=torch.float64)"
      ]
     },
     "execution_count": 82,
     "metadata": {},
     "output_type": "execute_result"
    }
   ],
   "source": [
    "vs"
   ]
  },
  {
   "cell_type": "markdown",
   "id": "43d97519",
   "metadata": {},
   "source": [
    "### Exercises \n",
    "**(1)** Let $A$ and $B$ be a real symmetric matrices, with $B$ positive definite. Implement an efficient routine to solve the generalised eigenvalue problem:\n",
    "$$\n",
    "A \\cdot x = \\lambda B \\cdot x\n",
    "$$"
   ]
  },
  {
   "cell_type": "markdown",
   "id": "6f21e63f",
   "metadata": {},
   "source": [
    "**(2)** Implement a routine to that attempts to solve the non-linear eigenvalue problem:\n",
    "$$\n",
    "(\\lambda^2 A + \\lambda B + C) \\cdot x = 0\n",
    "$$\n",
    "over the reals, for any compatible set of square matrices.\n"
   ]
  }
 ],
 "metadata": {
  "kernelspec": {
   "display_name": "Python 3 (ipykernel)",
   "language": "python",
   "name": "python3"
  },
  "language_info": {
   "codemirror_mode": {
    "name": "ipython",
    "version": 3
   },
   "file_extension": ".py",
   "mimetype": "text/x-python",
   "name": "python",
   "nbconvert_exporter": "python",
   "pygments_lexer": "ipython3",
   "version": "3.9.7"
  }
 },
 "nbformat": 4,
 "nbformat_minor": 5
}
