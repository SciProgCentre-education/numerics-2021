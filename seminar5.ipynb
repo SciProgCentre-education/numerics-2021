{
 "cells": [
  {
   "cell_type": "markdown",
   "id": "a2dbcfe8",
   "metadata": {},
   "source": [
    "# Eigenvectors and Eigenvalues \n"
   ]
  },
  {
   "cell_type": "markdown",
   "id": "67e0af96",
   "metadata": {},
   "source": [
    "### Jacobi transformations"
   ]
  },
  {
   "cell_type": "code",
   "execution_count": 1,
   "id": "38d2d33e",
   "metadata": {},
   "outputs": [],
   "source": [
    "import torch\n",
    "from torch.utils.cpp_extension import load"
   ]
  },
  {
   "cell_type": "code",
   "execution_count": 5,
   "id": "40c51526",
   "metadata": {},
   "outputs": [],
   "source": [
    "jacobi = load(name='jacobi',\n",
    "             build_directory='./build',\n",
    "             sources=['jacobi.cc'],\n",
    "             extra_cflags=['-Wall -Wextra -Wpedantic -O3 -std=c++17'],\n",
    "             verbose=False)"
   ]
  },
  {
   "cell_type": "markdown",
   "id": "0142e695",
   "metadata": {},
   "source": [
    "Jacobi rotation for rows/columns $p$ and $q$:\n",
    "$$\n",
    "  P_{pq}(\\phi) = \\begin{pmatrix}\n",
    "   1 &        &           &        &          &        &   \\\\\n",
    "     & \\cdots &           &        &          &        &   \\\\\n",
    "     &        & \\cos\\phi  & \\cdots & \\sin\\phi &        &   \\\\\n",
    "     &        &  \\vdots   &  1     &  \\vdots  &        &   \\\\\n",
    "     &        & -\\sin\\phi & \\cdots & \\cos\\phi &        &   \\\\\n",
    "     &        &           &        &          & \\cdots &   \\\\\n",
    "     &        &           &        &          &        & 1 \\\\\n",
    "  \\end{pmatrix}\n",
    "$$"
   ]
  },
  {
   "cell_type": "markdown",
   "id": "b7b5d026",
   "metadata": {},
   "source": [
    "Let $A$ a real symmetric matrix, apply the Jacobi transformation:\n",
    "$$\n",
    "A' = P^T_{pq}(\\phi) \\cdot A \\cdot P_{pq}(\\phi)\n",
    "$$\n"
   ]
  },
  {
   "cell_type": "markdown",
   "id": "be5543e8",
   "metadata": {},
   "source": [
    "### Exercises\n",
    "**(1)** Show that:\n",
    "$$\n",
    "a'_{pq} = (\\cos^2\\phi - \\sin^2\\phi)a_{pq} + (a_{pp} - a_{qq})\\cos\\phi\\sin\\phi\n",
    "$$\n",
    "\n",
    "**(2)** Requiring $a'_{pq}=0$ amounts to solve:\n",
    "$$\n",
    "\\tan^2\\phi + 2\\theta\\tan\\phi-1 = 0\n",
    "$$\n",
    "where \n",
    "$$\n",
    "\\theta = \\frac{a_{qq} - a_{pp}}{2 a_{pq}}\n",
    "$$\n",
    "\n",
    "**(3)** A solution $\\phi_0 < \\pi / 4$ is given by:\n",
    "$$\n",
    "\\tan\\phi_0 = \\frac{\\mathrm{sgn}(\\theta)}{ \\left|\\theta\\right| + \\sqrt{\\theta^2+1} }\n",
    "$$\n",
    "\n",
    "**(4)** Defining:\n",
    "$$\n",
    "S(A) = \\sum_{r \\neq s} \\left|a_{rs}\\right|^2, \n",
    "$$\n",
    "show that for $\\phi_0$:\n",
    "$$\n",
    "S(A') = S(A) - 2\\left|a_{pq}\\right|^2\n",
    "$$\n",
    "\n",
    "Applying iteratively Jacobi transformations, the above equation guarantees convergence to orthonormal eigenvectors:\n",
    "$$\n",
    "V = P_1 \\cdot P_2 \\cdots I\n",
    "$$\n",
    "with corresponding eigenvalues on the diagonal:\n",
    "$$\n",
    "D = V^T \\cdot A \\cdot V\n",
    "$$\n",
    "\n"
   ]
  },
  {
   "cell_type": "code",
   "execution_count": 6,
   "id": "abe7ff35",
   "metadata": {},
   "outputs": [
    {
     "data": {
      "text/plain": [
       "tensor([[ 0.0422, -1.3537,  0.0888,  1.0250, -1.3220],\n",
       "        [-1.3537, -3.1583,  0.2201,  0.7171, -0.3102],\n",
       "        [ 0.0888,  0.2201,  3.8792,  0.6300,  1.8657],\n",
       "        [ 1.0250,  0.7171,  0.6300,  0.8658, -0.2857],\n",
       "        [-1.3220, -0.3102,  1.8657, -0.2857,  0.3378]], dtype=torch.float64)"
      ]
     },
     "execution_count": 6,
     "metadata": {},
     "output_type": "execute_result"
    }
   ],
   "source": [
    "A_ = torch.randn((5,5)).double()\n",
    "A = A_ + A_.t()\n",
    "A"
   ]
  },
  {
   "cell_type": "code",
   "execution_count": 8,
   "id": "10585fd2",
   "metadata": {},
   "outputs": [],
   "source": [
    "D, V = jacobi.symeig(A)"
   ]
  },
  {
   "cell_type": "code",
   "execution_count": 9,
   "id": "4661a20e",
   "metadata": {},
   "outputs": [
    {
     "data": {
      "text/plain": [
       "tensor([-1.0043, -4.0293,  4.7675,  2.1004,  0.1323], dtype=torch.float64)"
      ]
     },
     "execution_count": 9,
     "metadata": {},
     "output_type": "execute_result"
    }
   ],
   "source": [
    "D"
   ]
  },
  {
   "cell_type": "code",
   "execution_count": 10,
   "id": "8098431d",
   "metadata": {},
   "outputs": [
    {
     "data": {
      "text/plain": [
       "tensor([[ 0.4106,  0.4032, -0.0815,  0.6162, -0.5315],\n",
       "        [-0.3563,  0.8706,  0.0328, -0.0385,  0.3355],\n",
       "        [-0.3031, -0.0598,  0.9076,  0.1563, -0.2374],\n",
       "        [ 0.1316, -0.1928,  0.1021,  0.6609,  0.7060],\n",
       "        [ 0.7715,  0.1968,  0.3977, -0.3970,  0.2241]], dtype=torch.float64)"
      ]
     },
     "execution_count": 10,
     "metadata": {},
     "output_type": "execute_result"
    }
   ],
   "source": [
    "V"
   ]
  },
  {
   "cell_type": "code",
   "execution_count": 11,
   "id": "31c24f9b",
   "metadata": {},
   "outputs": [
    {
     "data": {
      "text/plain": [
       "tensor([-4.0293, -1.0043,  0.1323,  2.1004,  4.7675], dtype=torch.float64)"
      ]
     },
     "execution_count": 11,
     "metadata": {},
     "output_type": "execute_result"
    }
   ],
   "source": [
    "Ds, Di = D.sort()\n",
    "Ds"
   ]
  },
  {
   "cell_type": "code",
   "execution_count": 12,
   "id": "880ff5fa",
   "metadata": {},
   "outputs": [
    {
     "data": {
      "text/plain": [
       "tensor([[ 0.4032,  0.4106, -0.5315,  0.6162, -0.0815],\n",
       "        [ 0.8706, -0.3563,  0.3355, -0.0385,  0.0328],\n",
       "        [-0.0598, -0.3031, -0.2374,  0.1563,  0.9076],\n",
       "        [-0.1928,  0.1316,  0.7060,  0.6609,  0.1021],\n",
       "        [ 0.1968,  0.7715,  0.2241, -0.3970,  0.3977]], dtype=torch.float64)"
      ]
     },
     "execution_count": 12,
     "metadata": {},
     "output_type": "execute_result"
    }
   ],
   "source": [
    "V.t()[Di].t()"
   ]
  },
  {
   "cell_type": "code",
   "execution_count": 13,
   "id": "ae4ab959",
   "metadata": {},
   "outputs": [
    {
     "data": {
      "text/plain": [
       "tensor([-4.0293, -1.0043,  0.1323,  2.1004,  4.7675], dtype=torch.float64)"
      ]
     },
     "execution_count": 13,
     "metadata": {},
     "output_type": "execute_result"
    }
   ],
   "source": [
    "e, vs = torch.linalg.eigh(A)\n",
    "e"
   ]
  },
  {
   "cell_type": "code",
   "execution_count": 14,
   "id": "de5311d9",
   "metadata": {},
   "outputs": [
    {
     "data": {
      "text/plain": [
       "tensor([[ 0.4032,  0.4106, -0.5315,  0.6162, -0.0815],\n",
       "        [ 0.8706, -0.3563,  0.3355, -0.0385,  0.0328],\n",
       "        [-0.0598, -0.3031, -0.2374,  0.1563,  0.9076],\n",
       "        [-0.1928,  0.1316,  0.7060,  0.6609,  0.1021],\n",
       "        [ 0.1968,  0.7715,  0.2241, -0.3970,  0.3977]], dtype=torch.float64)"
      ]
     },
     "execution_count": 14,
     "metadata": {},
     "output_type": "execute_result"
    }
   ],
   "source": [
    "vs"
   ]
  },
  {
   "cell_type": "markdown",
   "id": "43d97519",
   "metadata": {},
   "source": [
    "### Exercises \n",
    "**(1)** Let $A$ and $B$ be a real symmetric matrices, with $B$ positive definite. Implement an efficient routine to solve the generalised eigenvalue problem:\n",
    "$$\n",
    "A \\cdot x = \\lambda B \\cdot x\n",
    "$$"
   ]
  },
  {
   "cell_type": "markdown",
   "id": "6f21e63f",
   "metadata": {},
   "source": [
    "**(2)** Implement a routine to that attempts to solve the non-linear eigenvalue problem:\n",
    "$$\n",
    "(\\lambda^2 A + \\lambda B + C) \\cdot x = 0\n",
    "$$\n",
    "over the reals, for any compatible set of square matrices.\n"
   ]
  }
 ],
 "metadata": {
  "kernelspec": {
   "display_name": "Python 3 (ipykernel)",
   "language": "python",
   "name": "python3"
  },
  "language_info": {
   "codemirror_mode": {
    "name": "ipython",
    "version": 3
   },
   "file_extension": ".py",
   "mimetype": "text/x-python",
   "name": "python",
   "nbconvert_exporter": "python",
   "pygments_lexer": "ipython3",
   "version": "3.9.7"
  }
 },
 "nbformat": 4,
 "nbformat_minor": 5
}
