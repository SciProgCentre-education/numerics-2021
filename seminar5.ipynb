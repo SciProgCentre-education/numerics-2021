{
 "cells": [
  {
   "cell_type": "markdown",
   "id": "a2dbcfe8",
   "metadata": {},
   "source": [
    "# Eigenvectors and Eigenvalues \n"
   ]
  },
  {
   "cell_type": "markdown",
   "id": "67e0af96",
   "metadata": {},
   "source": [
    "### Jacobi transformations"
   ]
  },
  {
   "cell_type": "code",
   "execution_count": 3,
   "id": "38d2d33e",
   "metadata": {},
   "outputs": [],
   "source": [
    "import torch\n",
    "from torch.utils.cpp_extension import load"
   ]
  },
  {
   "cell_type": "code",
   "execution_count": 4,
   "id": "40c51526",
   "metadata": {},
   "outputs": [],
   "source": [
    "jacobi = load(name='jacobi',\n",
    "             build_directory='./build',\n",
    "             sources=['jacobi.cc'],\n",
    "             extra_cflags=['-Wall -Wextra -Wpedantic -O3 -std=c++17'],\n",
    "             verbose=False)"
   ]
  },
  {
   "cell_type": "code",
   "execution_count": 19,
   "id": "c096b1b6",
   "metadata": {},
   "outputs": [
    {
     "name": "stdout",
     "output_type": "stream",
     "text": [
      "PyTorch built with:\n",
      "  - GCC 7.3\n",
      "  - C++ Version: 201402\n",
      "  - Intel(R) Math Kernel Library Version 2020.0.0 Product Build 20191122 for Intel(R) 64 architecture applications\n",
      "  - Intel(R) MKL-DNN v2.1.2 (Git Hash 98be7e8afa711dc9b66c8ff3504129cb82013cdb)\n",
      "  - OpenMP 201511 (a.k.a. OpenMP 4.5)\n",
      "  - NNPACK is enabled\n",
      "  - CPU capability usage: AVX2\n",
      "  - CUDA Runtime 10.2\n",
      "  - NVCC architecture flags: -gencode;arch=compute_37,code=sm_37;-gencode;arch=compute_50,code=sm_50;-gencode;arch=compute_60,code=sm_60;-gencode;arch=compute_70,code=sm_70\n",
      "  - CuDNN 7.6.5\n",
      "  - Magma 2.5.2\n",
      "  - Build settings: BLAS_INFO=mkl, BUILD_TYPE=Release, CUDA_VERSION=10.2, CUDNN_VERSION=7.6.5, CXX_COMPILER=/opt/rh/devtoolset-7/root/usr/bin/c++, CXX_FLAGS= -Wno-deprecated -fvisibility-inlines-hidden -DUSE_PTHREADPOOL -fopenmp -DNDEBUG -DUSE_KINETO -DUSE_FBGEMM -DUSE_QNNPACK -DUSE_PYTORCH_QNNPACK -DUSE_XNNPACK -DSYMBOLICATE_MOBILE_DEBUG_HANDLE -O2 -fPIC -Wno-narrowing -Wall -Wextra -Werror=return-type -Wno-missing-field-initializers -Wno-type-limits -Wno-array-bounds -Wno-unknown-pragmas -Wno-sign-compare -Wno-unused-parameter -Wno-unused-variable -Wno-unused-function -Wno-unused-result -Wno-unused-local-typedefs -Wno-strict-overflow -Wno-strict-aliasing -Wno-error=deprecated-declarations -Wno-stringop-overflow -Wno-psabi -Wno-error=pedantic -Wno-error=redundant-decls -Wno-error=old-style-cast -fdiagnostics-color=always -faligned-new -Wno-unused-but-set-variable -Wno-maybe-uninitialized -fno-math-errno -fno-trapping-math -Werror=format -Wno-stringop-overflow, LAPACK_INFO=mkl, PERF_WITH_AVX=1, PERF_WITH_AVX2=1, PERF_WITH_AVX512=1, TORCH_VERSION=1.9.0, USE_CUDA=ON, USE_CUDNN=ON, USE_EXCEPTION_PTR=1, USE_GFLAGS=OFF, USE_GLOG=OFF, USE_MKL=ON, USE_MKLDNN=ON, USE_MPI=OFF, USE_NCCL=ON, USE_NNPACK=ON, USE_OPENMP=ON, \n",
      "\n"
     ]
    }
   ],
   "source": [
    "print(torch.__config__.show())"
   ]
  },
  {
   "cell_type": "markdown",
   "id": "0142e695",
   "metadata": {},
   "source": [
    "Jacobi rotation for rows/columns $p$ and $q$:\n",
    "$$\n",
    "  P_{pq}(\\phi) = \\begin{pmatrix}\n",
    "   1 &        &           &        &          &        &   \\\\\n",
    "     & \\cdots &           &        &          &        &   \\\\\n",
    "     &        & \\cos\\phi  & \\cdots & \\sin\\phi &        &   \\\\\n",
    "     &        &  \\vdots   &  1     &  \\vdots  &        &   \\\\\n",
    "     &        & -\\sin\\phi & \\cdots & \\cos\\phi &        &   \\\\\n",
    "     &        &           &        &          & \\cdots &   \\\\\n",
    "     &        &           &        &          &        & 1 \\\\\n",
    "  \\end{pmatrix}\n",
    "$$"
   ]
  },
  {
   "cell_type": "markdown",
   "id": "b7b5d026",
   "metadata": {},
   "source": [
    "Let $A$ a real symmetric matrix, apply the Jacobi transformation:\n",
    "$$\n",
    "A' = P^T_{pq}(\\phi) \\cdot A \\cdot P_{pq}(\\phi)\n",
    "$$\n"
   ]
  },
  {
   "cell_type": "markdown",
   "id": "be5543e8",
   "metadata": {},
   "source": [
    "### Exercises\n",
    "**(1)** Show that:\n",
    "$$\n",
    "a'_{pq} = (\\cos^2\\phi - \\sin^2\\phi)a_{pq} + (a_{pp} - a_{qq})\\cos\\phi\\sin\\phi\n",
    "$$\n",
    "\n",
    "**(2)** Requiring $a'_{pq}=0$ amounts to solve:\n",
    "$$\n",
    "\\tan^2\\phi + 2\\theta\\tan\\phi-1 = 0\n",
    "$$\n",
    "where \n",
    "$$\n",
    "\\theta = \\frac{a_{qq} - a_{pp}}{2 a_{pq}}\n",
    "$$\n",
    "\n",
    "**(3)** A solution $\\phi_0 < \\pi / 4$ is given by:\n",
    "$$\n",
    "\\tan\\phi_0 = \\frac{\\mathrm{sgn}(\\theta)}{ \\left|\\theta\\right| + \\sqrt{\\theta^2+1} }\n",
    "$$\n",
    "\n",
    "**(4)** Defining:\n",
    "$$\n",
    "S(A) = \\sum_{r \\neq s} \\left|a_{rs}\\right|^2, \n",
    "$$\n",
    "show that for $\\phi_0$:\n",
    "$$\n",
    "S(A') = S(A) - 2\\left|a_{pq}\\right|^2\n",
    "$$\n",
    "\n",
    "Applying iteratively Jacobi transformations, the above equation guarantees convergence to orthonormal eigenvectors:\n",
    "$$\n",
    "V = P_1 \\cdot P_2 \\cdots I\n",
    "$$\n",
    "with corresponding eigenvalues on the diagonal:\n",
    "$$\n",
    "D = V^T \\cdot A \\cdot V\n",
    "$$\n",
    "\n"
   ]
  },
  {
   "cell_type": "code",
   "execution_count": 5,
   "id": "abe7ff35",
   "metadata": {},
   "outputs": [
    {
     "data": {
      "text/plain": [
       "tensor([[ 0.8751, -1.9225,  0.2382, -0.8134, -2.1602],\n",
       "        [-1.9225, -2.4920,  1.1830, -0.3045, -3.2797],\n",
       "        [ 0.2382,  1.1830, -1.0930,  2.4268,  2.0069],\n",
       "        [-0.8134, -0.3045,  2.4268,  0.1921, -1.3723],\n",
       "        [-2.1602, -3.2797,  2.0069, -1.3723,  0.6081]], dtype=torch.float64)"
      ]
     },
     "execution_count": 5,
     "metadata": {},
     "output_type": "execute_result"
    }
   ],
   "source": [
    "A_ = torch.randn((5,5)).double()\n",
    "A = A_ + A_.t()\n",
    "A"
   ]
  },
  {
   "cell_type": "code",
   "execution_count": 22,
   "id": "31a7ca95",
   "metadata": {},
   "outputs": [
    {
     "data": {
      "text/plain": [
       "tensor(0.8751, dtype=torch.float64)"
      ]
     },
     "execution_count": 22,
     "metadata": {},
     "output_type": "execute_result"
    }
   ],
   "source": [
    "A[0,0]"
   ]
  },
  {
   "cell_type": "code",
   "execution_count": 6,
   "id": "10585fd2",
   "metadata": {},
   "outputs": [],
   "source": [
    "D, V = jacobi.symeig(A)"
   ]
  },
  {
   "cell_type": "code",
   "execution_count": 7,
   "id": "4661a20e",
   "metadata": {},
   "outputs": [
    {
     "data": {
      "text/plain": [
       "tensor([ 2.4896, -7.1738, -1.8946,  1.1758,  3.4931], dtype=torch.float64)"
      ]
     },
     "execution_count": 7,
     "metadata": {},
     "output_type": "execute_result"
    }
   ],
   "source": [
    "D"
   ]
  },
  {
   "cell_type": "code",
   "execution_count": 8,
   "id": "8098431d",
   "metadata": {},
   "outputs": [
    {
     "data": {
      "text/plain": [
       "tensor([[ 0.3944,  0.3249,  0.2015,  0.6944, -0.4649],\n",
       "        [-0.3741,  0.6137,  0.5237, -0.3883, -0.2415],\n",
       "        [-0.4203, -0.4168,  0.6286,  0.4290,  0.2653],\n",
       "        [-0.6826,  0.2932, -0.5348,  0.4026, -0.0046],\n",
       "        [ 0.2488,  0.5080,  0.0629,  0.1446,  0.8094]], dtype=torch.float64)"
      ]
     },
     "execution_count": 8,
     "metadata": {},
     "output_type": "execute_result"
    }
   ],
   "source": [
    "V"
   ]
  },
  {
   "cell_type": "code",
   "execution_count": 9,
   "id": "31c24f9b",
   "metadata": {},
   "outputs": [
    {
     "data": {
      "text/plain": [
       "tensor([-7.1738, -1.8946,  1.1758,  2.4896,  3.4931], dtype=torch.float64)"
      ]
     },
     "execution_count": 9,
     "metadata": {},
     "output_type": "execute_result"
    }
   ],
   "source": [
    "Ds, Di = D.sort()\n",
    "Ds"
   ]
  },
  {
   "cell_type": "code",
   "execution_count": 10,
   "id": "880ff5fa",
   "metadata": {},
   "outputs": [
    {
     "data": {
      "text/plain": [
       "tensor([[ 0.3249,  0.2015,  0.6944,  0.3944, -0.4649],\n",
       "        [ 0.6137,  0.5237, -0.3883, -0.3741, -0.2415],\n",
       "        [-0.4168,  0.6286,  0.4290, -0.4203,  0.2653],\n",
       "        [ 0.2932, -0.5348,  0.4026, -0.6826, -0.0046],\n",
       "        [ 0.5080,  0.0629,  0.1446,  0.2488,  0.8094]], dtype=torch.float64)"
      ]
     },
     "execution_count": 10,
     "metadata": {},
     "output_type": "execute_result"
    }
   ],
   "source": [
    "Vs = V.t()[Di].t()\n",
    "Vs"
   ]
  },
  {
   "cell_type": "code",
   "execution_count": 12,
   "id": "fcbffbd2",
   "metadata": {},
   "outputs": [
    {
     "data": {
      "text/plain": [
       "tensor(9.4534e-13, dtype=torch.float64)"
      ]
     },
     "execution_count": 12,
     "metadata": {},
     "output_type": "execute_result"
    }
   ],
   "source": [
    "torch.dist(A, V @ torch.diag_embed(D) @ V.t())"
   ]
  },
  {
   "cell_type": "code",
   "execution_count": 14,
   "id": "ae4ab959",
   "metadata": {},
   "outputs": [],
   "source": [
    "Dmkl, Vmkl = torch.linalg.eigh(A)"
   ]
  },
  {
   "cell_type": "code",
   "execution_count": 15,
   "id": "39cbe0f6",
   "metadata": {},
   "outputs": [
    {
     "data": {
      "text/plain": [
       "tensor(2.5704e-15, dtype=torch.float64)"
      ]
     },
     "execution_count": 15,
     "metadata": {},
     "output_type": "execute_result"
    }
   ],
   "source": [
    "torch.dist(Dmkl, Ds)"
   ]
  },
  {
   "cell_type": "markdown",
   "id": "43d97519",
   "metadata": {},
   "source": [
    "### Exercises \n",
    "**(1)** Let $A$ and $B$ be a real symmetric matrices, with $B$ positive definite. Implement an efficient routine to solve the generalised eigenvalue problem:\n",
    "$$\n",
    "A \\cdot x = \\lambda B \\cdot x\n",
    "$$"
   ]
  },
  {
   "cell_type": "markdown",
   "id": "6f21e63f",
   "metadata": {},
   "source": [
    "**(2)** Implement a routine to that attempts to solve the non-linear eigenvalue problem:\n",
    "$$\n",
    "(\\lambda^2 A + \\lambda B + C) \\cdot x = 0\n",
    "$$\n",
    "over the reals, for any compatible set of square matrices.\n"
   ]
  }
 ],
 "metadata": {
  "kernelspec": {
   "display_name": "Python 3 (ipykernel)",
   "language": "python",
   "name": "python3"
  },
  "language_info": {
   "codemirror_mode": {
    "name": "ipython",
    "version": 3
   },
   "file_extension": ".py",
   "mimetype": "text/x-python",
   "name": "python",
   "nbconvert_exporter": "python",
   "pygments_lexer": "ipython3",
   "version": "3.9.7"
  }
 },
 "nbformat": 4,
 "nbformat_minor": 5
}
