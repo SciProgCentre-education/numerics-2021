{
 "cells": [
  {
   "cell_type": "markdown",
   "id": "4961135d",
   "metadata": {},
   "source": [
    "# Iterative algorithms for Sparse Tensors\n",
    "\n",
    "## Power method for SVD "
   ]
  },
  {
   "cell_type": "code",
   "execution_count": 1,
   "id": "8253047d",
   "metadata": {},
   "outputs": [],
   "source": [
    "import torch"
   ]
  },
  {
   "cell_type": "code",
   "execution_count": 5,
   "id": "3d6cac16",
   "metadata": {},
   "outputs": [
    {
     "data": {
      "text/plain": [
       "tensor(indices=tensor([[1, 5, 0, 2, 2, 0, 5, 1, 2, 0],\n",
       "                       [3, 2, 1, 1, 3, 2, 4, 2, 4, 1]]),\n",
       "       values=tensor([ 0.5164,  1.0448,  0.9814, -0.7731, -0.2806,  0.1752,\n",
       "                      -1.8242, -0.1353, -0.2924,  0.4695]),\n",
       "       size=(7, 5), nnz=10, layout=torch.sparse_coo)"
      ]
     },
     "execution_count": 5,
     "metadata": {},
     "output_type": "execute_result"
    }
   ],
   "source": [
    "def gen_sparse():\n",
    "    Ai = torch.stack([torch.randint(7,(10,)), torch.randint(5,(10,))])\n",
    "    Av =  torch.randn(10)\n",
    "    A = torch.sparse_coo_tensor(Ai, Av, (7, 5))\n",
    "    return A\n",
    "\n",
    "A = gen_sparse()\n",
    "A"
   ]
  },
  {
   "cell_type": "code",
   "execution_count": 6,
   "id": "82660784",
   "metadata": {},
   "outputs": [
    {
     "data": {
      "text/plain": [
       "False"
      ]
     },
     "execution_count": 6,
     "metadata": {},
     "output_type": "execute_result"
    }
   ],
   "source": [
    "A.is_coalesced()"
   ]
  },
  {
   "cell_type": "code",
   "execution_count": 7,
   "id": "97b9cf9e",
   "metadata": {},
   "outputs": [
    {
     "data": {
      "text/plain": [
       "tensor(indices=tensor([[0, 0, 1, 1, 2, 2, 2, 5, 5],\n",
       "                       [1, 2, 2, 3, 1, 3, 4, 2, 4]]),\n",
       "       values=tensor([ 1.4509,  0.1752, -0.1353,  0.5164, -0.7731, -0.2806,\n",
       "                      -0.2924,  1.0448, -1.8242]),\n",
       "       size=(7, 5), nnz=9, layout=torch.sparse_coo)"
      ]
     },
     "execution_count": 7,
     "metadata": {},
     "output_type": "execute_result"
    }
   ],
   "source": [
    "A = A.coalesce()\n",
    "A"
   ]
  },
  {
   "cell_type": "code",
   "execution_count": 8,
   "id": "68f410b8",
   "metadata": {},
   "outputs": [
    {
     "data": {
      "text/plain": [
       "tensor([[ 0.0000,  1.4509,  0.1752,  0.0000,  0.0000],\n",
       "        [ 0.0000,  0.0000, -0.1353,  0.5164,  0.0000],\n",
       "        [ 0.0000, -0.7731,  0.0000, -0.2806, -0.2924],\n",
       "        [ 0.0000,  0.0000,  0.0000,  0.0000,  0.0000],\n",
       "        [ 0.0000,  0.0000,  0.0000,  0.0000,  0.0000],\n",
       "        [ 0.0000,  0.0000,  1.0448,  0.0000, -1.8242],\n",
       "        [ 0.0000,  0.0000,  0.0000,  0.0000,  0.0000]])"
      ]
     },
     "execution_count": 8,
     "metadata": {},
     "output_type": "execute_result"
    }
   ],
   "source": [
    "A_dense = A.to_dense()\n",
    "A_dense"
   ]
  },
  {
   "cell_type": "code",
   "execution_count": 9,
   "id": "8d864b06",
   "metadata": {},
   "outputs": [
    {
     "data": {
      "text/plain": [
       "tensor(indices=tensor([[1, 1, 1, 2, 2, 5, 6, 6],\n",
       "                       [0, 1, 4, 0, 4, 3, 0, 3]]),\n",
       "       values=tensor([-0.6735, -1.3761,  0.0919,  2.6513, -0.4857,  0.3119,\n",
       "                      -1.9706,  4.4178]),\n",
       "       size=(7, 5), nnz=8, layout=torch.sparse_coo)"
      ]
     },
     "execution_count": 9,
     "metadata": {},
     "output_type": "execute_result"
    }
   ],
   "source": [
    "B = gen_sparse().coalesce()\n",
    "B"
   ]
  },
  {
   "cell_type": "code",
   "execution_count": 10,
   "id": "9665d527",
   "metadata": {},
   "outputs": [
    {
     "data": {
      "text/plain": [
       "tensor(indices=tensor([[0, 0, 1, 1, 1, 1, 1, 2, 2, 2, 2, 5, 5, 5, 6, 6],\n",
       "                       [1, 2, 0, 1, 2, 3, 4, 0, 1, 3, 4, 2, 3, 4, 0, 3]]),\n",
       "       values=tensor([ 1.4509,  0.1752, -0.6735, -1.3761, -0.1353,  0.5164,\n",
       "                       0.0919,  2.6513, -0.7731, -0.2806, -0.7781,  1.0448,\n",
       "                       0.3119, -1.8242, -1.9706,  4.4178]),\n",
       "       size=(7, 5), nnz=16, layout=torch.sparse_coo)"
      ]
     },
     "execution_count": 10,
     "metadata": {},
     "output_type": "execute_result"
    }
   ],
   "source": [
    "AB = A + B\n",
    "AB"
   ]
  },
  {
   "cell_type": "code",
   "execution_count": 11,
   "id": "c30695f0",
   "metadata": {},
   "outputs": [
    {
     "data": {
      "text/plain": [
       "True"
      ]
     },
     "execution_count": 11,
     "metadata": {},
     "output_type": "execute_result"
    }
   ],
   "source": [
    "AB.is_coalesced()"
   ]
  },
  {
   "cell_type": "code",
   "execution_count": 12,
   "id": "8ca1dbae",
   "metadata": {},
   "outputs": [
    {
     "data": {
      "text/plain": [
       "tensor(indices=tensor([[1, 2, 2, 3, 1, 3, 4, 2, 4],\n",
       "                       [0, 0, 1, 1, 2, 2, 2, 5, 5]]),\n",
       "       values=tensor([ 1.4509,  0.1752, -0.1353,  0.5164, -0.7731, -0.2806,\n",
       "                      -0.2924,  1.0448, -1.8242]),\n",
       "       size=(5, 7), nnz=9, layout=torch.sparse_coo)"
      ]
     },
     "execution_count": 12,
     "metadata": {},
     "output_type": "execute_result"
    }
   ],
   "source": [
    "AT = A.t()\n",
    "AT"
   ]
  },
  {
   "cell_type": "code",
   "execution_count": 13,
   "id": "54fb1013",
   "metadata": {},
   "outputs": [
    {
     "data": {
      "text/plain": [
       "False"
      ]
     },
     "execution_count": 13,
     "metadata": {},
     "output_type": "execute_result"
    }
   ],
   "source": [
    "AT.is_coalesced()"
   ]
  },
  {
   "cell_type": "code",
   "execution_count": 14,
   "id": "203f3129",
   "metadata": {},
   "outputs": [
    {
     "data": {
      "text/plain": [
       "tensor(indices=tensor([[1, 1, 1, 1, 2, 2, 2, 2, 3, 3, 3, 3, 4, 4, 4, 4],\n",
       "                       [4, 3, 2, 1, 4, 3, 2, 1, 4, 1, 3, 2, 2, 4, 3, 1]]),\n",
       "       values=tensor([ 0.2260,  0.2169,  0.2542,  2.7028, -1.9060, -0.0699,\n",
       "                       1.1407,  0.2542,  0.0820,  0.2169,  0.3454, -0.0699,\n",
       "                      -1.9060,  3.4132,  0.0820,  0.2260]),\n",
       "       size=(5, 5), nnz=16, layout=torch.sparse_coo)"
      ]
     },
     "execution_count": 14,
     "metadata": {},
     "output_type": "execute_result"
    }
   ],
   "source": [
    "ATA = torch.sparse.mm(AT, A)\n",
    "ATA"
   ]
  },
  {
   "cell_type": "code",
   "execution_count": 15,
   "id": "8519a84d",
   "metadata": {},
   "outputs": [
    {
     "data": {
      "text/plain": [
       "tensor([[ 0.0000,  0.0000,  0.0000,  0.0000,  0.0000],\n",
       "        [ 0.0000,  2.7028,  0.2542,  0.2169,  0.2260],\n",
       "        [ 0.0000,  0.2542,  1.1407, -0.0699, -1.9060],\n",
       "        [ 0.0000,  0.2169, -0.0699,  0.3454,  0.0820],\n",
       "        [ 0.0000,  0.2260, -1.9060,  0.0820,  3.4132]])"
      ]
     },
     "execution_count": 15,
     "metadata": {},
     "output_type": "execute_result"
    }
   ],
   "source": [
    "AT @ A_dense"
   ]
  },
  {
   "cell_type": "code",
   "execution_count": 16,
   "id": "55a1583e",
   "metadata": {},
   "outputs": [
    {
     "data": {
      "text/plain": [
       "tensor([[ 0.0000,  1.4509,  0.1752,  0.0000,  0.0000],\n",
       "        [-0.6735, -1.3761, -0.1353,  0.5164,  0.0919],\n",
       "        [ 2.6513, -0.7731,  0.0000, -0.2806, -0.7781],\n",
       "        [ 0.0000,  0.0000,  0.0000,  0.0000,  0.0000],\n",
       "        [ 0.0000,  0.0000,  0.0000,  0.0000,  0.0000],\n",
       "        [ 0.0000,  0.0000,  1.0448,  0.3119, -1.8242],\n",
       "        [-1.9706,  0.0000,  0.0000,  4.4178,  0.0000]])"
      ]
     },
     "execution_count": 16,
     "metadata": {},
     "output_type": "execute_result"
    }
   ],
   "source": [
    "A_dense + B"
   ]
  },
  {
   "cell_type": "code",
   "execution_count": 17,
   "id": "ea4eb9dd",
   "metadata": {},
   "outputs": [
    {
     "data": {
      "text/plain": [
       "tensor([2.1218, 1.6610])"
      ]
     },
     "execution_count": 17,
     "metadata": {},
     "output_type": "execute_result"
    }
   ],
   "source": [
    "U,S,V = torch.svd_lowrank(A, 2)\n",
    "S"
   ]
  },
  {
   "cell_type": "code",
   "execution_count": 18,
   "id": "d2bd0d8e",
   "metadata": {},
   "outputs": [
    {
     "data": {
      "text/plain": [
       "tensor([[ 1.5771e-11,  1.8626e-09],\n",
       "        [ 4.3301e-02, -9.8822e-01],\n",
       "        [-4.9058e-01, -1.2839e-01],\n",
       "        [ 2.7824e-02, -8.0726e-02],\n",
       "        [ 8.6987e-01, -2.0632e-02]])"
      ]
     },
     "execution_count": 18,
     "metadata": {},
     "output_type": "execute_result"
    }
   ],
   "source": [
    "V"
   ]
  },
  {
   "cell_type": "code",
   "execution_count": 19,
   "id": "a20d0fbd",
   "metadata": {},
   "outputs": [
    {
     "data": {
      "text/plain": [
       "tensor([[-0.0109, -0.8767],\n",
       "        [ 0.0381, -0.0146],\n",
       "        [-0.1393,  0.4772],\n",
       "        [ 0.0000,  0.0000],\n",
       "        [ 0.0000,  0.0000],\n",
       "        [-0.9895, -0.0581],\n",
       "        [ 0.0000,  0.0000]])"
      ]
     },
     "execution_count": 19,
     "metadata": {},
     "output_type": "execute_result"
    }
   ],
   "source": [
    "U"
   ]
  },
  {
   "cell_type": "code",
   "execution_count": 20,
   "id": "af0cda51",
   "metadata": {},
   "outputs": [
    {
     "data": {
      "text/plain": [
       "tensor(0.5841)"
      ]
     },
     "execution_count": 20,
     "metadata": {},
     "output_type": "execute_result"
    }
   ],
   "source": [
    "torch.dist(A_dense, U @ torch.diag_embed(S) @ V.t())"
   ]
  },
  {
   "cell_type": "code",
   "execution_count": 21,
   "id": "5846b5b2",
   "metadata": {},
   "outputs": [
    {
     "name": "stdout",
     "output_type": "stream",
     "text": [
      "tensor([2.1218, 1.6610, 0.5755, 0.0995, 0.0000])\n"
     ]
    },
    {
     "data": {
      "text/plain": [
       "tensor(7.9630e-07)"
      ]
     },
     "execution_count": 21,
     "metadata": {},
     "output_type": "execute_result"
    }
   ],
   "source": [
    "U_full,S_full,V_full = torch.svd_lowrank(A, 5)\n",
    "print(S_full)\n",
    "torch.dist(A_dense, U_full @ torch.diag_embed(S_full) @ V_full.t())"
   ]
  },
  {
   "cell_type": "code",
   "execution_count": 22,
   "id": "d5e84461",
   "metadata": {},
   "outputs": [
    {
     "data": {
      "text/plain": [
       "tensor([ 1.5771e-11,  4.3301e-02, -4.9058e-01,  2.7824e-02,  8.6987e-01])"
      ]
     },
     "execution_count": 22,
     "metadata": {},
     "output_type": "execute_result"
    }
   ],
   "source": [
    "v0 = V.t()[0]\n",
    "v0"
   ]
  },
  {
   "cell_type": "code",
   "execution_count": 23,
   "id": "bba344de",
   "metadata": {},
   "outputs": [
    {
     "data": {
      "text/plain": [
       "tensor([ 0.0000,  0.1950, -2.2085,  0.1246,  3.9161])"
      ]
     },
     "execution_count": 23,
     "metadata": {},
     "output_type": "execute_result"
    }
   ],
   "source": [
    "ATA @ v0"
   ]
  },
  {
   "cell_type": "code",
   "execution_count": 24,
   "id": "0397bfa5",
   "metadata": {},
   "outputs": [
    {
     "data": {
      "text/plain": [
       "tensor([ 7.1001e-11,  1.9494e-01, -2.2085e+00,  1.2526e-01,  3.9161e+00])"
      ]
     },
     "execution_count": 24,
     "metadata": {},
     "output_type": "execute_result"
    }
   ],
   "source": [
    " S[0].pow(2) * v0"
   ]
  },
  {
   "cell_type": "code",
   "execution_count": 25,
   "id": "9e5adc48",
   "metadata": {},
   "outputs": [
    {
     "data": {
      "text/plain": [
       "tensor(0.0006)"
      ]
     },
     "execution_count": 25,
     "metadata": {},
     "output_type": "execute_result"
    }
   ],
   "source": [
    "torch.dist(ATA @ v0, S[0].pow(2) * v0)"
   ]
  },
  {
   "cell_type": "code",
   "execution_count": 26,
   "id": "bb0cef63",
   "metadata": {},
   "outputs": [
    {
     "data": {
      "text/plain": [
       "tensor([ 0.5650, -0.5829,  0.4306,  0.0756, -0.3873])"
      ]
     },
     "execution_count": 26,
     "metadata": {},
     "output_type": "execute_result"
    }
   ],
   "source": [
    "v = torch.randn(5)\n",
    "v /= v.norm()\n",
    "v"
   ]
  },
  {
   "cell_type": "code",
   "execution_count": 53,
   "id": "8612ff63",
   "metadata": {},
   "outputs": [
    {
     "data": {
      "text/plain": [
       "tensor([ 0.0000, -0.0433,  0.4906, -0.0277, -0.8699])"
      ]
     },
     "execution_count": 53,
     "metadata": {},
     "output_type": "execute_result"
    }
   ],
   "source": [
    "v = ATA @ v\n",
    "v /= v.norm()\n",
    "v"
   ]
  },
  {
   "cell_type": "code",
   "execution_count": 54,
   "id": "8c536b0a",
   "metadata": {},
   "outputs": [
    {
     "data": {
      "text/plain": [
       "tensor(0.0002)"
      ]
     },
     "execution_count": 54,
     "metadata": {},
     "output_type": "execute_result"
    }
   ],
   "source": [
    "torch.dist(v,-v0)"
   ]
  },
  {
   "cell_type": "code",
   "execution_count": 55,
   "id": "d79a936c",
   "metadata": {},
   "outputs": [
    {
     "data": {
      "text/plain": [
       "tensor([ 0.0000, -0.1950,  2.2085, -0.1246, -3.9161])"
      ]
     },
     "execution_count": 55,
     "metadata": {},
     "output_type": "execute_result"
    }
   ],
   "source": [
    "vp = ATA @ v\n",
    "vp"
   ]
  },
  {
   "cell_type": "code",
   "execution_count": 56,
   "id": "68ff9413",
   "metadata": {},
   "outputs": [
    {
     "data": {
      "text/plain": [
       "tensor(2.1218)"
      ]
     },
     "execution_count": 56,
     "metadata": {},
     "output_type": "execute_result"
    }
   ],
   "source": [
    "s = torch.sqrt(vp.norm())\n",
    "s"
   ]
  },
  {
   "cell_type": "code",
   "execution_count": 57,
   "id": "4f0fd478",
   "metadata": {},
   "outputs": [
    {
     "data": {
      "text/plain": [
       "tensor(2.3842e-07)"
      ]
     },
     "execution_count": 57,
     "metadata": {},
     "output_type": "execute_result"
    }
   ],
   "source": [
    "torch.dist(S[0],s)"
   ]
  },
  {
   "cell_type": "code",
   "execution_count": 58,
   "id": "86678d88",
   "metadata": {},
   "outputs": [
    {
     "data": {
      "text/plain": [
       "tensor([ 0.0109, -0.0380,  0.1393,  0.0000,  0.0000,  0.9895,  0.0000])"
      ]
     },
     "execution_count": 58,
     "metadata": {},
     "output_type": "execute_result"
    }
   ],
   "source": [
    "u = (A @ v) / s\n",
    "u"
   ]
  },
  {
   "cell_type": "code",
   "execution_count": 60,
   "id": "a0d8488a",
   "metadata": {},
   "outputs": [
    {
     "data": {
      "text/plain": [
       "tensor(4.1069e-05)"
      ]
     },
     "execution_count": 60,
     "metadata": {},
     "output_type": "execute_result"
    }
   ],
   "source": [
    "u0 = U.t()[0]\n",
    "torch.dist(-u0, u)"
   ]
  },
  {
   "cell_type": "code",
   "execution_count": 61,
   "id": "361ef4ff",
   "metadata": {},
   "outputs": [
    {
     "data": {
      "text/plain": [
       "tensor([[ 0.0000e+00, -4.7168e-04,  5.3418e-03, -3.0137e-04, -9.4724e-03],\n",
       "        [-0.0000e+00,  1.6467e-03, -1.8649e-02,  1.0521e-03,  3.3069e-02],\n",
       "        [ 0.0000e+00, -6.0346e-03,  6.8342e-02, -3.8557e-03, -1.2119e-01],\n",
       "        [ 0.0000e+00, -0.0000e+00,  0.0000e+00, -0.0000e+00, -0.0000e+00],\n",
       "        [ 0.0000e+00, -0.0000e+00,  0.0000e+00, -0.0000e+00, -0.0000e+00],\n",
       "        [ 0.0000e+00, -4.2860e-02,  4.8539e-01, -2.7385e-02, -8.6072e-01],\n",
       "        [ 0.0000e+00, -0.0000e+00,  0.0000e+00, -0.0000e+00, -0.0000e+00]])"
      ]
     },
     "execution_count": 61,
     "metadata": {},
     "output_type": "execute_result"
    }
   ],
   "source": [
    "uOv = torch.outer(u,v)\n",
    "uOv"
   ]
  },
  {
   "cell_type": "code",
   "execution_count": 62,
   "id": "c8d47003",
   "metadata": {},
   "outputs": [
    {
     "data": {
      "text/plain": [
       "tensor(indices=tensor([[0, 0, 0, 0, 1, 1, 1, 1, 2, 2, 2, 2, 5, 5, 5, 5],\n",
       "                       [1, 2, 3, 4, 1, 2, 3, 4, 1, 2, 3, 4, 1, 2, 3, 4]]),\n",
       "       values=tensor([-4.7168e-04,  5.3418e-03, -3.0137e-04, -9.4724e-03,\n",
       "                       1.6467e-03, -1.8649e-02,  1.0521e-03,  3.3069e-02,\n",
       "                      -6.0346e-03,  6.8342e-02, -3.8557e-03, -1.2119e-01,\n",
       "                      -4.2860e-02,  4.8539e-01, -2.7385e-02, -8.6072e-01]),\n",
       "       size=(7, 5), nnz=16, layout=torch.sparse_coo)"
      ]
     },
     "execution_count": 62,
     "metadata": {},
     "output_type": "execute_result"
    }
   ],
   "source": [
    "uOv = uOv.to_sparse()\n",
    "uOv"
   ]
  },
  {
   "cell_type": "code",
   "execution_count": 63,
   "id": "84f2212c",
   "metadata": {},
   "outputs": [
    {
     "data": {
      "text/plain": [
       "tensor(indices=tensor([[0, 0, 0, 0, 1, 1, 1, 1, 2, 2, 2, 2, 5, 5, 5, 5],\n",
       "                       [1, 2, 3, 4, 1, 2, 3, 4, 1, 2, 3, 4, 1, 2, 3, 4]]),\n",
       "       values=tensor([ 1.4519e+00,  1.6388e-01,  6.3944e-04,  2.0098e-02,\n",
       "                      -3.4939e-03, -9.5716e-02,  5.1421e-01, -7.0164e-02,\n",
       "                      -7.6028e-01, -1.4501e-01, -2.7241e-01, -3.5249e-02,\n",
       "                       9.0939e-02,  1.4936e-02,  5.8104e-02,  2.0462e-03]),\n",
       "       size=(7, 5), nnz=16, layout=torch.sparse_coo)"
      ]
     },
     "execution_count": 63,
     "metadata": {},
     "output_type": "execute_result"
    }
   ],
   "source": [
    "Ap = A - (uOv * s)\n",
    "Ap"
   ]
  },
  {
   "cell_type": "code",
   "execution_count": 67,
   "id": "9bf53051",
   "metadata": {},
   "outputs": [],
   "source": [
    "def svd1D(A, tol=1e-6, max_iter=50):\n",
    "    currentV = torch.randn(5)\n",
    "    currentV /= currentV.norm()\n",
    "    lastV = torch.zeros_like(currentV)\n",
    "    ATA = torch.sparse.mm(A.t(), A)\n",
    "    \n",
    "    iterations = 0\n",
    "    while torch.dist(currentV,lastV) > tol :\n",
    "        iterations += 1\n",
    "        lastV = currentV\n",
    "        currentV = ATA @ lastV\n",
    "        currentV /= currentV.norm()\n",
    "\n",
    "        if iterations > max_iter:\n",
    "            print(f\"SVD failed to converge in {iterations} iterations:\") \n",
    "            print(f\"{torch.dist(currentV,lastV)} > {tol}\")\n",
    "            break\n",
    "            \n",
    "    return currentV"
   ]
  },
  {
   "cell_type": "code",
   "execution_count": 68,
   "id": "1f233430",
   "metadata": {},
   "outputs": [],
   "source": [
    "vp = svd1D(Ap)"
   ]
  },
  {
   "cell_type": "code",
   "execution_count": 70,
   "id": "cdf9dcdf",
   "metadata": {},
   "outputs": [
    {
     "data": {
      "text/plain": [
       "tensor(0.0051)"
      ]
     },
     "execution_count": 70,
     "metadata": {},
     "output_type": "execute_result"
    }
   ],
   "source": [
    "torch.dist(vp, -V.t()[1])"
   ]
  },
  {
   "cell_type": "code",
   "execution_count": 71,
   "id": "65a97099",
   "metadata": {},
   "outputs": [
    {
     "data": {
      "text/plain": [
       "tensor(1.6610)"
      ]
     },
     "execution_count": 71,
     "metadata": {},
     "output_type": "execute_result"
    }
   ],
   "source": [
    "def get_singular_value(ATA, v):\n",
    "    s2v = ATA @ v\n",
    "    s = torch.sqrt(s2v.norm())\n",
    "    return s\n",
    "sp = get_singular_value(ATA, vp)\n",
    "sp"
   ]
  },
  {
   "cell_type": "code",
   "execution_count": 72,
   "id": "4359605c",
   "metadata": {},
   "outputs": [
    {
     "data": {
      "text/plain": [
       "tensor(1.6610)"
      ]
     },
     "execution_count": 72,
     "metadata": {},
     "output_type": "execute_result"
    }
   ],
   "source": [
    "S[1]"
   ]
  },
  {
   "cell_type": "code",
   "execution_count": 74,
   "id": "22a636c1",
   "metadata": {},
   "outputs": [
    {
     "data": {
      "text/plain": [
       "tensor([ 0.8764,  0.0163, -0.4778,  0.0000,  0.0000,  0.0583,  0.0000])"
      ]
     },
     "execution_count": 74,
     "metadata": {},
     "output_type": "execute_result"
    }
   ],
   "source": [
    "up = (A @ vp) / sp\n",
    "up"
   ]
  },
  {
   "cell_type": "code",
   "execution_count": 76,
   "id": "dd322dd6",
   "metadata": {},
   "outputs": [
    {
     "data": {
      "text/plain": [
       "tensor(0.0018)"
      ]
     },
     "execution_count": 76,
     "metadata": {},
     "output_type": "execute_result"
    }
   ],
   "source": [
    "torch.dist(up, -U.t()[1])"
   ]
  },
  {
   "cell_type": "markdown",
   "id": "060e9d7b",
   "metadata": {},
   "source": [
    "## Conjugate Gradient Method"
   ]
  },
  {
   "cell_type": "code",
   "execution_count": 77,
   "id": "3cc69a13",
   "metadata": {},
   "outputs": [
    {
     "name": "stdout",
     "output_type": "stream",
     "text": [
      "tensor([[ 1.0000,  0.0000,  0.0000,  0.0000,  0.0000],\n",
      "        [ 0.0000,  1.1351,  0.0127,  0.0108,  0.0113],\n",
      "        [ 0.0000,  0.0127,  1.0570, -0.0035, -0.0953],\n",
      "        [ 0.0000,  0.0108, -0.0035,  1.0173,  0.0041],\n",
      "        [ 0.0000,  0.0113, -0.0953,  0.0041,  1.1707]])\n"
     ]
    },
    {
     "data": {
      "text/plain": [
       "tensor(1.4179)"
      ]
     },
     "execution_count": 77,
     "metadata": {},
     "output_type": "execute_result"
    }
   ],
   "source": [
    "A = torch.eye(5) + 0.05 * ATA.to_dense()\n",
    "print(A)\n",
    "torch.linalg.det(A)"
   ]
  },
  {
   "cell_type": "code",
   "execution_count": 78,
   "id": "472d68f0",
   "metadata": {},
   "outputs": [
    {
     "data": {
      "text/plain": [
       "tensor(indices=tensor([[0, 1, 1, 1, 1, 2, 2, 2, 2, 3, 3, 3, 3, 4, 4, 4, 4],\n",
       "                       [0, 1, 2, 3, 4, 1, 2, 3, 4, 1, 2, 3, 4, 1, 2, 3, 4]]),\n",
       "       values=tensor([ 1.0000,  1.1351,  0.0127,  0.0108,  0.0113,  0.0127,\n",
       "                       1.0570, -0.0035, -0.0953,  0.0108, -0.0035,  1.0173,\n",
       "                       0.0041,  0.0113, -0.0953,  0.0041,  1.1707]),\n",
       "       size=(5, 5), nnz=17, layout=torch.sparse_coo)"
      ]
     },
     "execution_count": 78,
     "metadata": {},
     "output_type": "execute_result"
    }
   ],
   "source": [
    "A = A.to_sparse()\n",
    "A"
   ]
  },
  {
   "cell_type": "code",
   "execution_count": 79,
   "id": "81fd4ea1",
   "metadata": {},
   "outputs": [
    {
     "data": {
      "text/plain": [
       "tensor([ 1.3225,  0.7097, -1.1266, -0.7852,  1.2434])"
      ]
     },
     "execution_count": 79,
     "metadata": {},
     "output_type": "execute_result"
    }
   ],
   "source": [
    "b = torch.randn(5)\n",
    "x = torch.randn(5)\n",
    "b"
   ]
  },
  {
   "cell_type": "code",
   "execution_count": 80,
   "id": "9a944342",
   "metadata": {},
   "outputs": [],
   "source": [
    "def conjgrad(A,b,x):\n",
    "    r = b - A @ x\n",
    "    p = r\n",
    "    rsold = r.t() @ r\n",
    "    n = b.numel()\n",
    "    for i in range(n):\n",
    "        Ap = A @ p\n",
    "        alpha = rsold / (p.t() @ Ap)\n",
    "        x = x + alpha * p\n",
    "        r = r - alpha * Ap\n",
    "        rsnew = r.t() @ r\n",
    "        if torch.sqrt(rsnew) < 1e-6:\n",
    "              break\n",
    "        p = r + (rsnew / rsold) * p\n",
    "        rsold = rsnew\n",
    "    return x"
   ]
  },
  {
   "cell_type": "code",
   "execution_count": 83,
   "id": "fbec2a7c",
   "metadata": {},
   "outputs": [
    {
     "data": {
      "text/plain": [
       "tensor([ 1.3225,  0.6340, -0.9878, -0.7859,  0.9783])"
      ]
     },
     "execution_count": 83,
     "metadata": {},
     "output_type": "execute_result"
    }
   ],
   "source": [
    "x0 = conjgrad(A,b,x)\n",
    "x0"
   ]
  },
  {
   "cell_type": "code",
   "execution_count": 84,
   "id": "8d42ad16",
   "metadata": {},
   "outputs": [],
   "source": [
    "Ad = A.to_dense()"
   ]
  },
  {
   "cell_type": "code",
   "execution_count": 85,
   "id": "a6222ad4",
   "metadata": {},
   "outputs": [
    {
     "data": {
      "text/plain": [
       "tensor([[ 1.0000,  0.0000,  0.0000,  0.0000, -0.0000],\n",
       "        [ 0.0000,  0.8813, -0.0115, -0.0094, -0.0094],\n",
       "        [ 0.0000, -0.0115,  0.9532,  0.0031,  0.0777],\n",
       "        [ 0.0000, -0.0094,  0.0031,  0.9831, -0.0031],\n",
       "        [ 0.0000, -0.0094,  0.0777, -0.0031,  0.8606]])"
      ]
     },
     "execution_count": 85,
     "metadata": {},
     "output_type": "execute_result"
    }
   ],
   "source": [
    "torch.linalg.inv(Ad)"
   ]
  },
  {
   "cell_type": "code",
   "execution_count": 86,
   "id": "a33c61bd",
   "metadata": {},
   "outputs": [],
   "source": [
    "x00 = torch.linalg.inv(Ad) @ b"
   ]
  },
  {
   "cell_type": "code",
   "execution_count": 87,
   "id": "a620bc2f",
   "metadata": {},
   "outputs": [
    {
     "data": {
      "text/plain": [
       "tensor(2.7957e-07)"
      ]
     },
     "execution_count": 87,
     "metadata": {},
     "output_type": "execute_result"
    }
   ],
   "source": [
    "torch.dist(x00,x0)"
   ]
  }
 ],
 "metadata": {
  "kernelspec": {
   "display_name": "Python 3 (ipykernel)",
   "language": "python",
   "name": "python3"
  },
  "language_info": {
   "codemirror_mode": {
    "name": "ipython",
    "version": 3
   },
   "file_extension": ".py",
   "mimetype": "text/x-python",
   "name": "python",
   "nbconvert_exporter": "python",
   "pygments_lexer": "ipython3",
   "version": "3.9.7"
  }
 },
 "nbformat": 4,
 "nbformat_minor": 5
}
