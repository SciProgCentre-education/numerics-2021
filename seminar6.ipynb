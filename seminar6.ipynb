{
 "cells": [
  {
   "cell_type": "markdown",
   "id": "4961135d",
   "metadata": {},
   "source": [
    "# Power method for SVD "
   ]
  },
  {
   "cell_type": "code",
   "execution_count": 1,
   "id": "8253047d",
   "metadata": {},
   "outputs": [],
   "source": [
    "import torch"
   ]
  },
  {
   "cell_type": "code",
   "execution_count": 90,
   "id": "3d6cac16",
   "metadata": {},
   "outputs": [
    {
     "data": {
      "text/plain": [
       "tensor(indices=tensor([[0, 3, 6, 2, 4, 3, 0, 6, 3, 0],\n",
       "                       [0, 2, 4, 1, 0, 2, 0, 2, 4, 0]]),\n",
       "       values=tensor([ 0.3126, -0.9706,  0.6253,  0.1081,  0.1108, -0.7105,\n",
       "                       0.1121,  0.1582, -2.2736, -0.9067]),\n",
       "       size=(7, 5), nnz=10, layout=torch.sparse_coo)"
      ]
     },
     "execution_count": 90,
     "metadata": {},
     "output_type": "execute_result"
    }
   ],
   "source": [
    "Ai = torch.stack([torch.randint(7,(10,)), torch.randint(5,(10,))])\n",
    "Av =  torch.randn(10)\n",
    "A = torch.sparse_coo_tensor(Ai, Av, (7, 5))\n",
    "A"
   ]
  },
  {
   "cell_type": "code",
   "execution_count": 91,
   "id": "82660784",
   "metadata": {},
   "outputs": [
    {
     "data": {
      "text/plain": [
       "False"
      ]
     },
     "execution_count": 91,
     "metadata": {},
     "output_type": "execute_result"
    }
   ],
   "source": [
    "A.is_coalesced()"
   ]
  },
  {
   "cell_type": "code",
   "execution_count": 92,
   "id": "97b9cf9e",
   "metadata": {},
   "outputs": [
    {
     "data": {
      "text/plain": [
       "tensor(indices=tensor([[0, 2, 3, 3, 4, 6, 6],\n",
       "                       [0, 1, 2, 4, 0, 2, 4]]),\n",
       "       values=tensor([-0.4820,  0.1081, -1.6811, -2.2736,  0.1108,  0.1582,\n",
       "                       0.6253]),\n",
       "       size=(7, 5), nnz=7, layout=torch.sparse_coo)"
      ]
     },
     "execution_count": 92,
     "metadata": {},
     "output_type": "execute_result"
    }
   ],
   "source": [
    "A = A.coalesce()\n",
    "A"
   ]
  },
  {
   "cell_type": "code",
   "execution_count": 93,
   "id": "68f410b8",
   "metadata": {},
   "outputs": [
    {
     "data": {
      "text/plain": [
       "tensor([[-0.4820,  0.0000,  0.0000,  0.0000,  0.0000],\n",
       "        [ 0.0000,  0.0000,  0.0000,  0.0000,  0.0000],\n",
       "        [ 0.0000,  0.1081,  0.0000,  0.0000,  0.0000],\n",
       "        [ 0.0000,  0.0000, -1.6811,  0.0000, -2.2736],\n",
       "        [ 0.1108,  0.0000,  0.0000,  0.0000,  0.0000],\n",
       "        [ 0.0000,  0.0000,  0.0000,  0.0000,  0.0000],\n",
       "        [ 0.0000,  0.0000,  0.1582,  0.0000,  0.6253]])"
      ]
     },
     "execution_count": 93,
     "metadata": {},
     "output_type": "execute_result"
    }
   ],
   "source": [
    "A_dense = A.to_dense()\n",
    "A_dense"
   ]
  },
  {
   "cell_type": "code",
   "execution_count": 94,
   "id": "ea4eb9dd",
   "metadata": {},
   "outputs": [
    {
     "data": {
      "text/plain": [
       "tensor([2.8904, 0.4945])"
      ]
     },
     "execution_count": 94,
     "metadata": {},
     "output_type": "execute_result"
    }
   ],
   "source": [
    "U,S,V = torch.svd_lowrank(A, 2)\n",
    "S"
   ]
  },
  {
   "cell_type": "code",
   "execution_count": 110,
   "id": "d2bd0d8e",
   "metadata": {},
   "outputs": [
    {
     "data": {
      "text/plain": [
       "tensor([[-1.1337e-07,  9.9967e-01],\n",
       "        [ 1.1309e-08,  4.8412e-05],\n",
       "        [ 5.8030e-01,  2.0810e-02],\n",
       "        [ 0.0000e+00,  0.0000e+00],\n",
       "        [ 8.1440e-01, -1.4828e-02]])"
      ]
     },
     "execution_count": 110,
     "metadata": {},
     "output_type": "execute_result"
    }
   ],
   "source": [
    "V"
   ]
  },
  {
   "cell_type": "code",
   "execution_count": 111,
   "id": "a20d0fbd",
   "metadata": {},
   "outputs": [
    {
     "data": {
      "text/plain": [
       "tensor([[-1.7660e-08, -9.7450e-01],\n",
       "        [ 0.0000e+00,  0.0000e+00],\n",
       "        [ 4.2307e-10,  1.0586e-05],\n",
       "        [-9.7814e-01, -2.5706e-03],\n",
       "        [-4.3470e-09,  2.2406e-01],\n",
       "        [ 0.0000e+00,  0.0000e+00],\n",
       "        [ 2.0794e-01, -1.2092e-02]])"
      ]
     },
     "execution_count": 111,
     "metadata": {},
     "output_type": "execute_result"
    }
   ],
   "source": [
    "U"
   ]
  },
  {
   "cell_type": "code",
   "execution_count": 95,
   "id": "af0cda51",
   "metadata": {},
   "outputs": [
    {
     "data": {
      "text/plain": [
       "tensor(0.2628)"
      ]
     },
     "execution_count": 95,
     "metadata": {},
     "output_type": "execute_result"
    }
   ],
   "source": [
    "torch.dist(A_dense, U @ torch.diag_embed(S) @ V.t())"
   ]
  },
  {
   "cell_type": "code",
   "execution_count": 117,
   "id": "5846b5b2",
   "metadata": {},
   "outputs": [
    {
     "name": "stdout",
     "output_type": "stream",
     "text": [
      "tensor([2.8904, 0.4946, 0.2392, 0.1081, 0.0000])\n"
     ]
    },
    {
     "data": {
      "text/plain": [
       "tensor(9.2431e-07)"
      ]
     },
     "execution_count": 117,
     "metadata": {},
     "output_type": "execute_result"
    }
   ],
   "source": [
    "U_full,S_full,V_full = torch.svd_lowrank(A, 5)\n",
    "print(S_full)\n",
    "torch.dist(A_dense, U_full @ torch.diag_embed(S_full) @ V_full.t())"
   ]
  },
  {
   "cell_type": "code",
   "execution_count": 80,
   "id": "33900858",
   "metadata": {},
   "outputs": [
    {
     "data": {
      "text/plain": [
       "tensor(indices=tensor([[0, 3, 5, 0, 3, 4, 3, 4],\n",
       "                       [0, 1, 1, 2, 2, 2, 3, 3]]),\n",
       "       values=tensor([ 0.2899, -0.1359,  0.8700,  0.7641, -1.0162,  0.3804,\n",
       "                      -1.2005,  0.0538]),\n",
       "       size=(7, 4), nnz=8, layout=torch.sparse_coo)"
      ]
     },
     "execution_count": 80,
     "metadata": {},
     "output_type": "execute_result"
    }
   ],
   "source": [
    "A.t()"
   ]
  },
  {
   "cell_type": "code",
   "execution_count": 98,
   "id": "5de1e402",
   "metadata": {},
   "outputs": [
    {
     "data": {
      "text/plain": [
       "tensor(indices=tensor([[0, 1, 2, 2, 4, 4],\n",
       "                       [0, 1, 4, 2, 4, 2]]),\n",
       "       values=tensor([0.2446, 0.0117, 3.9212, 2.8513, 5.5602, 3.9212]),\n",
       "       size=(5, 5), nnz=6, layout=torch.sparse_coo)"
      ]
     },
     "execution_count": 98,
     "metadata": {},
     "output_type": "execute_result"
    }
   ],
   "source": [
    "ATA = torch.sparse.mm(A.t(), A)\n",
    "ATA"
   ]
  },
  {
   "cell_type": "code",
   "execution_count": 121,
   "id": "d5e84461",
   "metadata": {},
   "outputs": [
    {
     "data": {
      "text/plain": [
       "tensor([-1.1337e-07,  1.1309e-08,  5.8030e-01,  0.0000e+00,  8.1440e-01])"
      ]
     },
     "execution_count": 121,
     "metadata": {},
     "output_type": "execute_result"
    }
   ],
   "source": [
    "v0 = V.t()[0]\n",
    "v0"
   ]
  },
  {
   "cell_type": "code",
   "execution_count": 113,
   "id": "bba344de",
   "metadata": {},
   "outputs": [
    {
     "data": {
      "text/plain": [
       "tensor([-2.7735e-08,  1.3223e-10,  4.8480e+00,  0.0000e+00,  6.8037e+00])"
      ]
     },
     "execution_count": 113,
     "metadata": {},
     "output_type": "execute_result"
    }
   ],
   "source": [
    "ATA @ v0"
   ]
  },
  {
   "cell_type": "code",
   "execution_count": 112,
   "id": "9e5adc48",
   "metadata": {},
   "outputs": [
    {
     "data": {
      "text/plain": [
       "tensor(1.2248e-05)"
      ]
     },
     "execution_count": 112,
     "metadata": {},
     "output_type": "execute_result"
    }
   ],
   "source": [
    "torch.dist(ATA @ v0, S[0].pow(2) * v0)"
   ]
  },
  {
   "cell_type": "code",
   "execution_count": 123,
   "id": "bb0cef63",
   "metadata": {},
   "outputs": [
    {
     "data": {
      "text/plain": [
       "tensor([ 0.2707,  0.4785, -0.5180,  0.6502,  0.0818])"
      ]
     },
     "execution_count": 123,
     "metadata": {},
     "output_type": "execute_result"
    }
   ],
   "source": [
    "v = torch.randn(5)\n",
    "v /= v.norm()\n",
    "v"
   ]
  },
  {
   "cell_type": "code",
   "execution_count": 154,
   "id": "8612ff63",
   "metadata": {},
   "outputs": [
    {
     "data": {
      "text/plain": [
       "tensor([ 1.5700e-40,  0.0000e+00, -5.8030e-01,  0.0000e+00, -8.1440e-01])"
      ]
     },
     "execution_count": 154,
     "metadata": {},
     "output_type": "execute_result"
    }
   ],
   "source": [
    "v = ATA @ v\n",
    "v /= v.norm()\n",
    "v"
   ]
  },
  {
   "cell_type": "code",
   "execution_count": 158,
   "id": "8c536b0a",
   "metadata": {},
   "outputs": [
    {
     "data": {
      "text/plain": [
       "tensor(1.4474e-06)"
      ]
     },
     "execution_count": 158,
     "metadata": {},
     "output_type": "execute_result"
    }
   ],
   "source": [
    "torch.dist(v,-v0)"
   ]
  },
  {
   "cell_type": "code",
   "execution_count": 159,
   "id": "d79a936c",
   "metadata": {},
   "outputs": [
    {
     "data": {
      "text/plain": [
       "tensor([ 3.8410e-41,  0.0000e+00, -4.8480e+00,  0.0000e+00, -6.8037e+00])"
      ]
     },
     "execution_count": 159,
     "metadata": {},
     "output_type": "execute_result"
    }
   ],
   "source": [
    "vp = ATA @ v\n",
    "vp"
   ]
  },
  {
   "cell_type": "code",
   "execution_count": 164,
   "id": "68ff9413",
   "metadata": {},
   "outputs": [
    {
     "data": {
      "text/plain": [
       "tensor(2.8904)"
      ]
     },
     "execution_count": 164,
     "metadata": {},
     "output_type": "execute_result"
    }
   ],
   "source": [
    "s = torch.sqrt(vp.norm())\n",
    "s"
   ]
  },
  {
   "cell_type": "code",
   "execution_count": 167,
   "id": "4f0fd478",
   "metadata": {},
   "outputs": [
    {
     "data": {
      "text/plain": [
       "tensor(2.3842e-07)"
      ]
     },
     "execution_count": 167,
     "metadata": {},
     "output_type": "execute_result"
    }
   ],
   "source": [
    "torch.dist(S[0],s)"
   ]
  },
  {
   "cell_type": "code",
   "execution_count": 169,
   "id": "86678d88",
   "metadata": {},
   "outputs": [
    {
     "data": {
      "text/plain": [
       "tensor([-2.6183e-41,  0.0000e+00,  0.0000e+00,  9.7814e-01,  6.0200e-42,\n",
       "         0.0000e+00, -2.0794e-01])"
      ]
     },
     "execution_count": 169,
     "metadata": {},
     "output_type": "execute_result"
    }
   ],
   "source": [
    "u = (A @ v) / s\n",
    "u"
   ]
  },
  {
   "cell_type": "code",
   "execution_count": 173,
   "id": "a0d8488a",
   "metadata": {},
   "outputs": [
    {
     "data": {
      "text/plain": [
       "tensor(1.3452e-07)"
      ]
     },
     "execution_count": 173,
     "metadata": {},
     "output_type": "execute_result"
    }
   ],
   "source": [
    "u0 = U.t()[0]\n",
    "torch.dist(-u0, u)"
   ]
  },
  {
   "cell_type": "code",
   "execution_count": 178,
   "id": "361ef4ff",
   "metadata": {},
   "outputs": [
    {
     "data": {
      "text/plain": [
       "tensor([[-0.0000e+00, -0.0000e+00,  1.5194e-41, -0.0000e+00,  2.1324e-41],\n",
       "        [ 0.0000e+00,  0.0000e+00, -0.0000e+00,  0.0000e+00, -0.0000e+00],\n",
       "        [ 0.0000e+00,  0.0000e+00, -0.0000e+00,  0.0000e+00, -0.0000e+00],\n",
       "        [ 1.5357e-40,  0.0000e+00, -5.6762e-01,  0.0000e+00, -7.9660e-01],\n",
       "        [ 0.0000e+00,  0.0000e+00, -3.4934e-42,  0.0000e+00, -4.9031e-42],\n",
       "        [ 0.0000e+00,  0.0000e+00, -0.0000e+00,  0.0000e+00, -0.0000e+00],\n",
       "        [-3.2646e-41, -0.0000e+00,  1.2067e-01, -0.0000e+00,  1.6935e-01]])"
      ]
     },
     "execution_count": 178,
     "metadata": {},
     "output_type": "execute_result"
    }
   ],
   "source": [
    "uOv = torch.outer(u,v)\n",
    "uOv"
   ]
  },
  {
   "cell_type": "code",
   "execution_count": 180,
   "id": "c8d47003",
   "metadata": {},
   "outputs": [
    {
     "data": {
      "text/plain": [
       "tensor(indices=tensor([[0, 0, 3, 3, 3, 4, 4, 6, 6, 6],\n",
       "                       [2, 4, 0, 2, 4, 2, 4, 0, 2, 4]]),\n",
       "       values=tensor([ 1.5194e-41,  2.1324e-41,  1.5357e-40, -5.6762e-01,\n",
       "                      -7.9660e-01, -3.4934e-42, -4.9031e-42, -3.2646e-41,\n",
       "                       1.2067e-01,  1.6935e-01]),\n",
       "       size=(7, 5), nnz=10, layout=torch.sparse_coo)"
      ]
     },
     "execution_count": 180,
     "metadata": {},
     "output_type": "execute_result"
    }
   ],
   "source": [
    "uOv = uOv.to_sparse()\n",
    "uOv"
   ]
  },
  {
   "cell_type": "code",
   "execution_count": 189,
   "id": "84f2212c",
   "metadata": {},
   "outputs": [
    {
     "data": {
      "text/plain": [
       "tensor(indices=tensor([[0, 0, 0, 2, 3, 3, 3, 4, 4, 4, 6, 6, 6],\n",
       "                       [0, 2, 4, 1, 0, 2, 4, 0, 2, 4, 0, 2, 4]]),\n",
       "       values=tensor([-4.8204e-01, -4.3917e-41, -6.1633e-41,  1.0813e-01,\n",
       "                      -4.4386e-40, -4.0514e-02,  2.8869e-02,  1.1083e-01,\n",
       "                       1.0098e-41,  1.4171e-41,  9.4359e-41, -1.9057e-01,\n",
       "                       1.3579e-01]),\n",
       "       size=(7, 5), nnz=13, layout=torch.sparse_coo)"
      ]
     },
     "execution_count": 189,
     "metadata": {},
     "output_type": "execute_result"
    }
   ],
   "source": [
    "Ap = A - (uOv * s)\n",
    "Ap"
   ]
  },
  {
   "cell_type": "code",
   "execution_count": 190,
   "id": "b79fc980",
   "metadata": {},
   "outputs": [
    {
     "data": {
      "text/plain": [
       "True"
      ]
     },
     "execution_count": 190,
     "metadata": {},
     "output_type": "execute_result"
    }
   ],
   "source": [
    "Ap.is_coalesced()"
   ]
  },
  {
   "cell_type": "code",
   "execution_count": 215,
   "id": "9bf53051",
   "metadata": {},
   "outputs": [],
   "source": [
    "def svd1D(A, tol=1e-12, max_iter=20):\n",
    "    currentV = torch.randn(5)\n",
    "    currentV /= currentV.norm()\n",
    "    lastV = torch.zeros_like(currentV)\n",
    "    ATA = torch.sparse.mm(A.t(), A)\n",
    "    \n",
    "    iterations = 0\n",
    "    while torch.dist(currentV,lastV) > tol :\n",
    "        iterations += 1\n",
    "        lastV = currentV\n",
    "        currentV = ATA @ lastV\n",
    "        currentV /= currentV.norm()\n",
    "\n",
    "        if iterations > max_iter:\n",
    "            print(f\"SVD failed to converge in {iterations} iterations:\") \n",
    "            print(f\"{torch.dist(currentV,lastV)} > {tol}\")\n",
    "            break\n",
    "            \n",
    "    return currentV"
   ]
  },
  {
   "cell_type": "code",
   "execution_count": 216,
   "id": "1f233430",
   "metadata": {},
   "outputs": [],
   "source": [
    "vp = svd1D(Ap)"
   ]
  },
  {
   "cell_type": "code",
   "execution_count": 218,
   "id": "cdf9dcdf",
   "metadata": {},
   "outputs": [
    {
     "data": {
      "text/plain": [
       "tensor(0.0256)"
      ]
     },
     "execution_count": 218,
     "metadata": {},
     "output_type": "execute_result"
    }
   ],
   "source": [
    "torch.dist(vp, V.t()[1])"
   ]
  },
  {
   "cell_type": "code",
   "execution_count": 222,
   "id": "65a97099",
   "metadata": {},
   "outputs": [
    {
     "data": {
      "text/plain": [
       "tensor(0.4946)"
      ]
     },
     "execution_count": 222,
     "metadata": {},
     "output_type": "execute_result"
    }
   ],
   "source": [
    "def get_singular_value(ATA, v):\n",
    "    s2v = ATA @ v\n",
    "    s = torch.sqrt(s2v.norm())\n",
    "    return s\n",
    "sp = get_singular_value(ATA, vp)\n",
    "sp"
   ]
  },
  {
   "cell_type": "code",
   "execution_count": 223,
   "id": "4359605c",
   "metadata": {},
   "outputs": [
    {
     "data": {
      "text/plain": [
       "tensor(0.4945)"
      ]
     },
     "execution_count": 223,
     "metadata": {},
     "output_type": "execute_result"
    }
   ],
   "source": [
    "S[1]"
   ]
  },
  {
   "cell_type": "code",
   "execution_count": 224,
   "id": "22a636c1",
   "metadata": {},
   "outputs": [
    {
     "data": {
      "text/plain": [
       "tensor([-9.7457e-01,  0.0000e+00, -3.6240e-28, -9.4167e-15,  2.2407e-01,\n",
       "         0.0000e+00, -4.4295e-14])"
      ]
     },
     "execution_count": 224,
     "metadata": {},
     "output_type": "execute_result"
    }
   ],
   "source": [
    "up = (A @ vp) / sp\n",
    "up"
   ]
  },
  {
   "cell_type": "code",
   "execution_count": 225,
   "id": "dd322dd6",
   "metadata": {},
   "outputs": [
    {
     "data": {
      "text/plain": [
       "tensor(0.0124)"
      ]
     },
     "execution_count": 225,
     "metadata": {},
     "output_type": "execute_result"
    }
   ],
   "source": [
    "torch.dist(up, U.t()[1])"
   ]
  }
 ],
 "metadata": {
  "kernelspec": {
   "display_name": "Python 3 (ipykernel)",
   "language": "python",
   "name": "python3"
  },
  "language_info": {
   "codemirror_mode": {
    "name": "ipython",
    "version": 3
   },
   "file_extension": ".py",
   "mimetype": "text/x-python",
   "name": "python",
   "nbconvert_exporter": "python",
   "pygments_lexer": "ipython3",
   "version": "3.9.7"
  }
 },
 "nbformat": 4,
 "nbformat_minor": 5
}
