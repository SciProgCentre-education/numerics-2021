{
 "cells": [
  {
   "cell_type": "markdown",
   "id": "631755b9",
   "metadata": {},
   "source": [
    "# Stationary Iterative Methods"
   ]
  },
  {
   "cell_type": "code",
   "execution_count": null,
   "id": "e5ca55f1",
   "metadata": {},
   "outputs": [],
   "source": [
    "import torch"
   ]
  },
  {
   "cell_type": "code",
   "execution_count": null,
   "id": "1621b8c2",
   "metadata": {},
   "outputs": [],
   "source": [
    "!git clone https://github.com/grinisrit/noa.git"
   ]
  },
  {
   "cell_type": "code",
   "execution_count": null,
   "id": "c95035d0",
   "metadata": {},
   "outputs": [],
   "source": [
    "!mkdir -p build"
   ]
  },
  {
   "cell_type": "code",
   "execution_count": null,
   "id": "6e33916e",
   "metadata": {},
   "outputs": [],
   "source": [
    "noa_location = 'noa'\n",
    "from torch.utils.cpp_extension import load"
   ]
  },
  {
   "cell_type": "markdown",
   "id": "5ceccb55",
   "metadata": {},
   "source": [
    "## Jacobi method\n",
    "\n",
    "[Wiki](https://en.wikipedia.org/wiki/Jacobi_method) is the reference for that."
   ]
  },
  {
   "cell_type": "markdown",
   "id": "3566b270",
   "metadata": {},
   "source": [
    "You need the following files:\n",
    "* stationary-methods.hh\n",
    "* jacobi-method.cc\n",
    "* jacobi-method.cu"
   ]
  },
  {
   "cell_type": "code",
   "execution_count": null,
   "id": "0e4a76bc",
   "metadata": {},
   "outputs": [],
   "source": [
    "jacobi_method = load(name='jacobi_method',\n",
    "             build_directory='./build',\n",
    "             sources=['jacobi-method.cc'],\n",
    "             extra_include_paths=[f'{noa_location}/src', '.'],    \n",
    "             extra_cflags=['-O3 -std=c++17 -fopenmp'],\n",
    "             verbose=True)"
   ]
  },
  {
   "cell_type": "code",
   "execution_count": null,
   "id": "4d1f8e62",
   "metadata": {},
   "outputs": [],
   "source": [
    "jacobi_method_cuda = load(name='jacobi_method_cuda',\n",
    "             build_directory='./build',\n",
    "             sources=['jacobi-method.cu'],\n",
    "             extra_include_paths=[f'{noa_location}/src', '.'],    \n",
    "             extra_cflags=['-O3 -std=c++17'],\n",
    "             extra_cuda_cflags=['-std=c++17 --expt-relaxed-constexpr --expt-extended-lambda'],\n",
    "             verbose=True)  if torch.cuda.is_available() else None"
   ]
  },
  {
   "cell_type": "code",
   "execution_count": null,
   "id": "79e945a5",
   "metadata": {},
   "outputs": [],
   "source": [
    "def generate_tridiagonal(n, l, d, u):\n",
    "    c = torch.tensor([-1,0,1]).repeat(n)\n",
    "    r = torch.arange(n).repeat_interleave(3)\n",
    "    cr = c + r\n",
    "    rows = r[1:-1]\n",
    "    cols = cr[1:-1]\n",
    "    vals = torch.tensor([l, d ,u]).repeat(n)[1:-1]\n",
    "    Ai = torch.stack([rows, cols])\n",
    "    A = torch.sparse_coo_tensor(Ai, vals, (n,n))\n",
    "    return A"
   ]
  },
  {
   "cell_type": "code",
   "execution_count": null,
   "id": "c1c54300",
   "metadata": {},
   "outputs": [],
   "source": [
    "n = 100000\n",
    "A = generate_tridiagonal(n, -0.5, 2.5, -1.5)\n",
    "A"
   ]
  },
  {
   "cell_type": "code",
   "execution_count": null,
   "id": "a73bad8c",
   "metadata": {},
   "outputs": [],
   "source": [
    "Ad = A.to_dense()\n",
    "Ad "
   ]
  },
  {
   "cell_type": "code",
   "execution_count": null,
   "id": "4db040dc",
   "metadata": {},
   "outputs": [],
   "source": [
    "Acsr = A.to_sparse_csr()\n",
    "Acsr"
   ]
  },
  {
   "cell_type": "code",
   "execution_count": null,
   "id": "ba8a32fb",
   "metadata": {},
   "outputs": [],
   "source": [
    "x0 = torch.ones(n)\n",
    "b = Acsr @ x0\n",
    "b[:5]"
   ]
  },
  {
   "cell_type": "code",
   "execution_count": null,
   "id": "023c1a32",
   "metadata": {},
   "outputs": [],
   "source": [
    "crow_indices = Acsr.crow_indices().int()\n",
    "col_indices = Acsr.col_indices().int()\n",
    "values =  Acsr.values()"
   ]
  },
  {
   "cell_type": "code",
   "execution_count": null,
   "id": "e29c52dd",
   "metadata": {},
   "outputs": [],
   "source": [
    "x = jacobi_method.solve(crow_indices, col_indices, values, b)\n",
    "torch.dist(x,x0)/n"
   ]
  },
  {
   "cell_type": "code",
   "execution_count": null,
   "id": "71550734",
   "metadata": {},
   "outputs": [],
   "source": [
    "crow_indices_cu = crow_indices.cuda()\n",
    "col_indices_cu = col_indices.cuda()\n",
    "values_cu =  values.cuda()\n",
    "b_cu = b.cuda()"
   ]
  },
  {
   "cell_type": "code",
   "execution_count": null,
   "id": "c2af4dee",
   "metadata": {},
   "outputs": [],
   "source": [
    "x_cu = jacobi_method_cuda.solve(crow_indices_cu, col_indices_cu, values_cu, b_cu)\n",
    "torch.dist(x_cu.cpu(), x0)/n"
   ]
  },
  {
   "cell_type": "code",
   "execution_count": null,
   "id": "c709563b",
   "metadata": {},
   "outputs": [],
   "source": [
    "%timeit jacobi_method.solve(crow_indices, col_indices, values, b)"
   ]
  },
  {
   "cell_type": "code",
   "execution_count": null,
   "id": "ef5527fb",
   "metadata": {},
   "outputs": [],
   "source": [
    "%timeit jacobi_method_cuda.solve(crow_indices_cu, col_indices_cu, values_cu, b_cu)"
   ]
  }
 ],
 "metadata": {
  "kernelspec": {
   "display_name": "Python 3 (ipykernel)",
   "language": "python",
   "name": "python3"
  },
  "language_info": {
   "codemirror_mode": {
    "name": "ipython",
    "version": 3
   },
   "file_extension": ".py",
   "mimetype": "text/x-python",
   "name": "python",
   "nbconvert_exporter": "python",
   "pygments_lexer": "ipython3",
   "version": "3.9.7"
  }
 },
 "nbformat": 4,
 "nbformat_minor": 5
}
