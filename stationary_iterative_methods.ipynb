{
 "cells": [
  {
   "cell_type": "markdown",
   "id": "631755b9",
   "metadata": {},
   "source": [
    "# Stationary Iterative Methods"
   ]
  },
  {
   "cell_type": "code",
   "execution_count": 2,
   "id": "e5ca55f1",
   "metadata": {},
   "outputs": [],
   "source": [
    "import torch"
   ]
  },
  {
   "cell_type": "markdown",
   "id": "5ceccb55",
   "metadata": {},
   "source": [
    "## Jacobi method\n",
    "\n",
    "[Wiki](https://en.wikipedia.org/wiki/Jacobi_method) is the reference for that."
   ]
  },
  {
   "cell_type": "code",
   "execution_count": 3,
   "id": "79e945a5",
   "metadata": {},
   "outputs": [],
   "source": [
    "def generate_tridiagonal(n, l, d, u):\n",
    "    c = torch.tensor([-1,0,1]).repeat(n)\n",
    "    r = torch.arange(n).repeat_interleave(3)\n",
    "    cr = c + r\n",
    "    rows = r[1:-1]\n",
    "    cols = cr[1:-1]\n",
    "    vals = torch.tensor([l, d ,u]).repeat(n)[1:-1]\n",
    "    Ai = torch.stack([rows, cols])\n",
    "    A = torch.sparse_coo_tensor(Ai, vals, (n,n))\n",
    "    return A"
   ]
  },
  {
   "cell_type": "code",
   "execution_count": 14,
   "id": "c1c54300",
   "metadata": {},
   "outputs": [
    {
     "data": {
      "text/plain": [
       "tensor(indices=tensor([[0, 0, 1, 1, 1, 2, 2, 2, 3, 3, 3, 4, 4],\n",
       "                       [0, 1, 0, 1, 2, 1, 2, 3, 2, 3, 4, 3, 4]]),\n",
       "       values=tensor([ 2.5000, -1.5000, -0.5000,  2.5000, -1.5000, -0.5000,\n",
       "                       2.5000, -1.5000, -0.5000,  2.5000, -1.5000, -0.5000,\n",
       "                       2.5000]),\n",
       "       size=(5, 5), nnz=13, layout=torch.sparse_coo)"
      ]
     },
     "execution_count": 14,
     "metadata": {},
     "output_type": "execute_result"
    }
   ],
   "source": [
    "n = 5\n",
    "A = generate_tridiagonal(5, -0.5, 2.5, -1.5)\n",
    "A"
   ]
  },
  {
   "cell_type": "code",
   "execution_count": 10,
   "id": "a73bad8c",
   "metadata": {},
   "outputs": [
    {
     "data": {
      "text/plain": [
       "tensor([[ 2.5000, -1.5000,  0.0000,  0.0000,  0.0000],\n",
       "        [-0.5000,  2.5000, -1.5000,  0.0000,  0.0000],\n",
       "        [ 0.0000, -0.5000,  2.5000, -1.5000,  0.0000],\n",
       "        [ 0.0000,  0.0000, -0.5000,  2.5000, -1.5000],\n",
       "        [ 0.0000,  0.0000,  0.0000, -0.5000,  2.5000]])"
      ]
     },
     "execution_count": 10,
     "metadata": {},
     "output_type": "execute_result"
    }
   ],
   "source": [
    "Ad = A.to_dense()\n",
    "Ad "
   ]
  },
  {
   "cell_type": "code",
   "execution_count": 19,
   "id": "765556da",
   "metadata": {},
   "outputs": [
    {
     "data": {
      "text/plain": [
       "tensor([1.6000+0.j, 0.4000+0.j, 1.0000+0.j, 0.6536+0.j, 1.3464+0.j])"
      ]
     },
     "execution_count": 19,
     "metadata": {},
     "output_type": "execute_result"
    }
   ],
   "source": [
    "eigs = torch.linalg.eigvals(Ad / 2.5)\n",
    "eigs"
   ]
  },
  {
   "cell_type": "code",
   "execution_count": 21,
   "id": "4db040dc",
   "metadata": {},
   "outputs": [
    {
     "data": {
      "text/plain": [
       "tensor(crow_indices=tensor([ 0,  2,  5,  8, 11, 13]),\n",
       "       col_indices=tensor([0, 1, 0, 1, 2, 1, 2, 3, 2, 3, 4, 3, 4]),\n",
       "       values=tensor([ 2.5000, -1.5000, -0.5000,  2.5000, -1.5000, -0.5000,\n",
       "                       2.5000, -1.5000, -0.5000,  2.5000, -1.5000, -0.5000,\n",
       "                       2.5000]), size=(5, 5), nnz=13, layout=torch.sparse_csr)"
      ]
     },
     "execution_count": 21,
     "metadata": {},
     "output_type": "execute_result"
    }
   ],
   "source": [
    "Acsr = A.to_sparse_csr()\n",
    "Acsr"
   ]
  },
  {
   "cell_type": "code",
   "execution_count": 75,
   "id": "5ffd964a",
   "metadata": {},
   "outputs": [
    {
     "data": {
      "text/plain": [
       "tensor([0.0018, 0.0018, 0.0018, 0.0018, 0.0018])"
      ]
     },
     "execution_count": 75,
     "metadata": {},
     "output_type": "execute_result"
    }
   ],
   "source": [
    "sI"
   ]
  }
 ],
 "metadata": {
  "kernelspec": {
   "display_name": "Python 3 (ipykernel)",
   "language": "python",
   "name": "python3"
  },
  "language_info": {
   "codemirror_mode": {
    "name": "ipython",
    "version": 3
   },
   "file_extension": ".py",
   "mimetype": "text/x-python",
   "name": "python",
   "nbconvert_exporter": "python",
   "pygments_lexer": "ipython3",
   "version": "3.9.7"
  }
 },
 "nbformat": 4,
 "nbformat_minor": 5
}
