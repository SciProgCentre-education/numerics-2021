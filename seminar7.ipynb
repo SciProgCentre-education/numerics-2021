{
 "cells": [
  {
   "cell_type": "code",
   "execution_count": 1,
   "id": "e49c4ac6",
   "metadata": {},
   "outputs": [],
   "source": [
    "import torch"
   ]
  },
  {
   "cell_type": "code",
   "execution_count": 24,
   "id": "22646519",
   "metadata": {},
   "outputs": [
    {
     "data": {
      "text/plain": [
       "tensor([0.3354, 0.9282, 0.3346, 0.7336, 0.3097])"
      ]
     },
     "execution_count": 24,
     "metadata": {},
     "output_type": "execute_result"
    }
   ],
   "source": [
    "a = torch.rand(5)\n",
    "a"
   ]
  },
  {
   "cell_type": "code",
   "execution_count": 25,
   "id": "a0866371",
   "metadata": {},
   "outputs": [
    {
     "data": {
      "text/plain": [
       "False"
      ]
     },
     "execution_count": 25,
     "metadata": {},
     "output_type": "execute_result"
    }
   ],
   "source": [
    "a.requires_grad"
   ]
  },
  {
   "cell_type": "code",
   "execution_count": 26,
   "id": "758b7eb2",
   "metadata": {},
   "outputs": [],
   "source": [
    "a = a.requires_grad_()"
   ]
  },
  {
   "cell_type": "code",
   "execution_count": 27,
   "id": "b74bda8c",
   "metadata": {},
   "outputs": [
    {
     "data": {
      "text/plain": [
       "True"
      ]
     },
     "execution_count": 27,
     "metadata": {},
     "output_type": "execute_result"
    }
   ],
   "source": [
    "a.requires_grad"
   ]
  },
  {
   "cell_type": "code",
   "execution_count": 28,
   "id": "1e201cab",
   "metadata": {},
   "outputs": [],
   "source": [
    "b = torch.randn(5)\n",
    "b = b.requires_grad_()"
   ]
  },
  {
   "cell_type": "code",
   "execution_count": 30,
   "id": "c5f4808b",
   "metadata": {},
   "outputs": [],
   "source": [
    "v_1 = a"
   ]
  },
  {
   "cell_type": "code",
   "execution_count": 31,
   "id": "7bbdcad8",
   "metadata": {},
   "outputs": [],
   "source": [
    "v0 = b"
   ]
  },
  {
   "cell_type": "code",
   "execution_count": 32,
   "id": "1db051cb",
   "metadata": {},
   "outputs": [],
   "source": [
    "v2 = torch.log(v_1)\n",
    "v3 = v_1 * v0"
   ]
  },
  {
   "cell_type": "code",
   "execution_count": 33,
   "id": "036af56b",
   "metadata": {},
   "outputs": [],
   "source": [
    "v4 = v2 + v3\n",
    "v5 = torch.sin(v0)\n",
    "v6 = v4 - v5"
   ]
  },
  {
   "cell_type": "code",
   "execution_count": 34,
   "id": "e5d62f7a",
   "metadata": {},
   "outputs": [
    {
     "data": {
      "text/plain": [
       "tensor([-1.0521, -0.0566, -0.5892, -0.1868, -1.5987], grad_fn=<SubBackward0>)"
      ]
     },
     "execution_count": 34,
     "metadata": {},
     "output_type": "execute_result"
    }
   ],
   "source": [
    "v6"
   ]
  },
  {
   "cell_type": "code",
   "execution_count": 35,
   "id": "203d0a90",
   "metadata": {},
   "outputs": [],
   "source": [
    "v7 = v6.sum()"
   ]
  },
  {
   "cell_type": "code",
   "execution_count": 36,
   "id": "bc64b2bf",
   "metadata": {},
   "outputs": [
    {
     "data": {
      "text/plain": [
       "tensor(-3.4833, grad_fn=<SumBackward0>)"
      ]
     },
     "execution_count": 36,
     "metadata": {},
     "output_type": "execute_result"
    }
   ],
   "source": [
    "v7"
   ]
  },
  {
   "cell_type": "code",
   "execution_count": 37,
   "id": "5cd6a5eb",
   "metadata": {},
   "outputs": [],
   "source": [
    "gv7 = torch.autograd.grad(v7, [a,b])"
   ]
  },
  {
   "cell_type": "code",
   "execution_count": 38,
   "id": "57ef0f8f",
   "metadata": {},
   "outputs": [
    {
     "data": {
      "text/plain": [
       "(tensor([2.9209, 0.7325, 1.9946, 0.4627, 3.9270]),\n",
       " tensor([-0.6628, -0.0129, -0.2106,  0.1123, -0.4561]))"
      ]
     },
     "execution_count": 38,
     "metadata": {},
     "output_type": "execute_result"
    }
   ],
   "source": [
    "gv7"
   ]
  },
  {
   "cell_type": "markdown",
   "id": "3267e143",
   "metadata": {},
   "source": [
    "Differentiable programming in [science](https://github.com/grinisrit/noa/blob/master/docs/pms/differentiable_programming_pms.ipynb)"
   ]
  }
 ],
 "metadata": {
  "kernelspec": {
   "display_name": "Python 3 (ipykernel)",
   "language": "python",
   "name": "python3"
  },
  "language_info": {
   "codemirror_mode": {
    "name": "ipython",
    "version": 3
   },
   "file_extension": ".py",
   "mimetype": "text/x-python",
   "name": "python",
   "nbconvert_exporter": "python",
   "pygments_lexer": "ipython3",
   "version": "3.9.7"
  }
 },
 "nbformat": 4,
 "nbformat_minor": 5
}
