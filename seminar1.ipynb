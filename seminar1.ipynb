{
 "cells": [
  {
   "cell_type": "markdown",
   "metadata": {
    "id": "XbFNf-NY_QrQ"
   },
   "source": [
    "# Multidimensional arrays\n",
    "\n",
    "### Check installation"
   ]
  },
  {
   "cell_type": "code",
   "execution_count": null,
   "metadata": {
    "colab": {
     "base_uri": "https://localhost:8080/"
    },
    "executionInfo": {
     "elapsed": 299,
     "status": "ok",
     "timestamp": 1631602117047,
     "user": {
      "displayName": "Roland Grinis",
      "photoUrl": "https://lh3.googleusercontent.com/a-/AOh14GiDBdEki1MO4RhgPxBpC6DPn3v8Nvb9iGHBqotn=s64",
      "userId": "08673436192726619046"
     },
     "user_tz": -60
    },
    "id": "H0B2RK93R-M3",
    "outputId": "52df81f3-e898-488d-a443-c0a197cc1ec7"
   },
   "outputs": [],
   "source": [
    "!lscpu"
   ]
  },
  {
   "cell_type": "code",
   "execution_count": null,
   "metadata": {
    "colab": {
     "base_uri": "https://localhost:8080/"
    },
    "executionInfo": {
     "elapsed": 368,
     "status": "ok",
     "timestamp": 1631602120022,
     "user": {
      "displayName": "Roland Grinis",
      "photoUrl": "https://lh3.googleusercontent.com/a-/AOh14GiDBdEki1MO4RhgPxBpC6DPn3v8Nvb9iGHBqotn=s64",
      "userId": "08673436192726619046"
     },
     "user_tz": -60
    },
    "id": "tetnuwcy6kbj",
    "outputId": "30fb269e-7acf-44e8-9d36-7f4efab80859"
   },
   "outputs": [],
   "source": [
    "!nvidia-smi"
   ]
  },
  {
   "cell_type": "markdown",
   "metadata": {},
   "source": [
    "*Latency numbers every programmer should know* (Jeff Dean):\n",
    "\n",
    "**L1 cache reference 0.5 ns**\n",
    "\n",
    "**L2 cache reference 7 ns**\n",
    "\n",
    "**Main memory reference 100 ns**\n",
    "\n",
    "![CPUCUDA](https://docs.nvidia.com/cuda/cuda-c-programming-guide/graphics/gpu-devotes-more-transistors-to-data-processing.png)"
   ]
  },
  {
   "cell_type": "code",
   "execution_count": null,
   "metadata": {
    "colab": {
     "base_uri": "https://localhost:8080/"
    },
    "executionInfo": {
     "elapsed": 998,
     "status": "ok",
     "timestamp": 1631602122383,
     "user": {
      "displayName": "Roland Grinis",
      "photoUrl": "https://lh3.googleusercontent.com/a-/AOh14GiDBdEki1MO4RhgPxBpC6DPn3v8Nvb9iGHBqotn=s64",
      "userId": "08673436192726619046"
     },
     "user_tz": -60
    },
    "id": "yA06El-t1_Y3",
    "outputId": "e177243d-93f9-4061-a1a7-7a953cfd905c"
   },
   "outputs": [],
   "source": [
    "import numpy as np\n",
    "import numba as nb\n",
    "print(np.show_config())"
   ]
  },
  {
   "cell_type": "code",
   "execution_count": null,
   "metadata": {
    "colab": {
     "base_uri": "https://localhost:8080/"
    },
    "executionInfo": {
     "elapsed": 726,
     "status": "ok",
     "timestamp": 1631602125549,
     "user": {
      "displayName": "Roland Grinis",
      "photoUrl": "https://lh3.googleusercontent.com/a-/AOh14GiDBdEki1MO4RhgPxBpC6DPn3v8Nvb9iGHBqotn=s64",
      "userId": "08673436192726619046"
     },
     "user_tz": -60
    },
    "id": "84wlzxSWiexr",
    "outputId": "8a2b5408-49f5-499b-e6a2-5f5d9d4205ab"
   },
   "outputs": [],
   "source": [
    "import torch\n",
    "print(torch.__config__.show())\n",
    "print(torch.__config__.parallel_info())"
   ]
  },
  {
   "cell_type": "code",
   "execution_count": null,
   "metadata": {
    "executionInfo": {
     "elapsed": 930,
     "status": "ok",
     "timestamp": 1631604487862,
     "user": {
      "displayName": "Roland Grinis",
      "photoUrl": "https://lh3.googleusercontent.com/a-/AOh14GiDBdEki1MO4RhgPxBpC6DPn3v8Nvb9iGHBqotn=s64",
      "userId": "08673436192726619046"
     },
     "user_tz": -60
    },
    "id": "ZIzdqkOn0V8C"
   },
   "outputs": [],
   "source": [
    "N = 500\n",
    "a = np.random.normal(size=(N,N))\n",
    "b = np.random.normal(size=(N,N))\n",
    "a_ten = torch.tensor(a)\n",
    "b_ten = torch.tensor(b)\n",
    "a_tenc = a_ten.cuda()\n",
    "b_tenc = b_ten.cuda()"
   ]
  },
  {
   "cell_type": "code",
   "execution_count": null,
   "metadata": {
    "colab": {
     "base_uri": "https://localhost:8080/"
    },
    "executionInfo": {
     "elapsed": 8567,
     "status": "ok",
     "timestamp": 1631604483902,
     "user": {
      "displayName": "Roland Grinis",
      "photoUrl": "https://lh3.googleusercontent.com/a-/AOh14GiDBdEki1MO4RhgPxBpC6DPn3v8Nvb9iGHBqotn=s64",
      "userId": "08673436192726619046"
     },
     "user_tz": -60
    },
    "id": "56r_MV2Q1QT-",
    "outputId": "90b7d6af-5feb-407e-ae09-3229dd8854c3"
   },
   "outputs": [],
   "source": [
    "%timeit np.dot(a,b)"
   ]
  },
  {
   "cell_type": "code",
   "execution_count": null,
   "metadata": {
    "colab": {
     "base_uri": "https://localhost:8080/"
    },
    "executionInfo": {
     "elapsed": 4558,
     "status": "ok",
     "timestamp": 1631604230553,
     "user": {
      "displayName": "Roland Grinis",
      "photoUrl": "https://lh3.googleusercontent.com/a-/AOh14GiDBdEki1MO4RhgPxBpC6DPn3v8Nvb9iGHBqotn=s64",
      "userId": "08673436192726619046"
     },
     "user_tz": -60
    },
    "id": "5TrdvorL1rU0",
    "outputId": "ecc77326-7c96-4b56-b802-3f0f38904c7b"
   },
   "outputs": [],
   "source": [
    "%timeit torch.matmul(a_ten, b_ten)"
   ]
  },
  {
   "cell_type": "code",
   "execution_count": null,
   "metadata": {
    "colab": {
     "base_uri": "https://localhost:8080/"
    },
    "executionInfo": {
     "elapsed": 22472,
     "status": "ok",
     "timestamp": 1631604256215,
     "user": {
      "displayName": "Roland Grinis",
      "photoUrl": "https://lh3.googleusercontent.com/a-/AOh14GiDBdEki1MO4RhgPxBpC6DPn3v8Nvb9iGHBqotn=s64",
      "userId": "08673436192726619046"
     },
     "user_tz": -60
    },
    "id": "vVCGnuCB5mdk",
    "outputId": "663db3ec-b315-49b0-8f84-c6103f27676f"
   },
   "outputs": [],
   "source": [
    "%timeit torch.matmul(a_tenc, b_tenc)"
   ]
  },
  {
   "cell_type": "code",
   "execution_count": null,
   "metadata": {
    "executionInfo": {
     "elapsed": 322,
     "status": "ok",
     "timestamp": 1631604258154,
     "user": {
      "displayName": "Roland Grinis",
      "photoUrl": "https://lh3.googleusercontent.com/a-/AOh14GiDBdEki1MO4RhgPxBpC6DPn3v8Nvb9iGHBqotn=s64",
      "userId": "08673436192726619046"
     },
     "user_tz": -60
    },
    "id": "4Vw0Kc_Z2YS6"
   },
   "outputs": [],
   "source": [
    "a32 = np.random.normal(size=(N,N)).astype(np.float32)\n",
    "b32 = np.random.normal(size=(N,N)).astype(np.float32)\n",
    "a_ten32 = torch.tensor(a32)\n",
    "b_ten32 = torch.tensor(b32)\n",
    "a_tenc32 = a_ten32.cuda()\n",
    "b_tenc32 = b_ten32.cuda()"
   ]
  },
  {
   "cell_type": "code",
   "execution_count": null,
   "metadata": {
    "colab": {
     "base_uri": "https://localhost:8080/"
    },
    "executionInfo": {
     "elapsed": 3217,
     "status": "ok",
     "timestamp": 1631604263625,
     "user": {
      "displayName": "Roland Grinis",
      "photoUrl": "https://lh3.googleusercontent.com/a-/AOh14GiDBdEki1MO4RhgPxBpC6DPn3v8Nvb9iGHBqotn=s64",
      "userId": "08673436192726619046"
     },
     "user_tz": -60
    },
    "id": "VwK169uu1Z5N",
    "outputId": "7736802e-a2be-4120-96ca-ce3b8da84468"
   },
   "outputs": [],
   "source": [
    "%timeit np.dot(a32,b32)"
   ]
  },
  {
   "cell_type": "code",
   "execution_count": null,
   "metadata": {
    "colab": {
     "base_uri": "https://localhost:8080/"
    },
    "executionInfo": {
     "elapsed": 2679,
     "status": "ok",
     "timestamp": 1631604267986,
     "user": {
      "displayName": "Roland Grinis",
      "photoUrl": "https://lh3.googleusercontent.com/a-/AOh14GiDBdEki1MO4RhgPxBpC6DPn3v8Nvb9iGHBqotn=s64",
      "userId": "08673436192726619046"
     },
     "user_tz": -60
    },
    "id": "69pBi0Jo1etP",
    "outputId": "04db5dc6-def3-4c8a-ed6b-c7d85d5d0cc0"
   },
   "outputs": [],
   "source": [
    "%timeit torch.matmul(a_ten32, b_ten32)"
   ]
  },
  {
   "cell_type": "code",
   "execution_count": null,
   "metadata": {
    "colab": {
     "base_uri": "https://localhost:8080/"
    },
    "executionInfo": {
     "elapsed": 12372,
     "status": "ok",
     "timestamp": 1631604281070,
     "user": {
      "displayName": "Roland Grinis",
      "photoUrl": "https://lh3.googleusercontent.com/a-/AOh14GiDBdEki1MO4RhgPxBpC6DPn3v8Nvb9iGHBqotn=s64",
      "userId": "08673436192726619046"
     },
     "user_tz": -60
    },
    "id": "298JTSFp6IW_",
    "outputId": "a82d1fbc-0a5a-41de-c342-f446bafd63a4"
   },
   "outputs": [],
   "source": [
    "%timeit torch.matmul(a_tenc32, b_tenc32)"
   ]
  },
  {
   "cell_type": "code",
   "execution_count": null,
   "metadata": {
    "executionInfo": {
     "elapsed": 264,
     "status": "ok",
     "timestamp": 1631607276385,
     "user": {
      "displayName": "Roland Grinis",
      "photoUrl": "https://lh3.googleusercontent.com/a-/AOh14GiDBdEki1MO4RhgPxBpC6DPn3v8Nvb9iGHBqotn=s64",
      "userId": "08673436192726619046"
     },
     "user_tz": -60
    },
    "id": "XONi6elPDlOz"
   },
   "outputs": [],
   "source": [
    "def matmul(a, b):\n",
    "    n = a.shape[0]\n",
    "    k = a.shape[1]\n",
    "    m = b.shape[1]  \n",
    "    c = np.zeros((n, m))\n",
    "    for i in range(n):\n",
    "        for j in range(m):\n",
    "            for s in range(k):\n",
    "                c[i, j] += a[i, s] * b[s, j]\n",
    "                \n",
    "    return c\n",
    "\n",
    "N = 100\n",
    "a = np.random.normal(size=(N,N))\n",
    "b = np.random.normal(size=(N,N))"
   ]
  },
  {
   "cell_type": "code",
   "execution_count": null,
   "metadata": {
    "colab": {
     "base_uri": "https://localhost:8080/"
    },
    "executionInfo": {
     "elapsed": 8818,
     "status": "ok",
     "timestamp": 1631607288407,
     "user": {
      "displayName": "Roland Grinis",
      "photoUrl": "https://lh3.googleusercontent.com/a-/AOh14GiDBdEki1MO4RhgPxBpC6DPn3v8Nvb9iGHBqotn=s64",
      "userId": "08673436192726619046"
     },
     "user_tz": -60
    },
    "id": "I7YPmeYnOhv_",
    "outputId": "3fa0a894-ebae-4838-f995-cde5c793cc70"
   },
   "outputs": [],
   "source": [
    "%timeit np.dot(a,b)"
   ]
  },
  {
   "cell_type": "code",
   "execution_count": null,
   "metadata": {
    "colab": {
     "base_uri": "https://localhost:8080/"
    },
    "executionInfo": {
     "elapsed": 6391,
     "status": "ok",
     "timestamp": 1631604841742,
     "user": {
      "displayName": "Roland Grinis",
      "photoUrl": "https://lh3.googleusercontent.com/a-/AOh14GiDBdEki1MO4RhgPxBpC6DPn3v8Nvb9iGHBqotn=s64",
      "userId": "08673436192726619046"
     },
     "user_tz": -60
    },
    "id": "YKEMC55mJLtB",
    "outputId": "fe4533b7-7250-4a2c-8856-18106d02dec9"
   },
   "outputs": [],
   "source": [
    "%timeit matmul(a,b)"
   ]
  },
  {
   "cell_type": "code",
   "execution_count": null,
   "metadata": {
    "colab": {
     "base_uri": "https://localhost:8080/"
    },
    "executionInfo": {
     "elapsed": 1178,
     "status": "ok",
     "timestamp": 1631604584547,
     "user": {
      "displayName": "Roland Grinis",
      "photoUrl": "https://lh3.googleusercontent.com/a-/AOh14GiDBdEki1MO4RhgPxBpC6DPn3v8Nvb9iGHBqotn=s64",
      "userId": "08673436192726619046"
     },
     "user_tz": -60
    },
    "id": "91jWuRejK2AB",
    "outputId": "aa36b71d-0733-4b55-8629-04a1a3d2f435"
   },
   "outputs": [],
   "source": [
    "%prun matmul(a,b)"
   ]
  },
  {
   "cell_type": "code",
   "execution_count": null,
   "metadata": {
    "executionInfo": {
     "elapsed": 270,
     "status": "ok",
     "timestamp": 1631607319633,
     "user": {
      "displayName": "Roland Grinis",
      "photoUrl": "https://lh3.googleusercontent.com/a-/AOh14GiDBdEki1MO4RhgPxBpC6DPn3v8Nvb9iGHBqotn=s64",
      "userId": "08673436192726619046"
     },
     "user_tz": -60
    },
    "id": "yB1fAxnkONQp"
   },
   "outputs": [],
   "source": [
    "@nb.njit\n",
    "def numba_matmul(a, b):\n",
    "    n = a.shape[0]\n",
    "    k = a.shape[1]\n",
    "    m = b.shape[1]\n",
    "    c = np.zeros((n, m))\n",
    "    for i in range(n):\n",
    "        for j in range(m):\n",
    "            for s in range(k):\n",
    "                c[i, j] += a[i, s] * b[s, j]\n",
    "    return c"
   ]
  },
  {
   "cell_type": "code",
   "execution_count": null,
   "metadata": {
    "colab": {
     "base_uri": "https://localhost:8080/"
    },
    "executionInfo": {
     "elapsed": 8209,
     "status": "ok",
     "timestamp": 1631607331499,
     "user": {
      "displayName": "Roland Grinis",
      "photoUrl": "https://lh3.googleusercontent.com/a-/AOh14GiDBdEki1MO4RhgPxBpC6DPn3v8Nvb9iGHBqotn=s64",
      "userId": "08673436192726619046"
     },
     "user_tz": -60
    },
    "id": "ehHeUKndOUEq",
    "outputId": "f977bd0f-1341-46c3-e04d-236ff2e48366"
   },
   "outputs": [],
   "source": [
    "%timeit numba_matmul(a,b)"
   ]
  },
  {
   "cell_type": "markdown",
   "metadata": {
    "id": "a8ES87tad9_P"
   },
   "source": [
    "### Buffer Protocol\n",
    "\n",
    "```cpp\n",
    "struct buffer_info {\n",
    "    void *ptr; /* Pointer to buffer */\n",
    "    size_t itemsize; /* Size of one scalar */\n",
    "    size_t ndim; /* Number of dimensions */\n",
    "    size_t *shape; /* Buffer dimensions */\n",
    "    size_t *strides; /* Strides (in bytes) for each index */\n",
    "};\n",
    "```"
   ]
  },
  {
   "cell_type": "code",
   "execution_count": null,
   "metadata": {
    "colab": {
     "base_uri": "https://localhost:8080/"
    },
    "executionInfo": {
     "elapsed": 12,
     "status": "ok",
     "timestamp": 1631604995185,
     "user": {
      "displayName": "Roland Grinis",
      "photoUrl": "https://lh3.googleusercontent.com/a-/AOh14GiDBdEki1MO4RhgPxBpC6DPn3v8Nvb9iGHBqotn=s64",
      "userId": "08673436192726619046"
     },
     "user_tz": -60
    },
    "id": "wazLGOa5Zbq5",
    "outputId": "dea6040f-b59e-44c2-980f-a4ca8391581d"
   },
   "outputs": [],
   "source": [
    "a = np.random.normal(size=(4,5)).astype(np.float32)\n",
    "print(a.itemsize)\n",
    "print(a.ndim)\n",
    "print(a.shape)\n",
    "print(a.strides)\n",
    "a"
   ]
  },
  {
   "cell_type": "code",
   "execution_count": null,
   "metadata": {
    "colab": {
     "base_uri": "https://localhost:8080/"
    },
    "executionInfo": {
     "elapsed": 519,
     "status": "ok",
     "timestamp": 1631605340009,
     "user": {
      "displayName": "Roland Grinis",
      "photoUrl": "https://lh3.googleusercontent.com/a-/AOh14GiDBdEki1MO4RhgPxBpC6DPn3v8Nvb9iGHBqotn=s64",
      "userId": "08673436192726619046"
     },
     "user_tz": -60
    },
    "id": "CSJN9mQ9t2fT",
    "outputId": "b8388ed8-f4d1-4a89-8908-bf190b3dc365"
   },
   "outputs": [],
   "source": [
    "a_tor = torch.from_numpy(a)\n",
    "print(a_tor.dtype)\n",
    "print(a_tor.dim())\n",
    "print(a_tor.size())\n",
    "print(a_tor.stride())\n",
    "a_tor"
   ]
  },
  {
   "cell_type": "code",
   "execution_count": null,
   "metadata": {
    "colab": {
     "base_uri": "https://localhost:8080/"
    },
    "executionInfo": {
     "elapsed": 312,
     "status": "ok",
     "timestamp": 1631605352702,
     "user": {
      "displayName": "Roland Grinis",
      "photoUrl": "https://lh3.googleusercontent.com/a-/AOh14GiDBdEki1MO4RhgPxBpC6DPn3v8Nvb9iGHBqotn=s64",
      "userId": "08673436192726619046"
     },
     "user_tz": -60
    },
    "id": "4Ua38P4bt8lN",
    "outputId": "446a3c6d-f22d-4a1d-b6b1-0852b126b93a"
   },
   "outputs": [],
   "source": [
    "a_num = a_tor.numpy()\n",
    "a_num"
   ]
  },
  {
   "cell_type": "code",
   "execution_count": null,
   "metadata": {
    "colab": {
     "base_uri": "https://localhost:8080/"
    },
    "executionInfo": {
     "elapsed": 441,
     "status": "ok",
     "timestamp": 1631605359440,
     "user": {
      "displayName": "Roland Grinis",
      "photoUrl": "https://lh3.googleusercontent.com/a-/AOh14GiDBdEki1MO4RhgPxBpC6DPn3v8Nvb9iGHBqotn=s64",
      "userId": "08673436192726619046"
     },
     "user_tz": -60
    },
    "id": "vQ_sn2ZLuE4s",
    "outputId": "ac79d1ff-58e1-4298-8f6a-7af663b1308e"
   },
   "outputs": [],
   "source": [
    "a_tor[0,0] *= 10\n",
    "print(a_tor[0,0])"
   ]
  },
  {
   "cell_type": "code",
   "execution_count": null,
   "metadata": {
    "executionInfo": {
     "elapsed": 269,
     "status": "ok",
     "timestamp": 1631605363610,
     "user": {
      "displayName": "Roland Grinis",
      "photoUrl": "https://lh3.googleusercontent.com/a-/AOh14GiDBdEki1MO4RhgPxBpC6DPn3v8Nvb9iGHBqotn=s64",
      "userId": "08673436192726619046"
     },
     "user_tz": -60
    },
    "id": "rBTWh-wZ-jy2"
   },
   "outputs": [],
   "source": [
    "assert a[0,0] == a_tor[0,0].item()\n",
    "assert a[0,0] == a_num[0,0]"
   ]
  },
  {
   "cell_type": "markdown",
   "metadata": {
    "id": "k8fDii2sC02F"
   },
   "source": [
    "For more info have a look at: \n",
    "* PyTorch [docs](https://pytorch.org/tutorials/beginner/blitz/tensor_tutorial.html) \n",
    "* Numba [docs](https://numba.pydata.org/numba-doc/latest/index.html)"
   ]
  },
  {
   "cell_type": "markdown",
   "metadata": {
    "id": "5AjrqlmBBbMI"
   },
   "source": [
    "### Writing native extensions \n",
    "\n",
    "Tutorials worth working through include: \n",
    "* [numba & CUDA](http://numba.pydata.org/numba-doc/0.16.0/CUDAJit.html)\n",
    "* [CUDA made easy](https://developer.nvidia.com/blog/even-easier-introduction-cuda)\n",
    "* [CUDA guide](https://docs.nvidia.com/cuda/cuda-c-programming-guide/index.html)"
   ]
  },
  {
   "cell_type": "code",
   "execution_count": null,
   "metadata": {
    "executionInfo": {
     "elapsed": 272,
     "status": "ok",
     "timestamp": 1631608551912,
     "user": {
      "displayName": "Roland Grinis",
      "photoUrl": "https://lh3.googleusercontent.com/a-/AOh14GiDBdEki1MO4RhgPxBpC6DPn3v8Nvb9iGHBqotn=s64",
      "userId": "08673436192726619046"
     },
     "user_tz": -60
    },
    "id": "H-8Y6YP9UpL2"
   },
   "outputs": [],
   "source": [
    "N = 1 << 20\n",
    "x = torch.rand(N)\n",
    "y = torch.rand(N)\n",
    "x_cuda = x.cuda()\n",
    "y_cuda = y.cuda()"
   ]
  },
  {
   "cell_type": "code",
   "execution_count": null,
   "metadata": {
    "colab": {
     "base_uri": "https://localhost:8080/"
    },
    "executionInfo": {
     "elapsed": 10,
     "status": "ok",
     "timestamp": 1631607055040,
     "user": {
      "displayName": "Roland Grinis",
      "photoUrl": "https://lh3.googleusercontent.com/a-/AOh14GiDBdEki1MO4RhgPxBpC6DPn3v8Nvb9iGHBqotn=s64",
      "userId": "08673436192726619046"
     },
     "user_tz": -60
    },
    "id": "8GprLIAWW6wm",
    "outputId": "4cd009e3-83fe-48b2-8282-6ede405238f0"
   },
   "outputs": [],
   "source": [
    "print(torch.cuda.device_count())\n",
    "print(torch.cuda.get_device_properties(0))"
   ]
  },
  {
   "cell_type": "code",
   "execution_count": null,
   "metadata": {
    "colab": {
     "base_uri": "https://localhost:8080/"
    },
    "executionInfo": {
     "elapsed": 4818,
     "status": "ok",
     "timestamp": 1631606926687,
     "user": {
      "displayName": "Roland Grinis",
      "photoUrl": "https://lh3.googleusercontent.com/a-/AOh14GiDBdEki1MO4RhgPxBpC6DPn3v8Nvb9iGHBqotn=s64",
      "userId": "08673436192726619046"
     },
     "user_tz": -60
    },
    "id": "pa1SeGUAVTA7",
    "outputId": "6637b556-85b0-4488-cdfd-6f54707fa36d"
   },
   "outputs": [],
   "source": [
    "%timeit x*y"
   ]
  },
  {
   "cell_type": "code",
   "execution_count": null,
   "metadata": {
    "colab": {
     "base_uri": "https://localhost:8080/"
    },
    "executionInfo": {
     "elapsed": 5759,
     "status": "ok",
     "timestamp": 1631607135848,
     "user": {
      "displayName": "Roland Grinis",
      "photoUrl": "https://lh3.googleusercontent.com/a-/AOh14GiDBdEki1MO4RhgPxBpC6DPn3v8Nvb9iGHBqotn=s64",
      "userId": "08673436192726619046"
     },
     "user_tz": -60
    },
    "id": "XVhnJT69XN3g",
    "outputId": "1ad828f6-ba8c-4306-970f-7208897d0bb4"
   },
   "outputs": [],
   "source": [
    "%timeit x_cuda*y_cuda"
   ]
  },
  {
   "cell_type": "code",
   "execution_count": null,
   "metadata": {
    "executionInfo": {
     "elapsed": 7,
     "status": "ok",
     "timestamp": 1631607564194,
     "user": {
      "displayName": "Roland Grinis",
      "photoUrl": "https://lh3.googleusercontent.com/a-/AOh14GiDBdEki1MO4RhgPxBpC6DPn3v8Nvb9iGHBqotn=s64",
      "userId": "08673436192726619046"
     },
     "user_tz": -60
    },
    "id": "iisBdakcXS--"
   },
   "outputs": [],
   "source": [
    "@nb.njit\n",
    "def mult_numba(x,y):\n",
    "    r = np.zeros_like(x)\n",
    "    n = r.shape[0]\n",
    "    for i in range(n):\n",
    "        r[i] = x[i]*y[i]\n",
    "    return r"
   ]
  },
  {
   "cell_type": "code",
   "execution_count": null,
   "metadata": {
    "colab": {
     "base_uri": "https://localhost:8080/"
    },
    "executionInfo": {
     "elapsed": 5854,
     "status": "ok",
     "timestamp": 1631607602440,
     "user": {
      "displayName": "Roland Grinis",
      "photoUrl": "https://lh3.googleusercontent.com/a-/AOh14GiDBdEki1MO4RhgPxBpC6DPn3v8Nvb9iGHBqotn=s64",
      "userId": "08673436192726619046"
     },
     "user_tz": -60
    },
    "id": "gjhP9pCNY7Fg",
    "outputId": "cdfcc27a-7343-4f1a-c5e4-4717cea7a7b3"
   },
   "outputs": [],
   "source": [
    "%timeit mult_numba(x.numpy(), y.numpy())"
   ]
  },
  {
   "cell_type": "code",
   "execution_count": null,
   "metadata": {
    "executionInfo": {
     "elapsed": 313,
     "status": "ok",
     "timestamp": 1631608410891,
     "user": {
      "displayName": "Roland Grinis",
      "photoUrl": "https://lh3.googleusercontent.com/a-/AOh14GiDBdEki1MO4RhgPxBpC6DPn3v8Nvb9iGHBqotn=s64",
      "userId": "08673436192726619046"
     },
     "user_tz": -60
    },
    "id": "0d82l-D5ZFSb"
   },
   "outputs": [],
   "source": [
    "# Global Interpreter Lock (GIL) is released\n",
    "@nb.njit(parallel=True)\n",
    "def pmult_numba(x,y):\n",
    "    r = np.zeros_like(x)\n",
    "    n = r.shape[0]\n",
    "    for i in nb.prange(n):\n",
    "        r[i] = x[i]*y[i]\n",
    "    return r"
   ]
  },
  {
   "cell_type": "code",
   "execution_count": null,
   "metadata": {},
   "outputs": [],
   "source": [
    "(torch.from_numpy(pmult_numba(x.numpy(), y.numpy())) - x * y).abs().sum()"
   ]
  },
  {
   "cell_type": "code",
   "execution_count": null,
   "metadata": {
    "colab": {
     "base_uri": "https://localhost:8080/"
    },
    "executionInfo": {
     "elapsed": 7421,
     "status": "ok",
     "timestamp": 1631607797528,
     "user": {
      "displayName": "Roland Grinis",
      "photoUrl": "https://lh3.googleusercontent.com/a-/AOh14GiDBdEki1MO4RhgPxBpC6DPn3v8Nvb9iGHBqotn=s64",
      "userId": "08673436192726619046"
     },
     "user_tz": -60
    },
    "id": "H8YfUQi1ZNuS",
    "outputId": "46c13216-a58c-43b2-a50a-b87db10e92f8"
   },
   "outputs": [],
   "source": [
    "%timeit pmult_numba(x.numpy(), y.numpy())"
   ]
  },
  {
   "cell_type": "markdown",
   "metadata": {},
   "source": [
    "![multithreading](https://randu.org/tutorials/threads/images/process.png)"
   ]
  },
  {
   "cell_type": "code",
   "execution_count": null,
   "metadata": {
    "executionInfo": {
     "elapsed": 280,
     "status": "ok",
     "timestamp": 1631608314279,
     "user": {
      "displayName": "Roland Grinis",
      "photoUrl": "https://lh3.googleusercontent.com/a-/AOh14GiDBdEki1MO4RhgPxBpC6DPn3v8Nvb9iGHBqotn=s64",
      "userId": "08673436192726619046"
     },
     "user_tz": -60
    },
    "id": "W8ThRzZMaGIf"
   },
   "outputs": [],
   "source": [
    "import ctypes\n",
    "from numba import cuda\n",
    "def float_devicendarray(tensor):\n",
    "    assert tensor.type() == 'torch.cuda.FloatTensor'\n",
    "    assert tensor.is_cuda\n",
    "    ctx = cuda.cudadrv.devices.get_context(tensor.device.index)\n",
    "    mp = cuda.cudadrv.driver.MemoryPointer(ctx, ctypes.c_ulong(tensor.data_ptr()), tensor.numel()*4)\n",
    "    return cuda.cudadrv.devicearray.DeviceNDArray(tensor.size(), [i*4 for i in tensor.stride()], np.float32, \n",
    "                                                  gpu_data=mp, stream=torch.cuda.current_stream().cuda_stream)"
   ]
  },
  {
   "cell_type": "code",
   "execution_count": null,
   "metadata": {},
   "outputs": [],
   "source": [
    "torch.cuda.get_device_properties(0)"
   ]
  },
  {
   "cell_type": "markdown",
   "metadata": {},
   "source": [
    "![sm](https://docs.nvidia.com/cuda/cuda-c-programming-guide/graphics/automatic-scalability.png)\n",
    "\n",
    "![blocks](https://docs.nvidia.com/cuda/cuda-c-programming-guide/graphics/grid-of-thread-blocks.png)"
   ]
  },
  {
   "cell_type": "code",
   "execution_count": null,
   "metadata": {
    "colab": {
     "base_uri": "https://localhost:8080/"
    },
    "executionInfo": {
     "elapsed": 417,
     "status": "ok",
     "timestamp": 1631608578448,
     "user": {
      "displayName": "Roland Grinis",
      "photoUrl": "https://lh3.googleusercontent.com/a-/AOh14GiDBdEki1MO4RhgPxBpC6DPn3v8Nvb9iGHBqotn=s64",
      "userId": "08673436192726619046"
     },
     "user_tz": -60
    },
    "id": "YWOiuWyBbjsa",
    "outputId": "03a5074e-1c8c-47d9-bf64-17f9dad3faa8"
   },
   "outputs": [],
   "source": [
    "block_size = 256; #mulptiple of 32\n",
    "num_blocks = (N + block_size - 1) // block_size;\n",
    "num_blocks"
   ]
  },
  {
   "cell_type": "markdown",
   "metadata": {},
   "source": [
    "![CUDA](https://developer-blogs.nvidia.com/wp-content/uploads/2017/01/cuda_indexing.png)"
   ]
  },
  {
   "cell_type": "code",
   "execution_count": null,
   "metadata": {},
   "outputs": [],
   "source": [
    "@cuda.jit\n",
    "def mult_cuda_kernel(x,y,r,n):\n",
    "    index = cuda.blockIdx.x * cuda.blockDim.x + cuda.threadIdx.x\n",
    "    stride = cuda.blockDim.x * cuda.gridDim.x\n",
    "    for i in range(index, n, stride):\n",
    "        r[i] = x[i] * y[i]"
   ]
  },
  {
   "cell_type": "code",
   "execution_count": null,
   "metadata": {},
   "outputs": [],
   "source": [
    "def mult_numba_cuda(x,y):\n",
    "    r = torch.zeros_like(x)\n",
    "    x_gpu = float_devicendarray(x)\n",
    "    y_gpu = float_devicendarray(y)\n",
    "    r_gpu = float_devicendarray(r)\n",
    "    n = r.numel()\n",
    "    \n",
    "    mult_cuda_kernel[num_blocks, block_size](x_gpu, y_gpu, r_gpu, n)\n",
    "    \n",
    "    return r"
   ]
  },
  {
   "cell_type": "code",
   "execution_count": null,
   "metadata": {},
   "outputs": [],
   "source": [
    "(mult_numba_cuda(x_cuda,y_cuda) - x_cuda*y_cuda).abs().sum()"
   ]
  },
  {
   "cell_type": "code",
   "execution_count": null,
   "metadata": {},
   "outputs": [],
   "source": [
    "%timeit mult_numba_cuda(x_cuda,y_cuda)"
   ]
  },
  {
   "cell_type": "markdown",
   "metadata": {},
   "source": [
    "Further performance gain can be obtained by writing C++ extensions directly using LibTorch:\n",
    "* [PyTorch C++ extensions](https://pytorch.org/tutorials/advanced/cpp_extension.html)"
   ]
  },
  {
   "cell_type": "markdown",
   "metadata": {},
   "source": [
    "### Exercises\n",
    "\n",
    "**(1)** Think about how to speed up `mult_numba_cuda` \n",
    "\n",
    "**(2)** Provide a CUDA implementations for `numba_matmul` \n",
    "\n",
    "**(3)** Generate `N` random 2D rotations stacked up as a 3D tensor. Write a test for your implementation."
   ]
  },
  {
   "cell_type": "code",
   "execution_count": null,
   "metadata": {},
   "outputs": [],
   "source": [
    "# Hints:\n",
    "N = 3\n",
    "PI = 2. * torch.acos(torch.tensor(0.))\n",
    "thetas = 0.05 * PI * (torch.rand(N) - 0.5) # example of angles in radians\n",
    "\n",
    "# return a 3D tensor of rotations given thetas \n",
    "# def get_rotations(thetas):\n",
    "#   ...\n",
    "    "
   ]
  }
 ],
 "metadata": {
  "accelerator": "GPU",
  "colab": {
   "authorship_tag": "ABX9TyPPbVELBnnUtM4Q5d8eFX3V",
   "collapsed_sections": [],
   "name": "seminar1.ipynb",
   "provenance": []
  },
  "kernelspec": {
   "display_name": "Python 3 (ipykernel)",
   "language": "python",
   "name": "python3"
  },
  "language_info": {
   "codemirror_mode": {
    "name": "ipython",
    "version": 3
   },
   "file_extension": ".py",
   "mimetype": "text/x-python",
   "name": "python",
   "nbconvert_exporter": "python",
   "pygments_lexer": "ipython3",
   "version": "3.9.7"
  }
 },
 "nbformat": 4,
 "nbformat_minor": 1
}
