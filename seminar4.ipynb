{
  "cells":[
    {
      "cell_type":"markdown",
      "source":[
        "# Lagrange multipliers with linear constraints\n",
        "\n",
        "Find $x$ minimising $Ax-b$ subject to $Cx=0$ for given matrices $A$ and $C$, and vector $b$"
      ],
      "attachments":{
        
      },
      "metadata":{
        
      }
    },
    {
      "cell_type":"code",
      "source":[
        "import torch"
      ],
      "execution_count":3,
      "outputs":[
        
      ],
      "metadata":{
        
      }
    },
    {
      "cell_type":"code",
      "source":[
        "A = torch.randn((4,5))\n",
        "b = torch.randn(4)"
      ],
      "execution_count":7,
      "outputs":[
        
      ],
      "metadata":{
        
      }
    },
    {
      "cell_type":"code",
      "source":[
        "b"
      ],
      "execution_count":17,
      "outputs":[
        {
          "data":{
            "text\/plain":[
              "tensor([-0.3866,  0.4465,  0.2469, -2.1861])"
            ]
          },
          "metadata":{
            
          },
          "output_type":"display_data"
        }
      ],
      "metadata":{
        
      }
    },
    {
      "cell_type":"code",
      "source":[
        "C = torch.randn((2,5))\n",
        "C"
      ],
      "execution_count":19,
      "outputs":[
        {
          "data":{
            "text\/plain":[
              "tensor([[-1.0278,  0.5114, -0.2278,  0.2709, -0.8773],\n",
              "        [-1.4287,  2.0034, -0.7780, -0.6382,  0.5039]])"
            ]
          },
          "metadata":{
            
          },
          "output_type":"display_data"
        }
      ],
      "metadata":{
        
      }
    },
    {
      "cell_type":"code",
      "source":[
        "def compute_kernel(C):\n",
        "    Uc, Sc, VTc = torch.linalg.svd(C)\n",
        "    Vc = VTc.t()\n",
        "    n = Sc[Sc > 1e-3].numel()\n",
        "    Kc = Vc[:,n:]\n",
        "    return Kc"
      ],
      "execution_count":91,
      "outputs":[
        
      ],
      "metadata":{
        
      }
    },
    {
      "cell_type":"code",
      "source":[
        "def lagrange_optimise(A,b,C):\n",
        "    Kc = compute_kernel(C)\n",
        "    Ap  = A @ Kc\n",
        "    U, S, Vt = torch.linalg.svd(Ap)\n",
        "    iS = torch.where(S > 1e-3, 1\/S, torch.tensor(0.))\n",
        "    xp = Vt.t() @ torch.diag(iS) @ U.t() @ b\n",
        "    return Kc @ xp"
      ],
      "execution_count":118,
      "outputs":[
        
      ],
      "metadata":{
        
      }
    },
    {
      "cell_type":"code",
      "source":[
        "x = lagrange_optimise(A,b,C)"
      ],
      "execution_count":115,
      "outputs":[
        
      ],
      "metadata":{
        
      }
    },
    {
      "cell_type":"code",
      "source":[
        "torch.norm(C @ x)"
      ],
      "execution_count":117,
      "outputs":[
        {
          "data":{
            "text\/plain":[
              "tensor(2.4576e-07)"
            ]
          },
          "metadata":{
            
          },
          "output_type":"display_data"
        }
      ],
      "metadata":{
        
      }
    },
    {
      "cell_type":"code",
      "source":[
        "torch.norm(A @ x - b)"
      ],
      "execution_count":119,
      "outputs":[
        {
          "data":{
            "text\/plain":[
              "tensor(8.3247e-07)"
            ]
          },
          "metadata":{
            
          },
          "output_type":"display_data"
        }
      ],
      "metadata":{
        
      }
    }
  ],
  "metadata":{
    
  },
  "nbformat":4,
  "nbformat_minor":0
}