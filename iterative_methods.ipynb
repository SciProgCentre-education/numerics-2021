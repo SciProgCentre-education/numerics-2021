{
 "cells": [
  {
   "cell_type": "markdown",
   "id": "631755b9",
   "metadata": {},
   "source": [
    "# Linear Iterative Solvers\n",
    "\n",
    "The aim is to solve the system:\n",
    "$$\n",
    "A \\textbf{x} = \\textbf{b}\n",
    "$$\n",
    "where $A \\in \\mathbb{R}^{m \\times n}$ is a linear operator typically represented as a sparse matrix.\n",
    "\n",
    "General reference:\n",
    "* Saad, Y. *Iterative Methods for Sparse Linear Systems*, SIAM, 2003.\n",
    "*  [TNL solvers](https://mmg-gitlab.fjfi.cvut.cz/doc/tnl/md_Tutorials_Solvers_Linear_tutorial_Linear_solvers.html)"
   ]
  },
  {
   "cell_type": "code",
   "execution_count": null,
   "id": "e5ca55f1",
   "metadata": {},
   "outputs": [],
   "source": [
    "import torch"
   ]
  },
  {
   "cell_type": "code",
   "execution_count": null,
   "id": "1621b8c2",
   "metadata": {},
   "outputs": [],
   "source": [
    "!git clone https://github.com/grinisrit/noa.git"
   ]
  },
  {
   "cell_type": "code",
   "execution_count": null,
   "id": "c95035d0",
   "metadata": {},
   "outputs": [],
   "source": [
    "!mkdir -p build"
   ]
  },
  {
   "cell_type": "code",
   "execution_count": null,
   "id": "6e33916e",
   "metadata": {},
   "outputs": [],
   "source": [
    "noa_location = 'noa'\n",
    "from torch.utils.cpp_extension import load"
   ]
  },
  {
   "cell_type": "markdown",
   "id": "e54e3366",
   "metadata": {},
   "source": [
    "You need the following files:\n",
    "* iterative-methods.hh\n",
    "* iterative-methods.cc\n",
    "* iterative-methods.cu"
   ]
  },
  {
   "cell_type": "code",
   "execution_count": null,
   "id": "0e4a76bc",
   "metadata": {},
   "outputs": [],
   "source": [
    "iterative_methods = load(name='iterative_methods',\n",
    "             build_directory='./build',\n",
    "             sources=['iterative-methods.cc'],\n",
    "             extra_include_paths=[f'{noa_location}/src', '.'],    \n",
    "             extra_cflags=['-O3 -std=c++17 -fopenmp'],\n",
    "             verbose=True)"
   ]
  },
  {
   "cell_type": "code",
   "execution_count": null,
   "id": "4d1f8e62",
   "metadata": {},
   "outputs": [],
   "source": [
    "iterative_methods_cuda = load(name='iterative_methods_cuda',\n",
    "             build_directory='./build',\n",
    "             sources=['iterative-methods.cu'],\n",
    "             extra_include_paths=[f'{noa_location}/src', '.'],    \n",
    "             extra_cflags=['-O3 -std=c++17'],\n",
    "             extra_cuda_cflags=['-std=c++17 --expt-relaxed-constexpr --expt-extended-lambda'],\n",
    "             verbose=True)  if torch.cuda.is_available() else None"
   ]
  },
  {
   "cell_type": "code",
   "execution_count": null,
   "id": "79e945a5",
   "metadata": {},
   "outputs": [],
   "source": [
    "def generate_tridiagonal(n, l, d, u):\n",
    "    c = torch.tensor([-1,0,1]).repeat(n)\n",
    "    r = torch.arange(n).repeat_interleave(3)\n",
    "    cr = c + r\n",
    "    rows = r[1:-1]\n",
    "    cols = cr[1:-1]\n",
    "    vals = torch.tensor([l, d ,u]).repeat(n)[1:-1]\n",
    "    Ai = torch.stack([rows, cols])\n",
    "    A = torch.sparse_coo_tensor(Ai, vals, (n,n))\n",
    "    return A"
   ]
  },
  {
   "cell_type": "code",
   "execution_count": null,
   "id": "c1c54300",
   "metadata": {},
   "outputs": [],
   "source": [
    "n = 100000\n",
    "A = generate_tridiagonal(n, -0.5, 2.5, -1.5)"
   ]
  },
  {
   "cell_type": "code",
   "execution_count": null,
   "id": "a73bad8c",
   "metadata": {},
   "outputs": [],
   "source": [
    "Ad = A.to_dense()"
   ]
  },
  {
   "cell_type": "code",
   "execution_count": null,
   "id": "6309cb3c",
   "metadata": {},
   "outputs": [],
   "source": [
    "A_cu = A.cuda()"
   ]
  },
  {
   "cell_type": "code",
   "execution_count": null,
   "id": "4db040dc",
   "metadata": {},
   "outputs": [],
   "source": [
    "Acsr = A.to_sparse_csr()"
   ]
  },
  {
   "cell_type": "code",
   "execution_count": null,
   "id": "e9c9f97a",
   "metadata": {},
   "outputs": [],
   "source": [
    "Acsr_cu = A_cu.to_sparse_csr() # Acsr.cuda() is not supported as of torch 1.10.2"
   ]
  },
  {
   "cell_type": "markdown",
   "id": "8e37c62c",
   "metadata": {},
   "source": [
    "CSR format with indices data over `int` is preferred."
   ]
  },
  {
   "cell_type": "code",
   "execution_count": null,
   "id": "53be4a8e",
   "metadata": {},
   "outputs": [],
   "source": [
    "def get_csr_data(csr_matrix):\n",
    "    values =  csr_matrix.values() \n",
    "    crow_indices = csr_matrix.crow_indices().int()\n",
    "    col_indices = csr_matrix.col_indices().int()\n",
    "    return (crow_indices, col_indices, values)"
   ]
  },
  {
   "cell_type": "code",
   "execution_count": null,
   "id": "754d2d84",
   "metadata": {},
   "outputs": [],
   "source": [
    "Acsr_data = get_csr_data(Acsr)"
   ]
  },
  {
   "cell_type": "code",
   "execution_count": null,
   "id": "fe080c2f",
   "metadata": {},
   "outputs": [],
   "source": [
    "Acsr_data_cu = get_csr_data(Acsr_cu)"
   ]
  },
  {
   "cell_type": "code",
   "execution_count": null,
   "id": "8aeee59e",
   "metadata": {},
   "outputs": [],
   "source": [
    "x0 = torch.ones(n)"
   ]
  },
  {
   "cell_type": "code",
   "execution_count": null,
   "id": "e6c6cd5c",
   "metadata": {},
   "outputs": [],
   "source": [
    "x0_cu = x0.cuda()"
   ]
  },
  {
   "cell_type": "code",
   "execution_count": null,
   "id": "8766fc51",
   "metadata": {},
   "outputs": [],
   "source": [
    "b = Acsr @ x0\n",
    "b[:5]"
   ]
  },
  {
   "cell_type": "code",
   "execution_count": null,
   "id": "ba8a32fb",
   "metadata": {},
   "outputs": [],
   "source": [
    "b_cu = Acsr_cu @  x0_cu\n",
    "b_cu[:5]"
   ]
  },
  {
   "cell_type": "markdown",
   "id": "81f0500f",
   "metadata": {},
   "source": [
    "## Stationary methods\n",
    "\n",
    "Those are fixed point methods. Numerically more robust, they might suffer from computational costs due to slow convergence."
   ]
  },
  {
   "cell_type": "markdown",
   "id": "13e66b7f",
   "metadata": {},
   "source": [
    "### Jacobi method\n",
    "\n",
    "* [Wiki](https://en.wikipedia.org/wiki/Jacobi_method) reference\n",
    "* [TNL docs](https://mmg-gitlab.fjfi.cvut.cz/doc/tnl/classTNL_1_1Solvers_1_1Linear_1_1Jacobi.html)"
   ]
  },
  {
   "cell_type": "code",
   "execution_count": null,
   "id": "e29c52dd",
   "metadata": {},
   "outputs": [],
   "source": [
    "x = iterative_methods.jacobi_solve(*Acsr_data, b, 1.0)\n",
    "torch.dist(x,x0)/n"
   ]
  },
  {
   "cell_type": "code",
   "execution_count": null,
   "id": "c2af4dee",
   "metadata": {},
   "outputs": [],
   "source": [
    "x_cu = iterative_methods_cuda.jacobi_solve(*Acsr_data_cu, b_cu, 1.0)\n",
    "torch.dist(x_cu.cpu(), x0)/n"
   ]
  },
  {
   "cell_type": "code",
   "execution_count": null,
   "id": "c709563b",
   "metadata": {},
   "outputs": [],
   "source": [
    "%timeit iterative_methods.jacobi_solve(*Acsr_data, b, 1.0)"
   ]
  },
  {
   "cell_type": "code",
   "execution_count": null,
   "id": "ef5527fb",
   "metadata": {},
   "outputs": [],
   "source": [
    "%timeit iterative_methods_cuda.jacobi_solve(*Acsr_data_cu, b_cu, 1.0)"
   ]
  },
  {
   "cell_type": "markdown",
   "id": "e724d818",
   "metadata": {},
   "source": [
    "### SOR method\n",
    "\n",
    "* [Wiki](https://en.wikipedia.org/wiki/Successive_over-relaxation) reference\n",
    "* [TNL docs](https://mmg-gitlab.fjfi.cvut.cz/doc/tnl/classTNL_1_1Solvers_1_1Linear_1_1SOR.html)"
   ]
  },
  {
   "cell_type": "code",
   "execution_count": null,
   "id": "af515148",
   "metadata": {},
   "outputs": [],
   "source": [
    "x = iterative_methods.sor_solve(*Acsr_data, b, 1.0)\n",
    "torch.dist(x,x0)/n"
   ]
  },
  {
   "cell_type": "code",
   "execution_count": null,
   "id": "1fe19606",
   "metadata": {},
   "outputs": [],
   "source": [
    "x_cu = iterative_methods_cuda.sor_solve(*Acsr_data_cu, b_cu, 1.0)\n",
    "torch.dist(x_cu.cpu(), x0)/n"
   ]
  },
  {
   "cell_type": "code",
   "execution_count": null,
   "id": "72b8e086",
   "metadata": {},
   "outputs": [],
   "source": [
    "%timeit iterative_methods.sor_solve(*Acsr_data, b, 1.0)"
   ]
  },
  {
   "cell_type": "code",
   "execution_count": null,
   "id": "748f4978",
   "metadata": {},
   "outputs": [],
   "source": [
    "%timeit iterative_methods_cuda.sor_solve(*Acsr_data_cu, b_cu, 1.0)"
   ]
  }
 ],
 "metadata": {
  "kernelspec": {
   "display_name": "Python 3 (ipykernel)",
   "language": "python",
   "name": "python3"
  },
  "language_info": {
   "codemirror_mode": {
    "name": "ipython",
    "version": 3
   },
   "file_extension": ".py",
   "mimetype": "text/x-python",
   "name": "python",
   "nbconvert_exporter": "python",
   "pygments_lexer": "ipython3",
   "version": "3.9.7"
  }
 },
 "nbformat": 4,
 "nbformat_minor": 5
}
