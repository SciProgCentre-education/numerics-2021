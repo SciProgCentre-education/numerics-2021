{
 "cells": [
  {
   "cell_type": "markdown",
   "id": "788c31ba",
   "metadata": {},
   "source": [
    "# C++/CUDA extensions for Python\n",
    "\n",
    "## Introduction"
   ]
  },
  {
   "cell_type": "code",
   "execution_count": null,
   "id": "64f7cb12",
   "metadata": {},
   "outputs": [],
   "source": [
    "!lscpu"
   ]
  },
  {
   "cell_type": "code",
   "execution_count": null,
   "id": "4f94fa98",
   "metadata": {},
   "outputs": [],
   "source": [
    "!nvidia-smi"
   ]
  },
  {
   "cell_type": "markdown",
   "id": "d846b646",
   "metadata": {},
   "source": [
    "*Latency numbers every programmer should know* (Jeff Dean):\n",
    "\n",
    "**L1 cache reference 0.5 ns**\n",
    "\n",
    "**L2 cache reference 7 ns**\n",
    "\n",
    "**Main memory reference 100 ns**\n",
    "\n",
    "![CPUCUDA](https://docs.nvidia.com/cuda/cuda-c-programming-guide/graphics/gpu-devotes-more-transistors-to-data-processing.png)"
   ]
  },
  {
   "cell_type": "markdown",
   "id": "ff977b18",
   "metadata": {},
   "source": [
    "## PyTorch extensions\n",
    "\n",
    "More info:\n",
    "* [PyTorch C++ tutorial](https://pytorch.org/tutorials/advanced/cpp_extension.html)\n",
    "* [Pybind11 docs](https://pybind11.readthedocs.io/en/stable/basics.html)"
   ]
  },
  {
   "cell_type": "code",
   "execution_count": null,
   "id": "5ec584dc",
   "metadata": {},
   "outputs": [],
   "source": [
    "!gcc --version\n",
    "!g++ --version"
   ]
  },
  {
   "cell_type": "markdown",
   "id": "777e4677",
   "metadata": {},
   "source": [
    "### Set-up\n",
    "\n",
    "If you are on Google Colab execute:\n",
    "```\n",
    "!pip install Ninja\n",
    "!add-apt-repository ppa:ubuntu-toolchain-r/test -y\n",
    "!apt update\n",
    "!apt upgrade -y\n",
    "!apt install gcc-9 g++-9\n",
    "!update-alternatives --install /usr/bin/gcc gcc /usr/bin/gcc-9 100 --slave /usr/bin/g++ g++ /usr/bin/g++-9\n",
    "```"
   ]
  },
  {
   "cell_type": "code",
   "execution_count": null,
   "id": "ea88842e",
   "metadata": {},
   "outputs": [],
   "source": [
    "import torch\n",
    "from torch.utils.cpp_extension import load\n",
    "print(torch.__config__.show())\n",
    "print(torch.__config__.parallel_info())"
   ]
  },
  {
   "cell_type": "markdown",
   "id": "e366023a",
   "metadata": {},
   "source": [
    "```cpp\n",
    "//cpp_intro.cc file\n",
    "\n",
    "#include <torch/extension.h>\n",
    "\n",
    "torch::Tensor get_rotations(const torch::Tensor &thetas) {\n",
    "    const auto f = thetas.flatten();\n",
    "    const auto n = f.numel();\n",
    "    const auto c = torch::cos(f);\n",
    "    const auto s = torch::sin(f);\n",
    "    return torch::stack({c, -s, s, c}).t().view({n, 2, 2});\n",
    "}\n",
    "\n",
    "PYBIND11_MODULE(TORCH_EXTENSION_NAME, m) {\n",
    "    m.def(\"get_rotations\", &get_rotations, py::call_guard<py::gil_scoped_release>(),\n",
    "          \"Generate 2D rotations given angles thetas\");\n",
    "}\n",
    "```"
   ]
  },
  {
   "cell_type": "code",
   "execution_count": null,
   "id": "1c4b9f05",
   "metadata": {},
   "outputs": [],
   "source": [
    "!mkdir -p build"
   ]
  },
  {
   "cell_type": "code",
   "execution_count": null,
   "id": "d8754a79",
   "metadata": {},
   "outputs": [],
   "source": [
    "cpp_intro = load(name='cpp_intro',\n",
    "             build_directory='./build',\n",
    "             sources=['cpp_intro.cc'],\n",
    "             extra_cflags=['-Wall -Wextra -Wpedantic -O3 -std=c++17'],\n",
    "             verbose=True)"
   ]
  },
  {
   "cell_type": "code",
   "execution_count": null,
   "id": "230ae24e",
   "metadata": {},
   "outputs": [],
   "source": [
    "N = 3\n",
    "PI = 2. * torch.acos(torch.tensor(0.))\n",
    "thetas = 0.05 * PI * (torch.rand(N) - 0.5) # example of angles in radians\n",
    "rots = cpp_intro.get_rotations(thetas)\n",
    "rots"
   ]
  },
  {
   "cell_type": "code",
   "execution_count": null,
   "id": "c9e08b72",
   "metadata": {},
   "outputs": [],
   "source": [
    "torch.dist(rots.matmul(rots.transpose(-1,-2)), torch.eye(2))"
   ]
  },
  {
   "cell_type": "markdown",
   "id": "91bb984e",
   "metadata": {},
   "source": [
    "## Heterogeneous computing with TNL \n",
    "\n",
    "Tutorials worth working through include: \n",
    "* [TNL tutorials](https://mmg-gitlab.fjfi.cvut.cz/doc/tnl/md_Tutorials_index.html#Tutorials)\n",
    "* [CUDA made easy](https://developer.nvidia.com/blog/even-easier-introduction-cuda)\n",
    "* [CUDA guide](https://docs.nvidia.com/cuda/cuda-c-programming-guide/index.html)"
   ]
  },
  {
   "cell_type": "code",
   "execution_count": null,
   "id": "3bda9abf",
   "metadata": {},
   "outputs": [],
   "source": [
    "torch.cuda.is_available()"
   ]
  },
  {
   "cell_type": "code",
   "execution_count": null,
   "id": "643c72eb",
   "metadata": {},
   "outputs": [],
   "source": [
    "!nvcc --version"
   ]
  },
  {
   "cell_type": "markdown",
   "id": "f592f779",
   "metadata": {},
   "source": [
    "![multithreading](https://randu.org/tutorials/threads/images/process.png)"
   ]
  },
  {
   "cell_type": "markdown",
   "id": "346bc986",
   "metadata": {},
   "source": [
    "![sm](https://docs.nvidia.com/cuda/cuda-c-programming-guide/graphics/automatic-scalability.png)"
   ]
  },
  {
   "cell_type": "markdown",
   "id": "a0402a92",
   "metadata": {},
   "source": [
    "![blocks](https://docs.nvidia.com/cuda/cuda-c-programming-guide/graphics/grid-of-thread-blocks.png)"
   ]
  },
  {
   "cell_type": "markdown",
   "id": "19ce9378",
   "metadata": {},
   "source": [
    "![CUDA](https://developer-blogs.nvidia.com/wp-content/uploads/2017/01/cuda_indexing.png)"
   ]
  },
  {
   "cell_type": "markdown",
   "id": "f1aee565",
   "metadata": {},
   "source": [
    "A [TNL](https://mmg-gitlab.fjfi.cvut.cz/gitlab/tnl/tnl-dev) version compatible with PyTorch is also available as third-party library within [NOA](https://github.com/grinisrit/noa)"
   ]
  },
  {
   "cell_type": "code",
   "execution_count": null,
   "id": "02d677a4",
   "metadata": {},
   "outputs": [],
   "source": [
    "!git clone https://github.com/grinisrit/noa.git"
   ]
  },
  {
   "cell_type": "code",
   "execution_count": null,
   "id": "c0260a0a",
   "metadata": {},
   "outputs": [],
   "source": [
    "noa_location = 'noa'"
   ]
  },
  {
   "cell_type": "markdown",
   "id": "6d70faab",
   "metadata": {},
   "source": [
    "Make sure that the following files are available with in the folder you run the notebook from\n",
    "* tnl-intro.cc\n",
    "* tnl-intro.cu\n",
    "* tnl-intro.hh\n",
    "* utils.hh"
   ]
  },
  {
   "cell_type": "code",
   "execution_count": null,
   "id": "993bfc41",
   "metadata": {},
   "outputs": [],
   "source": [
    "tnl_intro = load(name='tnl_intro',\n",
    "             build_directory='./build',\n",
    "             sources=['tnl-intro.cc'],\n",
    "             extra_include_paths=[f'{noa_location}/src', '.'],    \n",
    "             extra_cflags=['-O3 -std=c++17 -fopenmp'],\n",
    "             verbose=True)"
   ]
  },
  {
   "cell_type": "code",
   "execution_count": null,
   "id": "b166da06",
   "metadata": {},
   "outputs": [],
   "source": [
    "tnl_intro_cuda = load(name='tnl_intro_cuda',\n",
    "             build_directory='./build',\n",
    "             sources=['tnl-intro.cu'],\n",
    "             extra_include_paths=[f'{noa_location}/src', '.'],    \n",
    "             extra_cflags=['-O3 -std=c++17'],\n",
    "             extra_cuda_cflags=['-std=c++17 --expt-relaxed-constexpr --expt-extended-lambda'],\n",
    "             verbose=True)  if torch.cuda.is_available() else None"
   ]
  },
  {
   "cell_type": "code",
   "execution_count": null,
   "id": "8352d016",
   "metadata": {},
   "outputs": [],
   "source": [
    "t = torch.randn(10000000)\n",
    "t_cuda = t.cuda()"
   ]
  },
  {
   "cell_type": "code",
   "execution_count": null,
   "id": "6a54cc69",
   "metadata": {},
   "outputs": [],
   "source": [
    "tnl_intro.map_reduce(t)"
   ]
  },
  {
   "cell_type": "code",
   "execution_count": null,
   "id": "06a92de7",
   "metadata": {},
   "outputs": [],
   "source": [
    "tnl_intro.map_reduce(t_cuda)"
   ]
  },
  {
   "cell_type": "code",
   "execution_count": null,
   "id": "f928e1bf",
   "metadata": {},
   "outputs": [],
   "source": [
    "tnl_intro_cuda.map_reduce(t_cuda)"
   ]
  },
  {
   "cell_type": "code",
   "execution_count": null,
   "id": "975eb28b",
   "metadata": {},
   "outputs": [],
   "source": [
    "%timeit tnl_intro.map_reduce(t)"
   ]
  },
  {
   "cell_type": "code",
   "execution_count": null,
   "id": "eccc4d38",
   "metadata": {},
   "outputs": [],
   "source": [
    "%timeit tnl_intro_cuda.map_reduce(t_cuda)"
   ]
  }
 ],
 "metadata": {
  "kernelspec": {
   "display_name": "Python 3 (ipykernel)",
   "language": "python",
   "name": "python3"
  },
  "language_info": {
   "codemirror_mode": {
    "name": "ipython",
    "version": 3
   },
   "file_extension": ".py",
   "mimetype": "text/x-python",
   "name": "python",
   "nbconvert_exporter": "python",
   "pygments_lexer": "ipython3",
   "version": "3.9.7"
  }
 },
 "nbformat": 4,
 "nbformat_minor": 5
}
